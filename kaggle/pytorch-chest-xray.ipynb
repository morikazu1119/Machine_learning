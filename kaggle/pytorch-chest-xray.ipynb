{
 "cells": [
  {
   "cell_type": "markdown",
   "id": "ee97df6c",
   "metadata": {
    "papermill": {
     "duration": 0.009293,
     "end_time": "2024-03-02T15:22:04.926096",
     "exception": false,
     "start_time": "2024-03-02T15:22:04.916803",
     "status": "completed"
    },
    "tags": []
   },
   "source": [
    "## Import library "
   ]
  },
  {
   "cell_type": "code",
   "execution_count": 1,
   "id": "9c4f9eed",
   "metadata": {
    "execution": {
     "iopub.execute_input": "2024-03-02T15:22:04.946168Z",
     "iopub.status.busy": "2024-03-02T15:22:04.945405Z",
     "iopub.status.idle": "2024-03-02T15:22:15.167406Z",
     "shell.execute_reply": "2024-03-02T15:22:15.166487Z"
    },
    "papermill": {
     "duration": 10.234858,
     "end_time": "2024-03-02T15:22:15.169858",
     "exception": false,
     "start_time": "2024-03-02T15:22:04.935000",
     "status": "completed"
    },
    "tags": []
   },
   "outputs": [],
   "source": [
    "import random\n",
    "import os\n",
    "\n",
    "from sklearn.pipeline import Pipeline\n",
    "from sklearn.impute import SimpleImputer\n",
    "from sklearn.compose import ColumnTransformer\n",
    "from sklearn import set_config\n",
    "from sklearn.base import clone\n",
    "from sklearn.model_selection import StratifiedKFold, cross_val_predict, train_test_split\n",
    "from sklearn.inspection import permutation_importance\n",
    "from sklearn.utils import shuffle\n",
    "from sklearn.preprocessing import FunctionTransformer, StandardScaler, MinMaxScaler, RobustScaler, OneHotEncoder, LabelEncoder\n",
    "from sklearn.metrics import confusion_matrix, ConfusionMatrixDisplay, accuracy_score , classification_report\n",
    "\n",
    "import torch\n",
    "import torch.nn as nn\n",
    "from torch.utils.data import Dataset,DataLoader\n",
    "from torch.utils.data import TensorDataset\n",
    "import torchvision\n",
    "import torchvision.transforms as transforms\n",
    "from torch.optim import Adam\n",
    "\n",
    "import numpy as np\n",
    "import pandas as pd\n",
    "\n",
    "import matplotlib.pyplot as plt\n",
    "import seaborn as sns\n",
    "\n",
    "import optuna\n",
    "\n",
    "from PIL import Image"
   ]
  },
  {
   "cell_type": "markdown",
   "id": "aa325676",
   "metadata": {
    "papermill": {
     "duration": 0.008713,
     "end_time": "2024-03-02T15:22:15.187611",
     "exception": false,
     "start_time": "2024-03-02T15:22:15.178898",
     "status": "completed"
    },
    "tags": []
   },
   "source": [
    "## Config"
   ]
  },
  {
   "cell_type": "code",
   "execution_count": 2,
   "id": "e0dee56f",
   "metadata": {
    "execution": {
     "iopub.execute_input": "2024-03-02T15:22:15.207423Z",
     "iopub.status.busy": "2024-03-02T15:22:15.206504Z",
     "iopub.status.idle": "2024-03-02T15:22:15.271068Z",
     "shell.execute_reply": "2024-03-02T15:22:15.270263Z"
    },
    "papermill": {
     "duration": 0.076628,
     "end_time": "2024-03-02T15:22:15.272989",
     "exception": false,
     "start_time": "2024-03-02T15:22:15.196361",
     "status": "completed"
    },
    "tags": []
   },
   "outputs": [],
   "source": [
    "class CFG:\n",
    "    def __init__(self):\n",
    "\n",
    "        self.seed=777\n",
    "        self.epochs=20\n",
    "        self.batch_size=64\n",
    "        self.learning_rate=0.0007\n",
    "        self.input_class=None\n",
    "        self.output_class=2\n",
    "\n",
    "        self.device=torch.device(\"cuda:0\"if torch.cuda.is_available() else \"cpu\")\n",
    "\n",
    "        self.class_mapping = {\n",
    "            \"NORMAL\":0,\n",
    "            'PNEUMONIA':1,\n",
    "        }\n",
    "        \n",
    "\n",
    "config=CFG()\n",
    "\n",
    "def torch_seed(seed):\n",
    "    os.environ['PYTHONHASHSEED'] = str(seed)\n",
    "    random.seed(seed)\n",
    "    np.random.seed(seed)\n",
    "    torch.manual_seed(seed)\n",
    "    torch.cuda.manual_seed(seed)\n",
    "    torch.use_deterministic_algorithms=True\n",
    "    torch.backends.cudnn.deterministic=True\n",
    "    torch.backends.cudnn.benchmark=True\n",
    "\n",
    "torch_seed(config.seed)"
   ]
  },
  {
   "cell_type": "markdown",
   "id": "450b99bd",
   "metadata": {
    "papermill": {
     "duration": 0.008793,
     "end_time": "2024-03-02T15:22:15.291190",
     "exception": false,
     "start_time": "2024-03-02T15:22:15.282397",
     "status": "completed"
    },
    "tags": []
   },
   "source": [
    "## Load data"
   ]
  },
  {
   "cell_type": "markdown",
   "id": "62be57c1",
   "metadata": {
    "papermill": {
     "duration": 0.008623,
     "end_time": "2024-03-02T15:22:15.308682",
     "exception": false,
     "start_time": "2024-03-02T15:22:15.300059",
     "status": "completed"
    },
    "tags": []
   },
   "source": [
    "## Train"
   ]
  },
  {
   "cell_type": "code",
   "execution_count": 3,
   "id": "1b5f9efb",
   "metadata": {
    "execution": {
     "iopub.execute_input": "2024-03-02T15:22:15.329180Z",
     "iopub.status.busy": "2024-03-02T15:22:15.328338Z",
     "iopub.status.idle": "2024-03-02T15:22:15.791964Z",
     "shell.execute_reply": "2024-03-02T15:22:15.791058Z"
    },
    "papermill": {
     "duration": 0.476858,
     "end_time": "2024-03-02T15:22:15.794372",
     "exception": false,
     "start_time": "2024-03-02T15:22:15.317514",
     "status": "completed"
    },
    "tags": []
   },
   "outputs": [],
   "source": [
    "def Load(dir):\n",
    "    filepaths=[]\n",
    "    labels=[]\n",
    "\n",
    "    folds=os.listdir(dir)\n",
    "\n",
    "    for fold in folds:\n",
    "        foldpath=os.path.join(dir,fold)\n",
    "        filelist=os.listdir(foldpath)\n",
    "        for file in filelist:\n",
    "            path=os.path.join(foldpath,file)\n",
    "            filepaths.append(path)\n",
    "            labels.append(fold)\n",
    "\n",
    "    X=pd.Series(filepaths,name=\"filepaths\")\n",
    "    y=pd.Series(labels,name=\"labels\")\n",
    "    df=pd.concat([X,y],axis=1)\n",
    "\n",
    "    return df\n",
    "\n",
    "train_dir=\"/kaggle/input/chest-xray-pneumonia/chest_xray/train\"\n",
    "test_dir=\"/kaggle/input/chest-xray-pneumonia/chest_xray/test\"\n",
    "val_dir=\"/kaggle/input/chest-xray-pneumonia/chest_xray/val\"\n",
    "\n",
    "train_df=Load(train_dir)\n",
    "test_df=Load(test_dir)\n",
    "val_df=Load(val_dir)\n"
   ]
  },
  {
   "cell_type": "code",
   "execution_count": 4,
   "id": "658f06ff",
   "metadata": {
    "execution": {
     "iopub.execute_input": "2024-03-02T15:22:15.813764Z",
     "iopub.status.busy": "2024-03-02T15:22:15.813457Z",
     "iopub.status.idle": "2024-03-02T15:22:15.827481Z",
     "shell.execute_reply": "2024-03-02T15:22:15.826413Z"
    },
    "papermill": {
     "duration": 0.02613,
     "end_time": "2024-03-02T15:22:15.829720",
     "exception": false,
     "start_time": "2024-03-02T15:22:15.803590",
     "status": "completed"
    },
    "tags": []
   },
   "outputs": [
    {
     "data": {
      "text/html": [
       "<div>\n",
       "<style scoped>\n",
       "    .dataframe tbody tr th:only-of-type {\n",
       "        vertical-align: middle;\n",
       "    }\n",
       "\n",
       "    .dataframe tbody tr th {\n",
       "        vertical-align: top;\n",
       "    }\n",
       "\n",
       "    .dataframe thead th {\n",
       "        text-align: right;\n",
       "    }\n",
       "</style>\n",
       "<table border=\"1\" class=\"dataframe\">\n",
       "  <thead>\n",
       "    <tr style=\"text-align: right;\">\n",
       "      <th></th>\n",
       "      <th>filepaths</th>\n",
       "      <th>labels</th>\n",
       "    </tr>\n",
       "  </thead>\n",
       "  <tbody>\n",
       "    <tr>\n",
       "      <th>0</th>\n",
       "      <td>/kaggle/input/chest-xray-pneumonia/chest_xray/...</td>\n",
       "      <td>PNEUMONIA</td>\n",
       "    </tr>\n",
       "    <tr>\n",
       "      <th>1</th>\n",
       "      <td>/kaggle/input/chest-xray-pneumonia/chest_xray/...</td>\n",
       "      <td>PNEUMONIA</td>\n",
       "    </tr>\n",
       "    <tr>\n",
       "      <th>2</th>\n",
       "      <td>/kaggle/input/chest-xray-pneumonia/chest_xray/...</td>\n",
       "      <td>PNEUMONIA</td>\n",
       "    </tr>\n",
       "    <tr>\n",
       "      <th>3</th>\n",
       "      <td>/kaggle/input/chest-xray-pneumonia/chest_xray/...</td>\n",
       "      <td>PNEUMONIA</td>\n",
       "    </tr>\n",
       "    <tr>\n",
       "      <th>4</th>\n",
       "      <td>/kaggle/input/chest-xray-pneumonia/chest_xray/...</td>\n",
       "      <td>PNEUMONIA</td>\n",
       "    </tr>\n",
       "  </tbody>\n",
       "</table>\n",
       "</div>"
      ],
      "text/plain": [
       "                                           filepaths     labels\n",
       "0  /kaggle/input/chest-xray-pneumonia/chest_xray/...  PNEUMONIA\n",
       "1  /kaggle/input/chest-xray-pneumonia/chest_xray/...  PNEUMONIA\n",
       "2  /kaggle/input/chest-xray-pneumonia/chest_xray/...  PNEUMONIA\n",
       "3  /kaggle/input/chest-xray-pneumonia/chest_xray/...  PNEUMONIA\n",
       "4  /kaggle/input/chest-xray-pneumonia/chest_xray/...  PNEUMONIA"
      ]
     },
     "execution_count": 4,
     "metadata": {},
     "output_type": "execute_result"
    }
   ],
   "source": [
    "train_df.head()"
   ]
  },
  {
   "cell_type": "code",
   "execution_count": 5,
   "id": "7b043ce0",
   "metadata": {
    "execution": {
     "iopub.execute_input": "2024-03-02T15:22:15.852009Z",
     "iopub.status.busy": "2024-03-02T15:22:15.851395Z",
     "iopub.status.idle": "2024-03-02T15:22:15.860893Z",
     "shell.execute_reply": "2024-03-02T15:22:15.859913Z"
    },
    "papermill": {
     "duration": 0.023522,
     "end_time": "2024-03-02T15:22:15.863037",
     "exception": false,
     "start_time": "2024-03-02T15:22:15.839515",
     "status": "completed"
    },
    "tags": []
   },
   "outputs": [
    {
     "data": {
      "text/html": [
       "<div>\n",
       "<style scoped>\n",
       "    .dataframe tbody tr th:only-of-type {\n",
       "        vertical-align: middle;\n",
       "    }\n",
       "\n",
       "    .dataframe tbody tr th {\n",
       "        vertical-align: top;\n",
       "    }\n",
       "\n",
       "    .dataframe thead th {\n",
       "        text-align: right;\n",
       "    }\n",
       "</style>\n",
       "<table border=\"1\" class=\"dataframe\">\n",
       "  <thead>\n",
       "    <tr style=\"text-align: right;\">\n",
       "      <th></th>\n",
       "      <th>filepaths</th>\n",
       "      <th>labels</th>\n",
       "    </tr>\n",
       "  </thead>\n",
       "  <tbody>\n",
       "    <tr>\n",
       "      <th>0</th>\n",
       "      <td>/kaggle/input/chest-xray-pneumonia/chest_xray/...</td>\n",
       "      <td>PNEUMONIA</td>\n",
       "    </tr>\n",
       "    <tr>\n",
       "      <th>1</th>\n",
       "      <td>/kaggle/input/chest-xray-pneumonia/chest_xray/...</td>\n",
       "      <td>PNEUMONIA</td>\n",
       "    </tr>\n",
       "    <tr>\n",
       "      <th>2</th>\n",
       "      <td>/kaggle/input/chest-xray-pneumonia/chest_xray/...</td>\n",
       "      <td>PNEUMONIA</td>\n",
       "    </tr>\n",
       "    <tr>\n",
       "      <th>3</th>\n",
       "      <td>/kaggle/input/chest-xray-pneumonia/chest_xray/...</td>\n",
       "      <td>PNEUMONIA</td>\n",
       "    </tr>\n",
       "    <tr>\n",
       "      <th>4</th>\n",
       "      <td>/kaggle/input/chest-xray-pneumonia/chest_xray/...</td>\n",
       "      <td>PNEUMONIA</td>\n",
       "    </tr>\n",
       "  </tbody>\n",
       "</table>\n",
       "</div>"
      ],
      "text/plain": [
       "                                           filepaths     labels\n",
       "0  /kaggle/input/chest-xray-pneumonia/chest_xray/...  PNEUMONIA\n",
       "1  /kaggle/input/chest-xray-pneumonia/chest_xray/...  PNEUMONIA\n",
       "2  /kaggle/input/chest-xray-pneumonia/chest_xray/...  PNEUMONIA\n",
       "3  /kaggle/input/chest-xray-pneumonia/chest_xray/...  PNEUMONIA\n",
       "4  /kaggle/input/chest-xray-pneumonia/chest_xray/...  PNEUMONIA"
      ]
     },
     "execution_count": 5,
     "metadata": {},
     "output_type": "execute_result"
    }
   ],
   "source": [
    "test_df.head()"
   ]
  },
  {
   "cell_type": "code",
   "execution_count": 6,
   "id": "99c3aa12",
   "metadata": {
    "execution": {
     "iopub.execute_input": "2024-03-02T15:22:15.884641Z",
     "iopub.status.busy": "2024-03-02T15:22:15.884340Z",
     "iopub.status.idle": "2024-03-02T15:22:15.893493Z",
     "shell.execute_reply": "2024-03-02T15:22:15.892590Z"
    },
    "papermill": {
     "duration": 0.022105,
     "end_time": "2024-03-02T15:22:15.895505",
     "exception": false,
     "start_time": "2024-03-02T15:22:15.873400",
     "status": "completed"
    },
    "tags": []
   },
   "outputs": [
    {
     "data": {
      "text/html": [
       "<div>\n",
       "<style scoped>\n",
       "    .dataframe tbody tr th:only-of-type {\n",
       "        vertical-align: middle;\n",
       "    }\n",
       "\n",
       "    .dataframe tbody tr th {\n",
       "        vertical-align: top;\n",
       "    }\n",
       "\n",
       "    .dataframe thead th {\n",
       "        text-align: right;\n",
       "    }\n",
       "</style>\n",
       "<table border=\"1\" class=\"dataframe\">\n",
       "  <thead>\n",
       "    <tr style=\"text-align: right;\">\n",
       "      <th></th>\n",
       "      <th>filepaths</th>\n",
       "      <th>labels</th>\n",
       "    </tr>\n",
       "  </thead>\n",
       "  <tbody>\n",
       "    <tr>\n",
       "      <th>0</th>\n",
       "      <td>/kaggle/input/chest-xray-pneumonia/chest_xray/...</td>\n",
       "      <td>PNEUMONIA</td>\n",
       "    </tr>\n",
       "    <tr>\n",
       "      <th>1</th>\n",
       "      <td>/kaggle/input/chest-xray-pneumonia/chest_xray/...</td>\n",
       "      <td>PNEUMONIA</td>\n",
       "    </tr>\n",
       "    <tr>\n",
       "      <th>2</th>\n",
       "      <td>/kaggle/input/chest-xray-pneumonia/chest_xray/...</td>\n",
       "      <td>PNEUMONIA</td>\n",
       "    </tr>\n",
       "    <tr>\n",
       "      <th>3</th>\n",
       "      <td>/kaggle/input/chest-xray-pneumonia/chest_xray/...</td>\n",
       "      <td>PNEUMONIA</td>\n",
       "    </tr>\n",
       "    <tr>\n",
       "      <th>4</th>\n",
       "      <td>/kaggle/input/chest-xray-pneumonia/chest_xray/...</td>\n",
       "      <td>PNEUMONIA</td>\n",
       "    </tr>\n",
       "  </tbody>\n",
       "</table>\n",
       "</div>"
      ],
      "text/plain": [
       "                                           filepaths     labels\n",
       "0  /kaggle/input/chest-xray-pneumonia/chest_xray/...  PNEUMONIA\n",
       "1  /kaggle/input/chest-xray-pneumonia/chest_xray/...  PNEUMONIA\n",
       "2  /kaggle/input/chest-xray-pneumonia/chest_xray/...  PNEUMONIA\n",
       "3  /kaggle/input/chest-xray-pneumonia/chest_xray/...  PNEUMONIA\n",
       "4  /kaggle/input/chest-xray-pneumonia/chest_xray/...  PNEUMONIA"
      ]
     },
     "execution_count": 6,
     "metadata": {},
     "output_type": "execute_result"
    }
   ],
   "source": [
    "val_df.head()"
   ]
  },
  {
   "cell_type": "code",
   "execution_count": 7,
   "id": "b66430b9",
   "metadata": {
    "execution": {
     "iopub.execute_input": "2024-03-02T15:22:15.916484Z",
     "iopub.status.busy": "2024-03-02T15:22:15.915667Z",
     "iopub.status.idle": "2024-03-02T15:22:15.931517Z",
     "shell.execute_reply": "2024-03-02T15:22:15.930592Z"
    },
    "papermill": {
     "duration": 0.028621,
     "end_time": "2024-03-02T15:22:15.933658",
     "exception": false,
     "start_time": "2024-03-02T15:22:15.905037",
     "status": "completed"
    },
    "tags": []
   },
   "outputs": [
    {
     "data": {
      "text/plain": [
       "labels\n",
       "PNEUMONIA    3875\n",
       "NORMAL       1341\n",
       "Name: count, dtype: int64"
      ]
     },
     "execution_count": 7,
     "metadata": {},
     "output_type": "execute_result"
    }
   ],
   "source": [
    "train_df[\"labels\"].value_counts()"
   ]
  },
  {
   "cell_type": "markdown",
   "id": "0d5e54bc",
   "metadata": {
    "papermill": {
     "duration": 0.009393,
     "end_time": "2024-03-02T15:22:15.952527",
     "exception": false,
     "start_time": "2024-03-02T15:22:15.943134",
     "status": "completed"
    },
    "tags": []
   },
   "source": [
    "# Show data"
   ]
  },
  {
   "cell_type": "code",
   "execution_count": 8,
   "id": "abf3b720",
   "metadata": {
    "execution": {
     "iopub.execute_input": "2024-03-02T15:22:15.973362Z",
     "iopub.status.busy": "2024-03-02T15:22:15.972692Z",
     "iopub.status.idle": "2024-03-02T15:22:16.641697Z",
     "shell.execute_reply": "2024-03-02T15:22:16.640737Z"
    },
    "papermill": {
     "duration": 0.681755,
     "end_time": "2024-03-02T15:22:16.643812",
     "exception": false,
     "start_time": "2024-03-02T15:22:15.962057",
     "status": "completed"
    },
    "tags": []
   },
   "outputs": [
    {
     "data": {
      "image/png": "[encoded data removed]",
      "text/plain": [
       "<Figure size 1500x500 with 3 Axes>"
      ]
     },
     "metadata": {},
     "output_type": "display_data"
    }
   ],
   "source": [
    "def Show(train_df,test_df,val_df):\n",
    "    fig,axs=plt.subplots(1,3,figsize=(15,5))\n",
    "\n",
    "    for i,(name,df) in enumerate(zip([\"train\",\"test\",\"val\"],[train_df,test_df,val_df])):\n",
    "        label_counts=df[\"labels\"].value_counts()\n",
    "        axs[i].bar(label_counts.index,label_counts.values)\n",
    "        axs[i].set_title(name)\n",
    "        axs[i].set_xlabel('Labels')\n",
    "        axs[i].set_ylabel('Count')\n",
    "        axs[i].tick_params(axis='x', rotation=0)\n",
    "\n",
    "    plt.tight_layout()\n",
    "    plt.show()\n",
    "\n",
    "Show(train_df,test_df,val_df)"
   ]
  },
  {
   "cell_type": "markdown",
   "id": "69dfc3d7",
   "metadata": {
    "papermill": {
     "duration": 0.010042,
     "end_time": "2024-03-02T15:22:16.664695",
     "exception": false,
     "start_time": "2024-03-02T15:22:16.654653",
     "status": "completed"
    },
    "tags": []
   },
   "source": [
    "# Processing"
   ]
  },
  {
   "cell_type": "code",
   "execution_count": 9,
   "id": "14883a1b",
   "metadata": {
    "execution": {
     "iopub.execute_input": "2024-03-02T15:22:16.686757Z",
     "iopub.status.busy": "2024-03-02T15:22:16.686029Z",
     "iopub.status.idle": "2024-03-02T15:22:16.696734Z",
     "shell.execute_reply": "2024-03-02T15:22:16.695847Z"
    },
    "papermill": {
     "duration": 0.024043,
     "end_time": "2024-03-02T15:22:16.698742",
     "exception": false,
     "start_time": "2024-03-02T15:22:16.674699",
     "status": "completed"
    },
    "tags": []
   },
   "outputs": [],
   "source": [
    "def encode(df):\n",
    "    df[\"labels\"]=df[\"labels\"].map(config.class_mapping)\n",
    "\n",
    "encode(train_df)\n",
    "encode(test_df)\n",
    "encode(val_df)"
   ]
  },
  {
   "cell_type": "code",
   "execution_count": 10,
   "id": "68b1eedf",
   "metadata": {
    "execution": {
     "iopub.execute_input": "2024-03-02T15:22:16.720618Z",
     "iopub.status.busy": "2024-03-02T15:22:16.720025Z",
     "iopub.status.idle": "2024-03-02T15:22:16.729405Z",
     "shell.execute_reply": "2024-03-02T15:22:16.728510Z"
    },
    "papermill": {
     "duration": 0.022397,
     "end_time": "2024-03-02T15:22:16.731400",
     "exception": false,
     "start_time": "2024-03-02T15:22:16.709003",
     "status": "completed"
    },
    "tags": []
   },
   "outputs": [],
   "source": [
    "mean_nums = [0.485, 0.456, 0.406]\n",
    "std_nums = [0.229, 0.224, 0.225]\n",
    "\n",
    "# transform = {\"train\":transforms.Compose([\n",
    "#                                 transforms.Resize((150,150)),\n",
    "#                                 transforms.Grayscale(num_output_channels=3),\n",
    "#                                 transforms.RandomRotation(10), \n",
    "#                                 transforms.RandomHorizontalFlip(p=0.4), \n",
    "#                                 transforms.ToTensor(),\n",
    "#                                 transforms.Normalize(mean = mean_nums, std=std_nums)]), \n",
    "#                 \"val\": transforms.Compose([\n",
    "#                             transforms.Resize((150,150)),\n",
    "#                             transforms.Grayscale(num_output_channels=3),\n",
    "#                             transforms.CenterCrop(150),\n",
    "#                             transforms.ToTensor(),\n",
    "#                             transforms.Normalize(mean=mean_nums, std = std_nums)\n",
    "#                     ])}\n",
    "\n",
    "transform = transforms.Compose([\n",
    "                                transforms.Resize((512,512)),\n",
    "                                transforms.Grayscale(num_output_channels=3),\n",
    "                                transforms.RandomRotation(10), \n",
    "                                transforms.RandomHorizontalFlip(p=0.4), \n",
    "                                transforms.ToTensor(),\n",
    "                                transforms.Normalize(mean = mean_nums, std=std_nums)\n",
    "                                ])\n",
    "\n",
    "test_transform = transforms.Compose([\n",
    "                                transforms.Resize((512,512)),\n",
    "                                transforms.Grayscale(num_output_channels=3),\n",
    "                                transforms.ToTensor(),\n",
    "                                transforms.Normalize(mean = mean_nums, std=std_nums)\n",
    "                                ])"
   ]
  },
  {
   "cell_type": "markdown",
   "id": "16f1920f",
   "metadata": {
    "papermill": {
     "duration": 0.009999,
     "end_time": "2024-03-02T15:22:16.751495",
     "exception": false,
     "start_time": "2024-03-02T15:22:16.741496",
     "status": "completed"
    },
    "tags": []
   },
   "source": [
    "# Transform Image"
   ]
  },
  {
   "cell_type": "code",
   "execution_count": 11,
   "id": "607fc2a6",
   "metadata": {
    "execution": {
     "iopub.execute_input": "2024-03-02T15:22:16.773496Z",
     "iopub.status.busy": "2024-03-02T15:22:16.772583Z",
     "iopub.status.idle": "2024-03-02T15:24:18.733820Z",
     "shell.execute_reply": "2024-03-02T15:24:18.732595Z"
    },
    "papermill": {
     "duration": 121.975282,
     "end_time": "2024-03-02T15:24:18.736667",
     "exception": false,
     "start_time": "2024-03-02T15:22:16.761385",
     "status": "completed"
    },
    "tags": []
   },
   "outputs": [],
   "source": [
    "class ImageDataset(Dataset):\n",
    "\n",
    "    def __init__(self,filepaths,labels,transform=None):\n",
    "        self.filepaths=filepaths\n",
    "        self.labels=labels\n",
    "        self.transform=transform\n",
    "    \n",
    "    def __getitem__(self,index):\n",
    "        img=Image.open(self.filepaths[index])\n",
    "        if self.transform is not None:\n",
    "            img=self.transform(img)\n",
    "        label=self.labels[index]\n",
    "        return img,label\n",
    "    \n",
    "    def __len__(self):\n",
    "        return len(self.labels)\n",
    "\n",
    "\n",
    "train_dataset=ImageDataset(train_df[\"filepaths\"],train_df[\"labels\"],transform)\n",
    "test_dataset=ImageDataset(test_df[\"filepaths\"],test_df[\"labels\"],test_transform)\n",
    "\n",
    "train,valid=train_test_split(train_dataset,test_size=0.2,random_state=777)\n",
    "\n",
    "# train,valid=train_test_split(train_df,test_size=0.2,random_state=config.seed)\n",
    "\n",
    "# train=ImageDataset(train[\"filepaths\"],train[\"labels\"],transform[\"train\"])\n",
    "# valid=ImageDataset(valid[\"filepaths\"],valid[\"labels\"],transform[\"val\"])"
   ]
  },
  {
   "cell_type": "code",
   "execution_count": 12,
   "id": "ec4bad81",
   "metadata": {
    "execution": {
     "iopub.execute_input": "2024-03-02T15:24:18.759887Z",
     "iopub.status.busy": "2024-03-02T15:24:18.759502Z",
     "iopub.status.idle": "2024-03-02T15:24:18.764786Z",
     "shell.execute_reply": "2024-03-02T15:24:18.763868Z"
    },
    "papermill": {
     "duration": 0.018782,
     "end_time": "2024-03-02T15:24:18.767103",
     "exception": false,
     "start_time": "2024-03-02T15:24:18.748321",
     "status": "completed"
    },
    "tags": []
   },
   "outputs": [
    {
     "name": "stdout",
     "output_type": "stream",
     "text": [
      "4172\n",
      "1044\n"
     ]
    }
   ],
   "source": [
    "print(len(train))\n",
    "print(len(valid))"
   ]
  },
  {
   "cell_type": "markdown",
   "id": "e254926d",
   "metadata": {
    "papermill": {
     "duration": 0.009751,
     "end_time": "2024-03-02T15:24:18.786828",
     "exception": false,
     "start_time": "2024-03-02T15:24:18.777077",
     "status": "completed"
    },
    "tags": []
   },
   "source": [
    "# Model"
   ]
  },
  {
   "cell_type": "code",
   "execution_count": 13,
   "id": "d6e281b3",
   "metadata": {
    "execution": {
     "iopub.execute_input": "2024-03-02T15:24:18.808181Z",
     "iopub.status.busy": "2024-03-02T15:24:18.807786Z",
     "iopub.status.idle": "2024-03-02T15:24:24.878967Z",
     "shell.execute_reply": "2024-03-02T15:24:24.878118Z"
    },
    "papermill": {
     "duration": 6.084645,
     "end_time": "2024-03-02T15:24:24.881255",
     "exception": false,
     "start_time": "2024-03-02T15:24:18.796610",
     "status": "completed"
    },
    "tags": []
   },
   "outputs": [],
   "source": [
    "class Model(nn.Module):\n",
    "\n",
    "    def __init__(self):\n",
    "        super().__init__()\n",
    "        self.relu=nn.ReLU()\n",
    "        self.pool=nn.MaxPool2d(2,stride=2)\n",
    "\n",
    "        self.conv1=nn.Conv2d(3,16,3)\n",
    "        self.conv2=nn.Conv2d(16,32,3)\n",
    "\n",
    "        self.fc1=nn.Linear(508032,1024)\n",
    "        self.fc2=nn.Linear(1024,120)\n",
    "        self.fc3=nn.Linear(120,2)\n",
    "\n",
    "    def forward(self,x):\n",
    "        x=self.conv1(x)\n",
    "        x-self.relu(x)\n",
    "        x=self.pool(x)\n",
    "        x=self.conv2(x)\n",
    "        x=self.relu(x)\n",
    "        x=self.pool(x)\n",
    "        x=x.view(x.size()[0],-1)\n",
    "        x=self.fc1(x)\n",
    "        x=self.relu(x)\n",
    "        x=self.fc2(x)\n",
    "        x=self.relu(x)\n",
    "        x=self.fc3(x)\n",
    "        \n",
    "        return x\n",
    "    \n",
    "model=Model().to(device=config.device)"
   ]
  },
  {
   "cell_type": "code",
   "execution_count": 14,
   "id": "99224e8b",
   "metadata": {
    "execution": {
     "iopub.execute_input": "2024-03-02T15:24:24.903411Z",
     "iopub.status.busy": "2024-03-02T15:24:24.903052Z",
     "iopub.status.idle": "2024-03-02T15:24:24.908544Z",
     "shell.execute_reply": "2024-03-02T15:24:24.907658Z"
    },
    "papermill": {
     "duration": 0.018896,
     "end_time": "2024-03-02T15:24:24.910598",
     "exception": false,
     "start_time": "2024-03-02T15:24:24.891702",
     "status": "completed"
    },
    "tags": []
   },
   "outputs": [],
   "source": [
    "train_dataloader=DataLoader(train,batch_size=config.batch_size,shuffle=True)\n",
    "valid_dataloader=DataLoader(valid,batch_size=config.batch_size,shuffle=True)\n",
    "test_dataloader=DataLoader(test_dataset,batch_size=config.batch_size)\n",
    "# batch_iterator = iter(train_dataloader)\n",
    "# inputs, labels = next(batch_iterator)\n",
    "# print(len(inputs))\n",
    "# print(len(labels))"
   ]
  },
  {
   "cell_type": "code",
   "execution_count": 15,
   "id": "a7d59f9a",
   "metadata": {
    "execution": {
     "iopub.execute_input": "2024-03-02T15:24:24.932543Z",
     "iopub.status.busy": "2024-03-02T15:24:24.931891Z",
     "iopub.status.idle": "2024-03-02T15:24:24.947689Z",
     "shell.execute_reply": "2024-03-02T15:24:24.946875Z"
    },
    "papermill": {
     "duration": 0.029138,
     "end_time": "2024-03-02T15:24:24.949692",
     "exception": false,
     "start_time": "2024-03-02T15:24:24.920554",
     "status": "completed"
    },
    "tags": []
   },
   "outputs": [],
   "source": [
    "device=config.device\n",
    "optimizer=Adam(model.parameters(),lr=config.learning_rate)\n",
    "\n",
    "def train(train_dataloader):\n",
    "    criterion=nn.CrossEntropyLoss()\n",
    "    loss_sum=0\n",
    "\n",
    "    model.train()\n",
    "    for X,y in train_dataloader:\n",
    "        X,y=X.to(device),y.to(device)\n",
    "        optimizer.zero_grad()\n",
    "        pred=model(X)\n",
    "        loss=criterion(pred,y)\n",
    "        loss_sum+=loss.item()\n",
    "        loss.backward()\n",
    "        optimizer.step()\n",
    "\n",
    "    train_loss=loss_sum/len(train_dataloader)\n",
    "\n",
    "    return train_loss\n",
    "\n",
    "def valid(valid_dataloader):\n",
    "    criterion=nn.CrossEntropyLoss()\n",
    "    loss_sum=0\n",
    "    correct=0\n",
    "    total=0\n",
    "\n",
    "    model.eval()\n",
    "    correct=0\n",
    "    with torch.no_grad():\n",
    "        for X,y in valid_dataloader:\n",
    "            X,y=X.to(device),y.to(device)\n",
    "            pred=model(X)\n",
    "            loss=criterion(pred,y)\n",
    "            loss_sum+=loss.item()\n",
    "            pred=pred.max(1, keepdim=True)[1]\n",
    "            correct+=pred.eq(y.view_as(pred)).sum().item()\n",
    "            total+=y.size(0)\n",
    "    \n",
    "    val_loss=loss_sum/len(valid_dataloader)\n",
    "    val_acc=correct/total\n",
    "    return val_loss,val_acc\n",
    "\n",
    "def test(test_data):\n",
    "    correct=0\n",
    "    total=0\n",
    "    y_true=[]\n",
    "    y_pred=[]\n",
    "\n",
    "    model.eval()\n",
    "    correct=0\n",
    "    with torch.no_grad():\n",
    "        for X,y in valid_dataloader:\n",
    "            X,y=X.to(device),y.to(device)\n",
    "            pred=model(X)\n",
    "            pred=pred.max(1, keepdim=True)[1]\n",
    "            \n",
    "            y_true.extend(y.cpu().numpy())\n",
    "            y_pred.extend(pred.cpu().numpy())\n",
    "            correct+=pred.eq(y.view_as(pred)).sum().item()\n",
    "            total+=y.size(0)\n",
    "    \n",
    "    cm = confusion_matrix(y_true, y_pred, labels=[0,1])\n",
    "    test_acc=correct/total\n",
    "    return test_acc,cm,y_pred"
   ]
  },
  {
   "cell_type": "markdown",
   "id": "ab328a0c",
   "metadata": {
    "papermill": {
     "duration": 0.009654,
     "end_time": "2024-03-02T15:24:24.969494",
     "exception": false,
     "start_time": "2024-03-02T15:24:24.959840",
     "status": "completed"
    },
    "tags": []
   },
   "source": [
    "# Find best hyper_param"
   ]
  },
  {
   "cell_type": "code",
   "execution_count": 16,
   "id": "0318a085",
   "metadata": {
    "execution": {
     "iopub.execute_input": "2024-03-02T15:24:24.990975Z",
     "iopub.status.busy": "2024-03-02T15:24:24.990620Z",
     "iopub.status.idle": "2024-03-02T15:24:24.995755Z",
     "shell.execute_reply": "2024-03-02T15:24:24.994861Z"
    },
    "papermill": {
     "duration": 0.018273,
     "end_time": "2024-03-02T15:24:24.997781",
     "exception": false,
     "start_time": "2024-03-02T15:24:24.979508",
     "status": "completed"
    },
    "tags": []
   },
   "outputs": [],
   "source": [
    "# def objective(trial):\n",
    "\n",
    "#     #batch_size = trial.suggest_int('batch_size', 512, 2048)\n",
    "#     #epochs = trial.suggest_int('epochs', 50, 300)\n",
    "#     learning_rate = trial.suggest_float('learning_rate', 0.0007, 0.001)\n",
    "#     layer1_out = trial.suggest_int('layer1_out', 512, 1024,step=2)\n",
    "#     layer2_out = trial.suggest_int('layer2_out', 128, 512,step\n",
    "#     layer3_out = trial.suggest_int('layer3_out', 64, 128,step=2)\n",
    "#     drop_out = trial.suggest_float(\"drop_out\", 0.1, 0.3,step=0.1)\n",
    "#     #loss_type = trial.suggest_categorical('loss_type', [\"Adam\", \"SGD\"])\n",
    "                                                               \n",
    "#     device=config.device\n",
    "#     model = Model(config.input_class,config.output_class,layer1_out,layer2_out,layer3_out,drop_out).to(device)\n",
    "#     optimizer=Adam(model.parameters(),lr=learning_rate)\n",
    "\n",
    "#     epochs=config.epochs\n",
    "#     for step in range(epochs):\n",
    "#         train(model,device,train_dataloader,optimizer)\n",
    "#         error_rate=valid(model,device,valid_dataloader)\n",
    "    \n",
    "#     return error_rate\n",
    "\n",
    "# # Create a study object and optimize the objective function\n",
    "# study = optuna.create_study()\n",
    "# study.optimize(objective, n_trials=50)\n",
    "\n",
    "# # Get the best hyperparameters\n",
    "# best_params = study.best_params\n",
    "# print(\"Best Hyperparameters:\", best_params)"
   ]
  },
  {
   "cell_type": "code",
   "execution_count": 17,
   "id": "16085197",
   "metadata": {
    "execution": {
     "iopub.execute_input": "2024-03-02T15:24:25.019020Z",
     "iopub.status.busy": "2024-03-02T15:24:25.018728Z",
     "iopub.status.idle": "2024-03-02T15:24:25.022892Z",
     "shell.execute_reply": "2024-03-02T15:24:25.022010Z"
    },
    "papermill": {
     "duration": 0.017173,
     "end_time": "2024-03-02T15:24:25.024844",
     "exception": false,
     "start_time": "2024-03-02T15:24:25.007671",
     "status": "completed"
    },
    "tags": []
   },
   "outputs": [],
   "source": [
    "# hyperparameters=best_params\n",
    "\n",
    "# # ファイル名を指定します\n",
    "# file_name = \"hypara_pytorch2.txt\"\n",
    "\n",
    "# # テキストファイルに書き込みます\n",
    "# with open(file_name, 'w') as file:\n",
    "#     for key, value in hyperparameters.items():\n",
    "#         file.write(f\"{key}: {value}\\n\")\n"
   ]
  },
  {
   "cell_type": "markdown",
   "id": "35079505",
   "metadata": {
    "papermill": {
     "duration": 0.009997,
     "end_time": "2024-03-02T15:24:25.044622",
     "exception": false,
     "start_time": "2024-03-02T15:24:25.034625",
     "status": "completed"
    },
    "tags": []
   },
   "source": [
    "# Train"
   ]
  },
  {
   "cell_type": "code",
   "execution_count": 18,
   "id": "f91dd0ad",
   "metadata": {
    "execution": {
     "iopub.execute_input": "2024-03-02T15:24:25.066557Z",
     "iopub.status.busy": "2024-03-02T15:24:25.065703Z",
     "iopub.status.idle": "2024-03-02T15:28:32.527374Z",
     "shell.execute_reply": "2024-03-02T15:28:32.526248Z"
    },
    "papermill": {
     "duration": 247.474848,
     "end_time": "2024-03-02T15:28:32.529440",
     "exception": false,
     "start_time": "2024-03-02T15:24:25.054592",
     "status": "completed"
    },
    "tags": []
   },
   "outputs": [
    {
     "name": "stdout",
     "output_type": "stream",
     "text": [
      "train loss : 1.6552354715990298  val_loss : 0.1584476434132632  val_acc : 0.935823754789272 \n",
      "train loss : 0.14164019607459055  val_loss : 0.12992354646763382  val_acc : 0.9482758620689655 \n",
      "train loss : 0.09055080992931669  val_loss : 0.11250194315524663  val_acc : 0.9588122605363985 \n",
      "train loss : 0.04671661458401517  val_loss : 0.10169458170147504  val_acc : 0.960727969348659 \n",
      "train loss : 0.02094678687298614  val_loss : 0.11451400115209467  val_acc : 0.9636015325670498 \n",
      "train loss : 0.00935982309409045  val_loss : 0.12256462620023419  val_acc : 0.9568965517241379 \n",
      "train loss : 0.0030663769769792757  val_loss : 0.1269973752581898  val_acc : 0.960727969348659 \n",
      "train loss : 0.0013388416777932875  val_loss : 0.1482011397533557  val_acc : 0.960727969348659 \n",
      "train loss : 0.000715044224775876  val_loss : 0.14248819991617517  val_acc : 0.9626436781609196 \n",
      "train loss : 0.0004695238038204314  val_loss : 0.1435217305963092  val_acc : 0.9636015325670498 \n"
     ]
    }
   ],
   "source": [
    "loss_list=[]\n",
    "val_loss_list=[]\n",
    "val_acc_list=[]\n",
    "\n",
    "epochs=config.epochs\n",
    "epochs=10\n",
    "for epoch in range(epochs):\n",
    "    loss=train(train_dataloader)\n",
    "    val_loss,val_acc=valid(valid_dataloader)\n",
    "    print(f\"train loss : {loss}  val_loss : {val_loss}  val_acc : {val_acc} \")\n",
    "    loss_list.append(loss)\n",
    "    val_loss_list.append(val_loss)\n",
    "    val_acc_list.append(val_acc)"
   ]
  },
  {
   "cell_type": "code",
   "execution_count": 19,
   "id": "79bc0624",
   "metadata": {
    "execution": {
     "iopub.execute_input": "2024-03-02T15:28:32.552976Z",
     "iopub.status.busy": "2024-03-02T15:28:32.552641Z",
     "iopub.status.idle": "2024-03-02T15:28:32.960685Z",
     "shell.execute_reply": "2024-03-02T15:28:32.959746Z"
    },
    "papermill": {
     "duration": 0.422445,
     "end_time": "2024-03-02T15:28:32.962815",
     "exception": false,
     "start_time": "2024-03-02T15:28:32.540370",
     "status": "completed"
    },
    "tags": []
   },
   "outputs": [
    {
     "data": {
      "text/plain": [
       "Text(0, 0.5, 'acc')"
      ]
     },
     "execution_count": 19,
     "metadata": {},
     "output_type": "execute_result"
    },
    {
     "data": {
      "image/png": "[encoded data removed]",
      "text/plain": [
       "<Figure size 640x480 with 1 Axes>"
      ]
     },
     "metadata": {},
     "output_type": "display_data"
    },
    {
     "data": {
      "image/png": "[encoded data removed]",
      "text/plain": [
       "<Figure size 640x480 with 1 Axes>"
      ]
     },
     "metadata": {},
     "output_type": "display_data"
    }
   ],
   "source": [
    "plt.plot(loss_list,label=\"train_loss\")\n",
    "plt.plot(val_loss_list,label=\"val_loss\")\n",
    "plt.legend()\n",
    "plt.xlabel(\"epoch\")\n",
    "plt.ylabel(\"loss\")\n",
    "\n",
    "plt.figure()\n",
    "plt.plot(val_acc_list,label=\"val_acc\")\n",
    "plt.legend()\n",
    "plt.ylim(0.9,1)\n",
    "plt.xlabel(\"epoch\")\n",
    "plt.ylabel(\"acc\")"
   ]
  },
  {
   "cell_type": "markdown",
   "id": "fa233567",
   "metadata": {
    "papermill": {
     "duration": 0.011665,
     "end_time": "2024-03-02T15:28:32.986366",
     "exception": false,
     "start_time": "2024-03-02T15:28:32.974701",
     "status": "completed"
    },
    "tags": []
   },
   "source": [
    "# Test"
   ]
  },
  {
   "cell_type": "code",
   "execution_count": 20,
   "id": "1cb8deac",
   "metadata": {
    "execution": {
     "iopub.execute_input": "2024-03-02T15:28:33.011467Z",
     "iopub.status.busy": "2024-03-02T15:28:33.010852Z",
     "iopub.status.idle": "2024-03-02T15:28:36.537882Z",
     "shell.execute_reply": "2024-03-02T15:28:36.536925Z"
    },
    "papermill": {
     "duration": 3.542088,
     "end_time": "2024-03-02T15:28:36.539999",
     "exception": false,
     "start_time": "2024-03-02T15:28:32.997911",
     "status": "completed"
    },
    "tags": []
   },
   "outputs": [
    {
     "name": "stdout",
     "output_type": "stream",
     "text": [
      "0.9636015325670498\n"
     ]
    },
    {
     "data": {
      "image/png": "[encoded data removed]",
      "text/plain": [
       "<Figure size 800x600 with 2 Axes>"
      ]
     },
     "metadata": {},
     "output_type": "display_data"
    }
   ],
   "source": [
    "acc,cm,pred=test(test_dataloader)\n",
    "print(acc)\n",
    "\n",
    "plt.figure(figsize=(8, 6))\n",
    "sns.heatmap(cm, annot=True, fmt=\"d\", cmap=\"Blues\", xticklabels=[0,1], yticklabels=[0,1])\n",
    "plt.xlabel('Predicted labels')\n",
    "plt.ylabel('True labels')\n",
    "plt.title('Confusion Matrix')\n",
    "plt.show()"
   ]
  }
 ],
 "metadata": {
  "kaggle": {
   "accelerator": "gpu",
   "dataSources": [
    {
     "datasetId": 17810,
     "sourceId": 23812,
     "sourceType": "datasetVersion"
    }
   ],
   "dockerImageVersionId": 30665,
   "isGpuEnabled": true,
   "isInternetEnabled": true,
   "language": "python",
   "sourceType": "notebook"
  },
  "kernelspec": {
   "display_name": "Python 3",
   "language": "python",
   "name": "python3"
  },
  "language_info": {
   "codemirror_mode": {
    "name": "ipython",
    "version": 3
   },
   "file_extension": ".py",
   "mimetype": "text/x-python",
   "name": "python",
   "nbconvert_exporter": "python",
   "pygments_lexer": "ipython3",
   "version": "3.10.13"
  },
  "papermill": {
   "default_parameters": {},
   "duration": 399.447345,
   "end_time": "2024-03-02T15:28:41.468676",
   "environment_variables": {},
   "exception": null,
   "input_path": "__notebook__.ipynb",
   "output_path": "__notebook__.ipynb",
   "parameters": {},
   "start_time": "2024-03-02T15:22:02.021331",
   "version": "2.5.0"
  }
 },
 "nbformat": 4,
 "nbformat_minor": 5
}
