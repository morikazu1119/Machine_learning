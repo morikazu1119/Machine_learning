{
 "cells": [
  {
   "cell_type": "markdown",
   "id": "7920f391",
   "metadata": {
    "id": "RTdZHLhSx9eY",
    "papermill": {
     "duration": 0.010612,
     "end_time": "2024-01-03T17:27:33.387851",
     "exception": false,
     "start_time": "2024-01-03T17:27:33.377239",
     "status": "completed"
    },
    "tags": []
   },
   "source": [
    "## 📂 Importing necessary libraries\n",
    "\n",
    "\n",
    "Fork from https://www.kaggle.com/code/zulqarnainali/fork-of-lb-0-57/notebook"
   ]
  },
  {
   "cell_type": "markdown",
   "id": "e84177ba",
   "metadata": {
    "id": "PgySaaaQfiO4",
    "papermill": {
     "duration": 0.009526,
     "end_time": "2024-01-03T17:27:33.407585",
     "exception": false,
     "start_time": "2024-01-03T17:27:33.398059",
     "status": "completed"
    },
    "tags": []
   },
   "source": [
    "# import library"
   ]
  },
  {
   "cell_type": "code",
   "execution_count": 1,
   "id": "775df029",
   "metadata": {
    "execution": {
     "iopub.execute_input": "2024-01-03T17:27:33.429705Z",
     "iopub.status.busy": "2024-01-03T17:27:33.429367Z",
     "iopub.status.idle": "2024-01-03T17:27:41.379590Z",
     "shell.execute_reply": "2024-01-03T17:27:41.378581Z"
    },
    "id": "OIHMejmgx9ea",
    "papermill": {
     "duration": 7.963768,
     "end_time": "2024-01-03T17:27:41.382001",
     "exception": false,
     "start_time": "2024-01-03T17:27:33.418233",
     "status": "completed"
    },
    "tags": []
   },
   "outputs": [
    {
     "name": "stderr",
     "output_type": "stream",
     "text": [
      "/opt/conda/lib/python3.10/site-packages/scipy/__init__.py:146: UserWarning: A NumPy version >=1.16.5 and <1.23.0 is required for this version of SciPy (detected version 1.24.3\n",
      "  warnings.warn(f\"A NumPy version >={np_minversion} and <{np_maxversion}\"\n"
     ]
    }
   ],
   "source": [
    "import os\n",
    "\n",
    "import gc\n",
    "\n",
    "import cv2\n",
    "\n",
    "import math\n",
    "\n",
    "import copy\n",
    "\n",
    "import time\n",
    "\n",
    "import random\n",
    "\n",
    "import glob\n",
    "\n",
    "from PIL import Image\n",
    "\n",
    "import numpy as np\n",
    "import pandas as pd\n",
    "\n",
    "import torch\n",
    "import torch.nn as nn\n",
    "import torch.optim as optim\n",
    "import torch.nn.functional as F\n",
    "from torch.optim import lr_scheduler\n",
    "from torch.utils.data import Dataset, DataLoader\n",
    "from torch.cuda import amp\n",
    "import torchvision\n",
    "\n",
    "import joblib\n",
    "from tqdm import tqdm\n",
    "from collections import defaultdict\n",
    "\n",
    "from sklearn.preprocessing import LabelEncoder\n",
    "from sklearn.model_selection import StratifiedKFold\n",
    "\n",
    "import timm\n",
    "\n",
    "import albumentations as A\n",
    "from albumentations.pytorch import ToTensorV2\n",
    "\n",
    "from colorama import Fore, Back, Style\n",
    "b_ = Fore.BLUE\n",
    "sr_ = Style.RESET_ALL\n",
    "\n",
    "import warnings\n",
    "warnings.filterwarnings(\"ignore\")\n",
    "os.environ['CUDA_LAUNCH_BLOCKING'] = \"1\"\n"
   ]
  },
  {
   "cell_type": "markdown",
   "id": "ec2faec6",
   "metadata": {
    "id": "WlKokfneflPX",
    "papermill": {
     "duration": 0.009877,
     "end_time": "2024-01-03T17:27:41.402192",
     "exception": false,
     "start_time": "2024-01-03T17:27:41.392315",
     "status": "completed"
    },
    "tags": []
   },
   "source": [
    "# set config"
   ]
  },
  {
   "cell_type": "markdown",
   "id": "1fed6c9f",
   "metadata": {
    "id": "Sn5B2oMyfsa_",
    "papermill": {
     "duration": 0.009667,
     "end_time": "2024-01-03T17:27:41.422054",
     "exception": false,
     "start_time": "2024-01-03T17:27:41.412387",
     "status": "completed"
    },
    "tags": []
   },
   "source": [
    "## model is pretrained"
   ]
  },
  {
   "cell_type": "code",
   "execution_count": 2,
   "id": "4618be73",
   "metadata": {
    "execution": {
     "iopub.execute_input": "2024-01-03T17:27:41.443270Z",
     "iopub.status.busy": "2024-01-03T17:27:41.442791Z",
     "iopub.status.idle": "2024-01-03T17:27:41.544501Z",
     "shell.execute_reply": "2024-01-03T17:27:41.543586Z"
    },
    "id": "weA2IxpFx9eb",
    "papermill": {
     "duration": 0.114665,
     "end_time": "2024-01-03T17:27:41.546436",
     "exception": false,
     "start_time": "2024-01-03T17:27:41.431771",
     "status": "completed"
    },
    "tags": []
   },
   "outputs": [],
   "source": [
    "CONFIG = {\n",
    "    \"seed\": 777,\n",
    "    \"img_size\": 2054,\n",
    "    \"model_name\": \"tf_efficientnetv2_s_in21ft1k\",\n",
    "    \"num_classes\": 5,\n",
    "    \"valid_batch_size\": 4,\n",
    "    \"device\": torch.device(\"cuda:0\" if torch.cuda.is_available() else \"cpu\"),\n",
    "}\n"
   ]
  },
  {
   "cell_type": "markdown",
   "id": "d45d96b0",
   "metadata": {
    "id": "VTIfM559f2Yi",
    "papermill": {
     "duration": 0.010002,
     "end_time": "2024-01-03T17:27:41.566629",
     "exception": false,
     "start_time": "2024-01-03T17:27:41.556627",
     "status": "completed"
    },
    "tags": []
   },
   "source": [
    "# set random_seed"
   ]
  },
  {
   "cell_type": "code",
   "execution_count": 3,
   "id": "f4b2ed83",
   "metadata": {
    "execution": {
     "iopub.execute_input": "2024-01-03T17:27:41.588062Z",
     "iopub.status.busy": "2024-01-03T17:27:41.587768Z",
     "iopub.status.idle": "2024-01-03T17:27:41.604409Z",
     "shell.execute_reply": "2024-01-03T17:27:41.603573Z"
    },
    "id": "vlU-CRdUx9ec",
    "papermill": {
     "duration": 0.030089,
     "end_time": "2024-01-03T17:27:41.606472",
     "exception": false,
     "start_time": "2024-01-03T17:27:41.576383",
     "status": "completed"
    },
    "tags": []
   },
   "outputs": [],
   "source": [
    "def set_seed(seed=42):\n",
    "    np.random.seed(seed)\n",
    "    torch.manual_seed(seed)\n",
    "    torch.cuda.manual_seed(seed)\n",
    "    torch.backends.cudnn.deterministic = True\n",
    "    torch.backends.cudnn.benchmark = False\n",
    "    os.environ['PYTHONHASHSEED'] = str(seed)\n",
    "set_seed(CONFIG['seed'])"
   ]
  },
  {
   "cell_type": "markdown",
   "id": "c3e58e3b",
   "metadata": {
    "id": "PlDoYz5ff-6n",
    "papermill": {
     "duration": 0.009887,
     "end_time": "2024-01-03T17:27:41.626310",
     "exception": false,
     "start_time": "2024-01-03T17:27:41.616423",
     "status": "completed"
    },
    "tags": []
   },
   "source": [
    "# directory"
   ]
  },
  {
   "cell_type": "code",
   "execution_count": 4,
   "id": "9c0f6c08",
   "metadata": {
    "execution": {
     "iopub.execute_input": "2024-01-03T17:27:41.647758Z",
     "iopub.status.busy": "2024-01-03T17:27:41.647228Z",
     "iopub.status.idle": "2024-01-03T17:27:41.652756Z",
     "shell.execute_reply": "2024-01-03T17:27:41.651883Z"
    },
    "id": "FuaWvVZgx9ed",
    "papermill": {
     "duration": 0.018598,
     "end_time": "2024-01-03T17:27:41.654738",
     "exception": false,
     "start_time": "2024-01-03T17:27:41.636140",
     "status": "completed"
    },
    "tags": []
   },
   "outputs": [],
   "source": [
    "ROOT_DIR = '/kaggle/input/UBC-OCEAN'  # 📁 Root directory containing the dataset\n",
    "TEST_DIR = '/kaggle/input/UBC-OCEAN/test_thumbnails'  # 📁 Test thumbnails directory\n",
    "ALT_TEST_DIR = '/kaggle/input/UBC-OCEAN/test_images'  # 📁 Alternative test images directory\n",
    "Model_predict = '/kaggle/input/check-ponit007'  # 📁 Model prediction directory\n",
    "LABEL_ENCODER_BIN = \"/kaggle/input/ubcpytorchwith-classweights-training-fold1of5/label_encoder.pkl\"  # 📄 Label encoder binary file\n",
    "BEST_WEIGHT = \"/kaggle/input/baseline-0-36/Acc0.70_Loss1.0140_epoch29_tf_efficientnetv2_s_in21ft1k_0.36.bin\"  # 📄 Best weight file 1\n",
    "BEST_WEIGHT2 = \"/kaggle/input/ubc-efficienetnetb0-fold1of10-2048pix-thumbnails/Recall0.9178_Acc0.9437_Loss0.1685_epoch9.bin\"  # 📄 Best weight file 2\n",
    "BEST_WEIGHT3 = \"/kaggle/input/ubc-efficienetnetb0-fold1of10-2048pix-thumbnails/Recall0.8858_Acc0.9155_Loss0.2106_epoch1.bin\"  # 📄 Best weight file 3\n",
    "BEST_WEIGHT4 = \"/kaggle/input/ver-21-10/Acc0.50_Loss1.2095_epoch4.bin\" \n",
    "BEST_WEIGHT5=\"/kaggle/input/ubc-fine-tuning-with-loss-for-class-imbalance/Recall0.9022_Acc0.9067_Loss0.1111_epoch5.bin\""
   ]
  },
  {
   "cell_type": "markdown",
   "id": "66c70423",
   "metadata": {
    "id": "TTBzw9ETg0lE",
    "papermill": {
     "duration": 0.009651,
     "end_time": "2024-01-03T17:27:41.674486",
     "exception": false,
     "start_time": "2024-01-03T17:27:41.664835",
     "status": "completed"
    },
    "tags": []
   },
   "source": [
    "# transform path and make path"
   ]
  },
  {
   "cell_type": "code",
   "execution_count": 5,
   "id": "d713b4d4",
   "metadata": {
    "execution": {
     "iopub.execute_input": "2024-01-03T17:27:41.695747Z",
     "iopub.status.busy": "2024-01-03T17:27:41.695316Z",
     "iopub.status.idle": "2024-01-03T17:27:41.700194Z",
     "shell.execute_reply": "2024-01-03T17:27:41.699249Z"
    },
    "id": "roUJb9hKx9ee",
    "papermill": {
     "duration": 0.017816,
     "end_time": "2024-01-03T17:27:41.702204",
     "exception": false,
     "start_time": "2024-01-03T17:27:41.684388",
     "status": "completed"
    },
    "tags": []
   },
   "outputs": [],
   "source": [
    "def get_test_file_path(image_id):\n",
    "    if os.path.exists(f\"{TEST_DIR}/{image_id}_thumbnail.png\"):\n",
    "        return f\"{TEST_DIR}/{image_id}_thumbnail.png\"\n",
    "    else:\n",
    "        return f\"{ALT_TEST_DIR}/{image_id}.png\"\n"
   ]
  },
  {
   "cell_type": "code",
   "execution_count": 6,
   "id": "ebe57b5e",
   "metadata": {
    "execution": {
     "iopub.execute_input": "2024-01-03T17:27:41.723401Z",
     "iopub.status.busy": "2024-01-03T17:27:41.723107Z",
     "iopub.status.idle": "2024-01-03T17:27:41.744319Z",
     "shell.execute_reply": "2024-01-03T17:27:41.743623Z"
    },
    "id": "sDMPkAQEx9ee",
    "papermill": {
     "duration": 0.033837,
     "end_time": "2024-01-03T17:27:41.746124",
     "exception": false,
     "start_time": "2024-01-03T17:27:41.712287",
     "status": "completed"
    },
    "tags": []
   },
   "outputs": [],
   "source": [
    "df = pd.read_csv(f\"{ROOT_DIR}/test.csv\")\n",
    "\n",
    "df['file_path'] = df['image_id'].apply(get_test_file_path)\n",
    "\n",
    "df['label'] = 0"
   ]
  },
  {
   "cell_type": "code",
   "execution_count": 7,
   "id": "f28d7eb2",
   "metadata": {
    "execution": {
     "iopub.execute_input": "2024-01-03T17:27:41.767103Z",
     "iopub.status.busy": "2024-01-03T17:27:41.766840Z",
     "iopub.status.idle": "2024-01-03T17:27:41.781141Z",
     "shell.execute_reply": "2024-01-03T17:27:41.780439Z"
    },
    "id": "ZkXGt57jx9ee",
    "papermill": {
     "duration": 0.02697,
     "end_time": "2024-01-03T17:27:41.782996",
     "exception": false,
     "start_time": "2024-01-03T17:27:41.756026",
     "status": "completed"
    },
    "tags": []
   },
   "outputs": [],
   "source": [
    "df_sub = pd.read_csv(f\"{ROOT_DIR}/sample_submission.csv\")"
   ]
  },
  {
   "cell_type": "markdown",
   "id": "6c9a597e",
   "metadata": {
    "id": "1DfnC_qHhJTg",
    "papermill": {
     "duration": 0.009652,
     "end_time": "2024-01-03T17:27:41.802515",
     "exception": false,
     "start_time": "2024-01-03T17:27:41.792863",
     "status": "completed"
    },
    "tags": []
   },
   "source": [
    "# class labels ⇔ predicted"
   ]
  },
  {
   "cell_type": "code",
   "execution_count": 8,
   "id": "a3d6b176",
   "metadata": {
    "execution": {
     "iopub.execute_input": "2024-01-03T17:27:41.824079Z",
     "iopub.status.busy": "2024-01-03T17:27:41.823400Z",
     "iopub.status.idle": "2024-01-03T17:27:41.836506Z",
     "shell.execute_reply": "2024-01-03T17:27:41.835690Z"
    },
    "id": "ebc7VDf5x9ef",
    "papermill": {
     "duration": 0.025908,
     "end_time": "2024-01-03T17:27:41.838404",
     "exception": false,
     "start_time": "2024-01-03T17:27:41.812496",
     "status": "completed"
    },
    "tags": []
   },
   "outputs": [],
   "source": [
    "encoder = joblib.load(LABEL_ENCODER_BIN)"
   ]
  },
  {
   "cell_type": "markdown",
   "id": "7326c1b8",
   "metadata": {
    "id": "CekuaXfsXYx-",
    "papermill": {
     "duration": 0.009852,
     "end_time": "2024-01-03T17:27:41.858204",
     "exception": false,
     "start_time": "2024-01-03T17:27:41.848352",
     "status": "completed"
    },
    "tags": []
   },
   "source": [
    "    labels == label は、labels 配列内で label に等しい要素がある場所で True となり、それ以外は False となります。\n",
    "    np.sum(labels == label) は、True の要素の数を合計します。これにより、指定された label に属するピクセルの数（面積）が計算されます。"
   ]
  },
  {
   "cell_type": "markdown",
   "id": "03cb2c74",
   "metadata": {
    "id": "u4PMOP0ahfHX",
    "papermill": {
     "duration": 0.009672,
     "end_time": "2024-01-03T17:27:41.878122",
     "exception": false,
     "start_time": "2024-01-03T17:27:41.868450",
     "status": "completed"
    },
    "tags": []
   },
   "source": [
    "# method of adjust image"
   ]
  },
  {
   "cell_type": "code",
   "execution_count": 9,
   "id": "2a2aa93a",
   "metadata": {
    "execution": {
     "iopub.execute_input": "2024-01-03T17:27:41.899857Z",
     "iopub.status.busy": "2024-01-03T17:27:41.899050Z",
     "iopub.status.idle": "2024-01-03T17:27:41.913224Z",
     "shell.execute_reply": "2024-01-03T17:27:41.912439Z"
    },
    "id": "x_fbU1nbx9eg",
    "papermill": {
     "duration": 0.027225,
     "end_time": "2024-01-03T17:27:41.915090",
     "exception": false,
     "start_time": "2024-01-03T17:27:41.887865",
     "status": "completed"
    },
    "tags": []
   },
   "outputs": [],
   "source": [
    "# トリミング画像の取得\n",
    "def get_cropped_images(file_path, image_id, th_area=1000):\n",
    "    image = Image.open(file_path)\n",
    "\n",
    "    as_ratio = image.size[0] / image.size[1]\n",
    "\n",
    "    sxs, exs, sys, eys = [], [], [], []\n",
    "\n",
    "    if as_ratio >= 1.5:\n",
    "        # アスペクト比が1.5>=の時（横長の時にトリミング）\n",
    "\n",
    "        #非0のピクセルのマスクの作製\n",
    "        mask = np.max(np.array(image) > 0, axis=-1).astype(np.uint8)\n",
    "\n",
    "        # マスクから結合の要素を抽出（連結成分は、隣接する非ゼロのピクセルが同じラベルでマークされた領域）\n",
    "        retval, labels = cv2.connectedComponents(mask)\n",
    "\n",
    "        if retval >= as_ratio:\n",
    "           #連結部分がアスペクト比以上の時、境界ボックスを計算\n",
    "            x, y = np.meshgrid(np.arange(image.size[0]), np.arange(image.size[1]))\n",
    "            for label in range(1, retval):\n",
    "               #連結部分の面積の計算\n",
    "                area = np.sum(labels == label)\n",
    "                #面積がth_area未満の場合にはスキップ\n",
    "                if area < th_area:\n",
    "                    continue\n",
    "\n",
    "                #連結部分の座標の取得\n",
    "                xs, ys = x[labels == label], y[labels == label]\n",
    "\n",
    "                #連結部分のx座標の最小値と最大値の取得\n",
    "                sx, ex = np.min(xs), np.max(xs)\n",
    "                #中心座標\n",
    "                cx = (sx + ex) // 2\n",
    "                #トリミング領域のサイズ\n",
    "                crop_size = image.size[1]\n",
    "                #トリミング領域開始x座標\n",
    "                sx = max(0, cx - crop_size // 2)\n",
    "                #トリミング領域終了x座標\n",
    "                ex = min(sx + crop_size - 1, image.size[0] - 1)\n",
    "                #トリミング領域開始x座標再調整\n",
    "                sx = ex - crop_size + 1\n",
    "                #トリミング領域y座標\n",
    "                sy, ey = 0, image.size[1] - 1\n",
    "\n",
    "                # リストに座標を追加\n",
    "                sxs.append(sx)\n",
    "                exs.append(ex)\n",
    "                sys.append(sy)\n",
    "                eys.append(ey)\n",
    "        else:\n",
    "            #連結部分がない場合、等分割する\n",
    "            crop_size = image.size[1]\n",
    "            for i in range(int(as_ratio)):\n",
    "                sxs.append(i * crop_size)\n",
    "                exs.append((i + 1) * crop_size - 1)\n",
    "                sys.append(0)\n",
    "                eys.append(crop_size - 1)\n",
    "    else:\n",
    "        # アスペクト比が1.5未満の時、トリミング領域をしない\n",
    "        sxs, exs, sys, eys = [0,], [image.size[0] - 1], [0,], [image.size[1] - 1]\n",
    "\n",
    "    # df_cropに画像データ、パス、座標を追加\n",
    "    df_crop = pd.DataFrame()\n",
    "    df_crop[\"image_id\"] = [image_id] * len(sxs)\n",
    "    df_crop[\"file_path\"] = [file_path] * len(sxs)\n",
    "    df_crop[\"sx\"] = sxs\n",
    "    df_crop[\"ex\"] = exs\n",
    "    df_crop[\"sy\"] = sys\n",
    "    df_crop[\"ey\"] = eys\n",
    "\n",
    "    return df_crop\n"
   ]
  },
  {
   "cell_type": "markdown",
   "id": "c0152754",
   "metadata": {
    "id": "-5HxSjVVh176",
    "papermill": {
     "duration": 0.009673,
     "end_time": "2024-01-03T17:27:41.934574",
     "exception": false,
     "start_time": "2024-01-03T17:27:41.924901",
     "status": "completed"
    },
    "tags": []
   },
   "source": [
    "# adjust image"
   ]
  },
  {
   "cell_type": "code",
   "execution_count": 10,
   "id": "9466b8cf",
   "metadata": {
    "execution": {
     "iopub.execute_input": "2024-01-03T17:27:42.001316Z",
     "iopub.status.busy": "2024-01-03T17:27:42.000971Z",
     "iopub.status.idle": "2024-01-03T17:27:42.637215Z",
     "shell.execute_reply": "2024-01-03T17:27:42.636236Z"
    },
    "id": "BQaW8mHex9eg",
    "papermill": {
     "duration": 0.69539,
     "end_time": "2024-01-03T17:27:42.639711",
     "exception": false,
     "start_time": "2024-01-03T17:27:41.944321",
     "status": "completed"
    },
    "tags": []
   },
   "outputs": [],
   "source": [
    "dfs = []\n",
    "\n",
    "for (file_path, image_id) in zip(df[\"file_path\"], df[\"image_id\"]):\n",
    "    dfs.append(get_cropped_images(file_path, image_id))\n",
    "\n",
    "df_crop = pd.concat(dfs)\n",
    "\n",
    "df_crop[\"label\"] = 0"
   ]
  },
  {
   "cell_type": "markdown",
   "id": "9f350ed4",
   "metadata": {
    "id": "Xe_Be7puiF2g",
    "papermill": {
     "duration": 0.009997,
     "end_time": "2024-01-03T17:27:42.659947",
     "exception": false,
     "start_time": "2024-01-03T17:27:42.649950",
     "status": "completed"
    },
    "tags": []
   },
   "source": [
    "# delete duplication"
   ]
  },
  {
   "cell_type": "code",
   "execution_count": 11,
   "id": "e6d83bf5",
   "metadata": {
    "execution": {
     "iopub.execute_input": "2024-01-03T17:27:42.682287Z",
     "iopub.status.busy": "2024-01-03T17:27:42.681418Z",
     "iopub.status.idle": "2024-01-03T17:27:42.694241Z",
     "shell.execute_reply": "2024-01-03T17:27:42.693480Z"
    },
    "id": "pV__dGNRx9eh",
    "papermill": {
     "duration": 0.025999,
     "end_time": "2024-01-03T17:27:42.696152",
     "exception": false,
     "start_time": "2024-01-03T17:27:42.670153",
     "status": "completed"
    },
    "tags": []
   },
   "outputs": [],
   "source": [
    "df_crop = df_crop.drop_duplicates(subset=[\"image_id\", \"sx\", \"ex\", \"sy\", \"ey\"]).reset_index(drop=True)"
   ]
  },
  {
   "cell_type": "markdown",
   "id": "a99f4f35",
   "metadata": {
    "id": "h5IJtJuKiRNA",
    "papermill": {
     "duration": 0.009633,
     "end_time": "2024-01-03T17:27:42.715813",
     "exception": false,
     "start_time": "2024-01-03T17:27:42.706180",
     "status": "completed"
    },
    "tags": []
   },
   "source": [
    "# class of load dataset"
   ]
  },
  {
   "cell_type": "code",
   "execution_count": 12,
   "id": "e2d923b4",
   "metadata": {
    "execution": {
     "iopub.execute_input": "2024-01-03T17:27:42.737368Z",
     "iopub.status.busy": "2024-01-03T17:27:42.737011Z",
     "iopub.status.idle": "2024-01-03T17:27:42.745903Z",
     "shell.execute_reply": "2024-01-03T17:27:42.745028Z"
    },
    "id": "2xYaFF7Dx9eh",
    "papermill": {
     "duration": 0.021955,
     "end_time": "2024-01-03T17:27:42.747780",
     "exception": false,
     "start_time": "2024-01-03T17:27:42.725825",
     "status": "completed"
    },
    "tags": []
   },
   "outputs": [],
   "source": [
    "class UBCDataset(Dataset):\n",
    "    def __init__(self, df, transforms=None):\n",
    "        self.df = df\n",
    "        self.file_names = df['file_path'].values\n",
    "        self.labels = df['label'].values\n",
    "        self.transforms = transforms\n",
    "        self.sxs = df[\"sx\"].values\n",
    "        self.exs = df[\"ex\"].values\n",
    "        self.sys = df[\"sy\"].values\n",
    "        self.eys = df[\"ey\"].values\n",
    "\n",
    "    def __len__(self):\n",
    "        return len(self.df)\n",
    "\n",
    "    def __getitem__(self, index):\n",
    "        img_path = self.file_names[index]\n",
    "        sx, ex, sy, ey = self.sxs[index], self.exs[index], self.sys[index], self.eys[index]\n",
    "\n",
    "        img = cv2.imread(img_path)\n",
    "        img = cv2.cvtColor(img, cv2.COLOR_BGR2RGB)\n",
    "\n",
    "        img = img[sy:ey, sx:ex, :]\n",
    "\n",
    "        label = self.labels[index]\n",
    "\n",
    "        if self.transforms:\n",
    "            img = self.transforms(image=img)[\"image\"]\n",
    "\n",
    "        return {\n",
    "            'image': img,\n",
    "            'label': torch.tensor(label, dtype=torch.long)\n",
    "        }\n"
   ]
  },
  {
   "cell_type": "markdown",
   "id": "c0f8799b",
   "metadata": {
    "id": "kkKMtDFGiXee",
    "papermill": {
     "duration": 0.009445,
     "end_time": "2024-01-03T17:27:42.767290",
     "exception": false,
     "start_time": "2024-01-03T17:27:42.757845",
     "status": "completed"
    },
    "tags": []
   },
   "source": [
    "# adjust image"
   ]
  },
  {
   "cell_type": "code",
   "execution_count": 13,
   "id": "6588887c",
   "metadata": {
    "execution": {
     "iopub.execute_input": "2024-01-03T17:27:42.788060Z",
     "iopub.status.busy": "2024-01-03T17:27:42.787736Z",
     "iopub.status.idle": "2024-01-03T17:27:42.793575Z",
     "shell.execute_reply": "2024-01-03T17:27:42.792785Z"
    },
    "id": "is0KcTcHx9eh",
    "papermill": {
     "duration": 0.018554,
     "end_time": "2024-01-03T17:27:42.795581",
     "exception": false,
     "start_time": "2024-01-03T17:27:42.777027",
     "status": "completed"
    },
    "tags": []
   },
   "outputs": [],
   "source": [
    "data_transforms = {\n",
    "    \"valid\": A.Compose([\n",
    "        A.Resize(CONFIG['img_size'], CONFIG['img_size']),\n",
    "\n",
    "        A.Normalize(\n",
    "            mean=[0.485, 0.456, 0.406],\n",
    "            std=[0.229, 0.224, 0.225],\n",
    "            max_pixel_value=255.0,\n",
    "            p=1.0\n",
    "        ),\n",
    "\n",
    "        ToTensorV2()\n",
    "    ], p=1.)\n",
    "}"
   ]
  },
  {
   "cell_type": "markdown",
   "id": "c16db10e",
   "metadata": {
    "id": "jklWKoMJifkc",
    "papermill": {
     "duration": 0.009713,
     "end_time": "2024-01-03T17:27:42.815037",
     "exception": false,
     "start_time": "2024-01-03T17:27:42.805324",
     "status": "completed"
    },
    "tags": []
   },
   "source": [
    "# GeM"
   ]
  },
  {
   "cell_type": "code",
   "execution_count": 14,
   "id": "fdfb4f83",
   "metadata": {
    "execution": {
     "iopub.execute_input": "2024-01-03T17:27:42.835803Z",
     "iopub.status.busy": "2024-01-03T17:27:42.835479Z",
     "iopub.status.idle": "2024-01-03T17:27:42.842905Z",
     "shell.execute_reply": "2024-01-03T17:27:42.842149Z"
    },
    "id": "oGSt1wDNx9eh",
    "papermill": {
     "duration": 0.019931,
     "end_time": "2024-01-03T17:27:42.844773",
     "exception": false,
     "start_time": "2024-01-03T17:27:42.824842",
     "status": "completed"
    },
    "tags": []
   },
   "outputs": [],
   "source": [
    "class GeM(nn.Module):\n",
    "    def __init__(self, p=3, eps=1e-6):\n",
    "        super(GeM, self).__init__()\n",
    "        self.p = nn.Parameter(torch.ones(1) * p)\n",
    "        self.eps = eps\n",
    "\n",
    "    def forward(self, x):\n",
    "        return self.gem(x, p=self.p, eps=self.eps)\n",
    "\n",
    "    def gem(self, x, p=3, eps=1e-6):\n",
    "        return F.avg_pool2d(x.clamp(min=eps).pow(p), (x.size(-2), x.size(-1))).pow(1./p)\n",
    "\n",
    "    def __repr__(self):\n",
    "        return self.__class__.__name__ + \\\n",
    "                '(' + 'p=' + '{:.4f}'.format(self.p.data.tolist()[0]) + \\\n",
    "                ', ' + 'eps=' + str(self.eps) + ')'"
   ]
  },
  {
   "cell_type": "markdown",
   "id": "1f9d7767",
   "metadata": {
    "id": "sGh4sMXmmOQh",
    "papermill": {
     "duration": 0.0098,
     "end_time": "2024-01-03T17:27:42.864427",
     "exception": false,
     "start_time": "2024-01-03T17:27:42.854627",
     "status": "completed"
    },
    "tags": []
   },
   "source": [
    "# UBC model"
   ]
  },
  {
   "cell_type": "code",
   "execution_count": 15,
   "id": "df8d4819",
   "metadata": {
    "execution": {
     "iopub.execute_input": "2024-01-03T17:27:42.885390Z",
     "iopub.status.busy": "2024-01-03T17:27:42.885068Z",
     "iopub.status.idle": "2024-01-03T17:27:48.272241Z",
     "shell.execute_reply": "2024-01-03T17:27:48.271313Z"
    },
    "id": "NZT6mVkSx9eh",
    "outputId": "d4efc0db-266f-4dd3-95b2-b8981c0fedd3",
    "papermill": {
     "duration": 5.400922,
     "end_time": "2024-01-03T17:27:48.275148",
     "exception": false,
     "start_time": "2024-01-03T17:27:42.874226",
     "status": "completed"
    },
    "tags": []
   },
   "outputs": [
    {
     "data": {
      "text/plain": [
       "UBCModel(\n",
       "  (model): EfficientNet(\n",
       "    (conv_stem): Conv2dSame(3, 32, kernel_size=(3, 3), stride=(2, 2), bias=False)\n",
       "    (bn1): BatchNormAct2d(\n",
       "      32, eps=0.001, momentum=0.1, affine=True, track_running_stats=True\n",
       "      (drop): Identity()\n",
       "      (act): SiLU(inplace=True)\n",
       "    )\n",
       "    (blocks): Sequential(\n",
       "      (0): Sequential(\n",
       "        (0): DepthwiseSeparableConv(\n",
       "          (conv_dw): Conv2d(32, 32, kernel_size=(3, 3), stride=(1, 1), padding=(1, 1), groups=32, bias=False)\n",
       "          (bn1): BatchNormAct2d(\n",
       "            32, eps=0.001, momentum=0.1, affine=True, track_running_stats=True\n",
       "            (drop): Identity()\n",
       "            (act): SiLU(inplace=True)\n",
       "          )\n",
       "          (se): SqueezeExcite(\n",
       "            (conv_reduce): Conv2d(32, 8, kernel_size=(1, 1), stride=(1, 1))\n",
       "            (act1): SiLU(inplace=True)\n",
       "            (conv_expand): Conv2d(8, 32, kernel_size=(1, 1), stride=(1, 1))\n",
       "            (gate): Sigmoid()\n",
       "          )\n",
       "          (conv_pw): Conv2d(32, 16, kernel_size=(1, 1), stride=(1, 1), bias=False)\n",
       "          (bn2): BatchNormAct2d(\n",
       "            16, eps=0.001, momentum=0.1, affine=True, track_running_stats=True\n",
       "            (drop): Identity()\n",
       "            (act): Identity()\n",
       "          )\n",
       "          (drop_path): Identity()\n",
       "        )\n",
       "      )\n",
       "      (1): Sequential(\n",
       "        (0): InvertedResidual(\n",
       "          (conv_pw): Conv2d(16, 96, kernel_size=(1, 1), stride=(1, 1), bias=False)\n",
       "          (bn1): BatchNormAct2d(\n",
       "            96, eps=0.001, momentum=0.1, affine=True, track_running_stats=True\n",
       "            (drop): Identity()\n",
       "            (act): SiLU(inplace=True)\n",
       "          )\n",
       "          (conv_dw): Conv2dSame(96, 96, kernel_size=(3, 3), stride=(2, 2), groups=96, bias=False)\n",
       "          (bn2): BatchNormAct2d(\n",
       "            96, eps=0.001, momentum=0.1, affine=True, track_running_stats=True\n",
       "            (drop): Identity()\n",
       "            (act): SiLU(inplace=True)\n",
       "          )\n",
       "          (se): SqueezeExcite(\n",
       "            (conv_reduce): Conv2d(96, 4, kernel_size=(1, 1), stride=(1, 1))\n",
       "            (act1): SiLU(inplace=True)\n",
       "            (conv_expand): Conv2d(4, 96, kernel_size=(1, 1), stride=(1, 1))\n",
       "            (gate): Sigmoid()\n",
       "          )\n",
       "          (conv_pwl): Conv2d(96, 24, kernel_size=(1, 1), stride=(1, 1), bias=False)\n",
       "          (bn3): BatchNormAct2d(\n",
       "            24, eps=0.001, momentum=0.1, affine=True, track_running_stats=True\n",
       "            (drop): Identity()\n",
       "            (act): Identity()\n",
       "          )\n",
       "          (drop_path): Identity()\n",
       "        )\n",
       "        (1): InvertedResidual(\n",
       "          (conv_pw): Conv2d(24, 144, kernel_size=(1, 1), stride=(1, 1), bias=False)\n",
       "          (bn1): BatchNormAct2d(\n",
       "            144, eps=0.001, momentum=0.1, affine=True, track_running_stats=True\n",
       "            (drop): Identity()\n",
       "            (act): SiLU(inplace=True)\n",
       "          )\n",
       "          (conv_dw): Conv2d(144, 144, kernel_size=(3, 3), stride=(1, 1), padding=(1, 1), groups=144, bias=False)\n",
       "          (bn2): BatchNormAct2d(\n",
       "            144, eps=0.001, momentum=0.1, affine=True, track_running_stats=True\n",
       "            (drop): Identity()\n",
       "            (act): SiLU(inplace=True)\n",
       "          )\n",
       "          (se): SqueezeExcite(\n",
       "            (conv_reduce): Conv2d(144, 6, kernel_size=(1, 1), stride=(1, 1))\n",
       "            (act1): SiLU(inplace=True)\n",
       "            (conv_expand): Conv2d(6, 144, kernel_size=(1, 1), stride=(1, 1))\n",
       "            (gate): Sigmoid()\n",
       "          )\n",
       "          (conv_pwl): Conv2d(144, 24, kernel_size=(1, 1), stride=(1, 1), bias=False)\n",
       "          (bn3): BatchNormAct2d(\n",
       "            24, eps=0.001, momentum=0.1, affine=True, track_running_stats=True\n",
       "            (drop): Identity()\n",
       "            (act): Identity()\n",
       "          )\n",
       "          (drop_path): Identity()\n",
       "        )\n",
       "      )\n",
       "      (2): Sequential(\n",
       "        (0): InvertedResidual(\n",
       "          (conv_pw): Conv2d(24, 144, kernel_size=(1, 1), stride=(1, 1), bias=False)\n",
       "          (bn1): BatchNormAct2d(\n",
       "            144, eps=0.001, momentum=0.1, affine=True, track_running_stats=True\n",
       "            (drop): Identity()\n",
       "            (act): SiLU(inplace=True)\n",
       "          )\n",
       "          (conv_dw): Conv2dSame(144, 144, kernel_size=(5, 5), stride=(2, 2), groups=144, bias=False)\n",
       "          (bn2): BatchNormAct2d(\n",
       "            144, eps=0.001, momentum=0.1, affine=True, track_running_stats=True\n",
       "            (drop): Identity()\n",
       "            (act): SiLU(inplace=True)\n",
       "          )\n",
       "          (se): SqueezeExcite(\n",
       "            (conv_reduce): Conv2d(144, 6, kernel_size=(1, 1), stride=(1, 1))\n",
       "            (act1): SiLU(inplace=True)\n",
       "            (conv_expand): Conv2d(6, 144, kernel_size=(1, 1), stride=(1, 1))\n",
       "            (gate): Sigmoid()\n",
       "          )\n",
       "          (conv_pwl): Conv2d(144, 40, kernel_size=(1, 1), stride=(1, 1), bias=False)\n",
       "          (bn3): BatchNormAct2d(\n",
       "            40, eps=0.001, momentum=0.1, affine=True, track_running_stats=True\n",
       "            (drop): Identity()\n",
       "            (act): Identity()\n",
       "          )\n",
       "          (drop_path): Identity()\n",
       "        )\n",
       "        (1): InvertedResidual(\n",
       "          (conv_pw): Conv2d(40, 240, kernel_size=(1, 1), stride=(1, 1), bias=False)\n",
       "          (bn1): BatchNormAct2d(\n",
       "            240, eps=0.001, momentum=0.1, affine=True, track_running_stats=True\n",
       "            (drop): Identity()\n",
       "            (act): SiLU(inplace=True)\n",
       "          )\n",
       "          (conv_dw): Conv2d(240, 240, kernel_size=(5, 5), stride=(1, 1), padding=(2, 2), groups=240, bias=False)\n",
       "          (bn2): BatchNormAct2d(\n",
       "            240, eps=0.001, momentum=0.1, affine=True, track_running_stats=True\n",
       "            (drop): Identity()\n",
       "            (act): SiLU(inplace=True)\n",
       "          )\n",
       "          (se): SqueezeExcite(\n",
       "            (conv_reduce): Conv2d(240, 10, kernel_size=(1, 1), stride=(1, 1))\n",
       "            (act1): SiLU(inplace=True)\n",
       "            (conv_expand): Conv2d(10, 240, kernel_size=(1, 1), stride=(1, 1))\n",
       "            (gate): Sigmoid()\n",
       "          )\n",
       "          (conv_pwl): Conv2d(240, 40, kernel_size=(1, 1), stride=(1, 1), bias=False)\n",
       "          (bn3): BatchNormAct2d(\n",
       "            40, eps=0.001, momentum=0.1, affine=True, track_running_stats=True\n",
       "            (drop): Identity()\n",
       "            (act): Identity()\n",
       "          )\n",
       "          (drop_path): Identity()\n",
       "        )\n",
       "      )\n",
       "      (3): Sequential(\n",
       "        (0): InvertedResidual(\n",
       "          (conv_pw): Conv2d(40, 240, kernel_size=(1, 1), stride=(1, 1), bias=False)\n",
       "          (bn1): BatchNormAct2d(\n",
       "            240, eps=0.001, momentum=0.1, affine=True, track_running_stats=True\n",
       "            (drop): Identity()\n",
       "            (act): SiLU(inplace=True)\n",
       "          )\n",
       "          (conv_dw): Conv2dSame(240, 240, kernel_size=(3, 3), stride=(2, 2), groups=240, bias=False)\n",
       "          (bn2): BatchNormAct2d(\n",
       "            240, eps=0.001, momentum=0.1, affine=True, track_running_stats=True\n",
       "            (drop): Identity()\n",
       "            (act): SiLU(inplace=True)\n",
       "          )\n",
       "          (se): SqueezeExcite(\n",
       "            (conv_reduce): Conv2d(240, 10, kernel_size=(1, 1), stride=(1, 1))\n",
       "            (act1): SiLU(inplace=True)\n",
       "            (conv_expand): Conv2d(10, 240, kernel_size=(1, 1), stride=(1, 1))\n",
       "            (gate): Sigmoid()\n",
       "          )\n",
       "          (conv_pwl): Conv2d(240, 80, kernel_size=(1, 1), stride=(1, 1), bias=False)\n",
       "          (bn3): BatchNormAct2d(\n",
       "            80, eps=0.001, momentum=0.1, affine=True, track_running_stats=True\n",
       "            (drop): Identity()\n",
       "            (act): Identity()\n",
       "          )\n",
       "          (drop_path): Identity()\n",
       "        )\n",
       "        (1): InvertedResidual(\n",
       "          (conv_pw): Conv2d(80, 480, kernel_size=(1, 1), stride=(1, 1), bias=False)\n",
       "          (bn1): BatchNormAct2d(\n",
       "            480, eps=0.001, momentum=0.1, affine=True, track_running_stats=True\n",
       "            (drop): Identity()\n",
       "            (act): SiLU(inplace=True)\n",
       "          )\n",
       "          (conv_dw): Conv2d(480, 480, kernel_size=(3, 3), stride=(1, 1), padding=(1, 1), groups=480, bias=False)\n",
       "          (bn2): BatchNormAct2d(\n",
       "            480, eps=0.001, momentum=0.1, affine=True, track_running_stats=True\n",
       "            (drop): Identity()\n",
       "            (act): SiLU(inplace=True)\n",
       "          )\n",
       "          (se): SqueezeExcite(\n",
       "            (conv_reduce): Conv2d(480, 20, kernel_size=(1, 1), stride=(1, 1))\n",
       "            (act1): SiLU(inplace=True)\n",
       "            (conv_expand): Conv2d(20, 480, kernel_size=(1, 1), stride=(1, 1))\n",
       "            (gate): Sigmoid()\n",
       "          )\n",
       "          (conv_pwl): Conv2d(480, 80, kernel_size=(1, 1), stride=(1, 1), bias=False)\n",
       "          (bn3): BatchNormAct2d(\n",
       "            80, eps=0.001, momentum=0.1, affine=True, track_running_stats=True\n",
       "            (drop): Identity()\n",
       "            (act): Identity()\n",
       "          )\n",
       "          (drop_path): Identity()\n",
       "        )\n",
       "        (2): InvertedResidual(\n",
       "          (conv_pw): Conv2d(80, 480, kernel_size=(1, 1), stride=(1, 1), bias=False)\n",
       "          (bn1): BatchNormAct2d(\n",
       "            480, eps=0.001, momentum=0.1, affine=True, track_running_stats=True\n",
       "            (drop): Identity()\n",
       "            (act): SiLU(inplace=True)\n",
       "          )\n",
       "          (conv_dw): Conv2d(480, 480, kernel_size=(3, 3), stride=(1, 1), padding=(1, 1), groups=480, bias=False)\n",
       "          (bn2): BatchNormAct2d(\n",
       "            480, eps=0.001, momentum=0.1, affine=True, track_running_stats=True\n",
       "            (drop): Identity()\n",
       "            (act): SiLU(inplace=True)\n",
       "          )\n",
       "          (se): SqueezeExcite(\n",
       "            (conv_reduce): Conv2d(480, 20, kernel_size=(1, 1), stride=(1, 1))\n",
       "            (act1): SiLU(inplace=True)\n",
       "            (conv_expand): Conv2d(20, 480, kernel_size=(1, 1), stride=(1, 1))\n",
       "            (gate): Sigmoid()\n",
       "          )\n",
       "          (conv_pwl): Conv2d(480, 80, kernel_size=(1, 1), stride=(1, 1), bias=False)\n",
       "          (bn3): BatchNormAct2d(\n",
       "            80, eps=0.001, momentum=0.1, affine=True, track_running_stats=True\n",
       "            (drop): Identity()\n",
       "            (act): Identity()\n",
       "          )\n",
       "          (drop_path): Identity()\n",
       "        )\n",
       "      )\n",
       "      (4): Sequential(\n",
       "        (0): InvertedResidual(\n",
       "          (conv_pw): Conv2d(80, 480, kernel_size=(1, 1), stride=(1, 1), bias=False)\n",
       "          (bn1): BatchNormAct2d(\n",
       "            480, eps=0.001, momentum=0.1, affine=True, track_running_stats=True\n",
       "            (drop): Identity()\n",
       "            (act): SiLU(inplace=True)\n",
       "          )\n",
       "          (conv_dw): Conv2d(480, 480, kernel_size=(5, 5), stride=(1, 1), padding=(2, 2), groups=480, bias=False)\n",
       "          (bn2): BatchNormAct2d(\n",
       "            480, eps=0.001, momentum=0.1, affine=True, track_running_stats=True\n",
       "            (drop): Identity()\n",
       "            (act): SiLU(inplace=True)\n",
       "          )\n",
       "          (se): SqueezeExcite(\n",
       "            (conv_reduce): Conv2d(480, 20, kernel_size=(1, 1), stride=(1, 1))\n",
       "            (act1): SiLU(inplace=True)\n",
       "            (conv_expand): Conv2d(20, 480, kernel_size=(1, 1), stride=(1, 1))\n",
       "            (gate): Sigmoid()\n",
       "          )\n",
       "          (conv_pwl): Conv2d(480, 112, kernel_size=(1, 1), stride=(1, 1), bias=False)\n",
       "          (bn3): BatchNormAct2d(\n",
       "            112, eps=0.001, momentum=0.1, affine=True, track_running_stats=True\n",
       "            (drop): Identity()\n",
       "            (act): Identity()\n",
       "          )\n",
       "          (drop_path): Identity()\n",
       "        )\n",
       "        (1): InvertedResidual(\n",
       "          (conv_pw): Conv2d(112, 672, kernel_size=(1, 1), stride=(1, 1), bias=False)\n",
       "          (bn1): BatchNormAct2d(\n",
       "            672, eps=0.001, momentum=0.1, affine=True, track_running_stats=True\n",
       "            (drop): Identity()\n",
       "            (act): SiLU(inplace=True)\n",
       "          )\n",
       "          (conv_dw): Conv2d(672, 672, kernel_size=(5, 5), stride=(1, 1), padding=(2, 2), groups=672, bias=False)\n",
       "          (bn2): BatchNormAct2d(\n",
       "            672, eps=0.001, momentum=0.1, affine=True, track_running_stats=True\n",
       "            (drop): Identity()\n",
       "            (act): SiLU(inplace=True)\n",
       "          )\n",
       "          (se): SqueezeExcite(\n",
       "            (conv_reduce): Conv2d(672, 28, kernel_size=(1, 1), stride=(1, 1))\n",
       "            (act1): SiLU(inplace=True)\n",
       "            (conv_expand): Conv2d(28, 672, kernel_size=(1, 1), stride=(1, 1))\n",
       "            (gate): Sigmoid()\n",
       "          )\n",
       "          (conv_pwl): Conv2d(672, 112, kernel_size=(1, 1), stride=(1, 1), bias=False)\n",
       "          (bn3): BatchNormAct2d(\n",
       "            112, eps=0.001, momentum=0.1, affine=True, track_running_stats=True\n",
       "            (drop): Identity()\n",
       "            (act): Identity()\n",
       "          )\n",
       "          (drop_path): Identity()\n",
       "        )\n",
       "        (2): InvertedResidual(\n",
       "          (conv_pw): Conv2d(112, 672, kernel_size=(1, 1), stride=(1, 1), bias=False)\n",
       "          (bn1): BatchNormAct2d(\n",
       "            672, eps=0.001, momentum=0.1, affine=True, track_running_stats=True\n",
       "            (drop): Identity()\n",
       "            (act): SiLU(inplace=True)\n",
       "          )\n",
       "          (conv_dw): Conv2d(672, 672, kernel_size=(5, 5), stride=(1, 1), padding=(2, 2), groups=672, bias=False)\n",
       "          (bn2): BatchNormAct2d(\n",
       "            672, eps=0.001, momentum=0.1, affine=True, track_running_stats=True\n",
       "            (drop): Identity()\n",
       "            (act): SiLU(inplace=True)\n",
       "          )\n",
       "          (se): SqueezeExcite(\n",
       "            (conv_reduce): Conv2d(672, 28, kernel_size=(1, 1), stride=(1, 1))\n",
       "            (act1): SiLU(inplace=True)\n",
       "            (conv_expand): Conv2d(28, 672, kernel_size=(1, 1), stride=(1, 1))\n",
       "            (gate): Sigmoid()\n",
       "          )\n",
       "          (conv_pwl): Conv2d(672, 112, kernel_size=(1, 1), stride=(1, 1), bias=False)\n",
       "          (bn3): BatchNormAct2d(\n",
       "            112, eps=0.001, momentum=0.1, affine=True, track_running_stats=True\n",
       "            (drop): Identity()\n",
       "            (act): Identity()\n",
       "          )\n",
       "          (drop_path): Identity()\n",
       "        )\n",
       "      )\n",
       "      (5): Sequential(\n",
       "        (0): InvertedResidual(\n",
       "          (conv_pw): Conv2d(112, 672, kernel_size=(1, 1), stride=(1, 1), bias=False)\n",
       "          (bn1): BatchNormAct2d(\n",
       "            672, eps=0.001, momentum=0.1, affine=True, track_running_stats=True\n",
       "            (drop): Identity()\n",
       "            (act): SiLU(inplace=True)\n",
       "          )\n",
       "          (conv_dw): Conv2dSame(672, 672, kernel_size=(5, 5), stride=(2, 2), groups=672, bias=False)\n",
       "          (bn2): BatchNormAct2d(\n",
       "            672, eps=0.001, momentum=0.1, affine=True, track_running_stats=True\n",
       "            (drop): Identity()\n",
       "            (act): SiLU(inplace=True)\n",
       "          )\n",
       "          (se): SqueezeExcite(\n",
       "            (conv_reduce): Conv2d(672, 28, kernel_size=(1, 1), stride=(1, 1))\n",
       "            (act1): SiLU(inplace=True)\n",
       "            (conv_expand): Conv2d(28, 672, kernel_size=(1, 1), stride=(1, 1))\n",
       "            (gate): Sigmoid()\n",
       "          )\n",
       "          (conv_pwl): Conv2d(672, 192, kernel_size=(1, 1), stride=(1, 1), bias=False)\n",
       "          (bn3): BatchNormAct2d(\n",
       "            192, eps=0.001, momentum=0.1, affine=True, track_running_stats=True\n",
       "            (drop): Identity()\n",
       "            (act): Identity()\n",
       "          )\n",
       "          (drop_path): Identity()\n",
       "        )\n",
       "        (1): InvertedResidual(\n",
       "          (conv_pw): Conv2d(192, 1152, kernel_size=(1, 1), stride=(1, 1), bias=False)\n",
       "          (bn1): BatchNormAct2d(\n",
       "            1152, eps=0.001, momentum=0.1, affine=True, track_running_stats=True\n",
       "            (drop): Identity()\n",
       "            (act): SiLU(inplace=True)\n",
       "          )\n",
       "          (conv_dw): Conv2d(1152, 1152, kernel_size=(5, 5), stride=(1, 1), padding=(2, 2), groups=1152, bias=False)\n",
       "          (bn2): BatchNormAct2d(\n",
       "            1152, eps=0.001, momentum=0.1, affine=True, track_running_stats=True\n",
       "            (drop): Identity()\n",
       "            (act): SiLU(inplace=True)\n",
       "          )\n",
       "          (se): SqueezeExcite(\n",
       "            (conv_reduce): Conv2d(1152, 48, kernel_size=(1, 1), stride=(1, 1))\n",
       "            (act1): SiLU(inplace=True)\n",
       "            (conv_expand): Conv2d(48, 1152, kernel_size=(1, 1), stride=(1, 1))\n",
       "            (gate): Sigmoid()\n",
       "          )\n",
       "          (conv_pwl): Conv2d(1152, 192, kernel_size=(1, 1), stride=(1, 1), bias=False)\n",
       "          (bn3): BatchNormAct2d(\n",
       "            192, eps=0.001, momentum=0.1, affine=True, track_running_stats=True\n",
       "            (drop): Identity()\n",
       "            (act): Identity()\n",
       "          )\n",
       "          (drop_path): Identity()\n",
       "        )\n",
       "        (2): InvertedResidual(\n",
       "          (conv_pw): Conv2d(192, 1152, kernel_size=(1, 1), stride=(1, 1), bias=False)\n",
       "          (bn1): BatchNormAct2d(\n",
       "            1152, eps=0.001, momentum=0.1, affine=True, track_running_stats=True\n",
       "            (drop): Identity()\n",
       "            (act): SiLU(inplace=True)\n",
       "          )\n",
       "          (conv_dw): Conv2d(1152, 1152, kernel_size=(5, 5), stride=(1, 1), padding=(2, 2), groups=1152, bias=False)\n",
       "          (bn2): BatchNormAct2d(\n",
       "            1152, eps=0.001, momentum=0.1, affine=True, track_running_stats=True\n",
       "            (drop): Identity()\n",
       "            (act): SiLU(inplace=True)\n",
       "          )\n",
       "          (se): SqueezeExcite(\n",
       "            (conv_reduce): Conv2d(1152, 48, kernel_size=(1, 1), stride=(1, 1))\n",
       "            (act1): SiLU(inplace=True)\n",
       "            (conv_expand): Conv2d(48, 1152, kernel_size=(1, 1), stride=(1, 1))\n",
       "            (gate): Sigmoid()\n",
       "          )\n",
       "          (conv_pwl): Conv2d(1152, 192, kernel_size=(1, 1), stride=(1, 1), bias=False)\n",
       "          (bn3): BatchNormAct2d(\n",
       "            192, eps=0.001, momentum=0.1, affine=True, track_running_stats=True\n",
       "            (drop): Identity()\n",
       "            (act): Identity()\n",
       "          )\n",
       "          (drop_path): Identity()\n",
       "        )\n",
       "        (3): InvertedResidual(\n",
       "          (conv_pw): Conv2d(192, 1152, kernel_size=(1, 1), stride=(1, 1), bias=False)\n",
       "          (bn1): BatchNormAct2d(\n",
       "            1152, eps=0.001, momentum=0.1, affine=True, track_running_stats=True\n",
       "            (drop): Identity()\n",
       "            (act): SiLU(inplace=True)\n",
       "          )\n",
       "          (conv_dw): Conv2d(1152, 1152, kernel_size=(5, 5), stride=(1, 1), padding=(2, 2), groups=1152, bias=False)\n",
       "          (bn2): BatchNormAct2d(\n",
       "            1152, eps=0.001, momentum=0.1, affine=True, track_running_stats=True\n",
       "            (drop): Identity()\n",
       "            (act): SiLU(inplace=True)\n",
       "          )\n",
       "          (se): SqueezeExcite(\n",
       "            (conv_reduce): Conv2d(1152, 48, kernel_size=(1, 1), stride=(1, 1))\n",
       "            (act1): SiLU(inplace=True)\n",
       "            (conv_expand): Conv2d(48, 1152, kernel_size=(1, 1), stride=(1, 1))\n",
       "            (gate): Sigmoid()\n",
       "          )\n",
       "          (conv_pwl): Conv2d(1152, 192, kernel_size=(1, 1), stride=(1, 1), bias=False)\n",
       "          (bn3): BatchNormAct2d(\n",
       "            192, eps=0.001, momentum=0.1, affine=True, track_running_stats=True\n",
       "            (drop): Identity()\n",
       "            (act): Identity()\n",
       "          )\n",
       "          (drop_path): Identity()\n",
       "        )\n",
       "      )\n",
       "      (6): Sequential(\n",
       "        (0): InvertedResidual(\n",
       "          (conv_pw): Conv2d(192, 1152, kernel_size=(1, 1), stride=(1, 1), bias=False)\n",
       "          (bn1): BatchNormAct2d(\n",
       "            1152, eps=0.001, momentum=0.1, affine=True, track_running_stats=True\n",
       "            (drop): Identity()\n",
       "            (act): SiLU(inplace=True)\n",
       "          )\n",
       "          (conv_dw): Conv2d(1152, 1152, kernel_size=(3, 3), stride=(1, 1), padding=(1, 1), groups=1152, bias=False)\n",
       "          (bn2): BatchNormAct2d(\n",
       "            1152, eps=0.001, momentum=0.1, affine=True, track_running_stats=True\n",
       "            (drop): Identity()\n",
       "            (act): SiLU(inplace=True)\n",
       "          )\n",
       "          (se): SqueezeExcite(\n",
       "            (conv_reduce): Conv2d(1152, 48, kernel_size=(1, 1), stride=(1, 1))\n",
       "            (act1): SiLU(inplace=True)\n",
       "            (conv_expand): Conv2d(48, 1152, kernel_size=(1, 1), stride=(1, 1))\n",
       "            (gate): Sigmoid()\n",
       "          )\n",
       "          (conv_pwl): Conv2d(1152, 320, kernel_size=(1, 1), stride=(1, 1), bias=False)\n",
       "          (bn3): BatchNormAct2d(\n",
       "            320, eps=0.001, momentum=0.1, affine=True, track_running_stats=True\n",
       "            (drop): Identity()\n",
       "            (act): Identity()\n",
       "          )\n",
       "          (drop_path): Identity()\n",
       "        )\n",
       "      )\n",
       "    )\n",
       "    (conv_head): Conv2d(320, 1280, kernel_size=(1, 1), stride=(1, 1), bias=False)\n",
       "    (bn2): BatchNormAct2d(\n",
       "      1280, eps=0.001, momentum=0.1, affine=True, track_running_stats=True\n",
       "      (drop): Identity()\n",
       "      (act): SiLU(inplace=True)\n",
       "    )\n",
       "    (global_pool): Identity()\n",
       "    (classifier): Identity()\n",
       "  )\n",
       "  (pooling): GeM(p=3.0360, eps=1e-06)\n",
       "  (linear): Linear(in_features=1280, out_features=5, bias=True)\n",
       "  (softmax): Softmax(dim=1)\n",
       ")"
      ]
     },
     "execution_count": 15,
     "metadata": {},
     "output_type": "execute_result"
    }
   ],
   "source": [
    "class UBCModel(nn.Module):\n",
    "    def __init__(self, model_name, num_classes, pretrained=False, checkpoint_path=None):\n",
    "        super(UBCModel, self).__init__()\n",
    "\n",
    "        self.model = timm.create_model(model_name, pretrained=pretrained)\n",
    "\n",
    "        in_features = self.model.classifier.in_features\n",
    "\n",
    "        #デルの出力は特徴マップとして取得\n",
    "        self.model.classifier = nn.Identity()\n",
    "        self.model.global_pool = nn.Identity()\n",
    "\n",
    "        self.pooling = GeM()\n",
    "\n",
    "        self.linear = nn.Linear(in_features, num_classes)\n",
    "\n",
    "        #出力を確率分布に変換\n",
    "        self.softmax = nn.Softmax(dim=1)\n",
    "\n",
    "    def forward(self, images):\n",
    "        features = self.model(images)\n",
    "        pooled_features = self.pooling(features).flatten(1)\n",
    "        output = self.linear(pooled_features)\n",
    "        return output\n",
    "\n",
    "#model = UBCModel('tf_efficientnetv2_s_in21ft1k', CONFIG['num_classes'])\n",
    "model = UBCModel(CONFIG[\"model_name\"], CONFIG['num_classes'])\n",
    "model2 = UBCModel('tf_efficientnet_b0_ns', CONFIG['num_classes'])\n",
    "model3 = UBCModel('tf_efficientnet_b0_ns', CONFIG['num_classes'])\n",
    "model4 = UBCModel('tf_efficientnet_b0_ns', CONFIG['num_classes'])\n",
    "#model5= UBCModel('tf_efficientnet_b0_ns', CONFIG['num_classes'])\n",
    "\n",
    "model.load_state_dict(torch.load(BEST_WEIGHT))\n",
    "model2.load_state_dict(torch.load(BEST_WEIGHT2))\n",
    "model3.load_state_dict(torch.load(BEST_WEIGHT3))\n",
    "model4.load_state_dict(torch.load(BEST_WEIGHT3))\n",
    "#model5.load_state_dict(torch.load(BEST_WEIGHT5))\n",
    "\n",
    "model.to(CONFIG['device'])\n",
    "model2.to(CONFIG['device'])\n",
    "model3.to(CONFIG['device'])\n",
    "model4.to(CONFIG['device'])\n",
    "#model5.to(CONFIG['device'])\n",
    "\n"
   ]
  },
  {
   "cell_type": "markdown",
   "id": "b21a0692",
   "metadata": {
    "id": "gx17jsuDmWG-",
    "papermill": {
     "duration": 0.01049,
     "end_time": "2024-01-03T17:27:48.296687",
     "exception": false,
     "start_time": "2024-01-03T17:27:48.286197",
     "status": "completed"
    },
    "tags": []
   },
   "source": [
    "# load test dataset"
   ]
  },
  {
   "cell_type": "code",
   "execution_count": 16,
   "id": "fe4b288e",
   "metadata": {
    "execution": {
     "iopub.execute_input": "2024-01-03T17:27:48.319919Z",
     "iopub.status.busy": "2024-01-03T17:27:48.319510Z",
     "iopub.status.idle": "2024-01-03T17:27:48.325253Z",
     "shell.execute_reply": "2024-01-03T17:27:48.324322Z"
    },
    "id": "GLvJf6YIx9ei",
    "papermill": {
     "duration": 0.019839,
     "end_time": "2024-01-03T17:27:48.327193",
     "exception": false,
     "start_time": "2024-01-03T17:27:48.307354",
     "status": "completed"
    },
    "tags": []
   },
   "outputs": [],
   "source": [
    "test_dataset = UBCDataset(df_crop, transforms=data_transforms[\"valid\"])\n",
    "\n",
    "test_loader = DataLoader(\n",
    "    test_dataset,\n",
    "    batch_size=CONFIG['valid_batch_size'],\n",
    "    num_workers=2,\n",
    "    shuffle=False,\n",
    "    pin_memory=True\n",
    ")"
   ]
  },
  {
   "cell_type": "markdown",
   "id": "809dbc65",
   "metadata": {
    "id": "qenT2HYjmdFJ",
    "papermill": {
     "duration": 0.010422,
     "end_time": "2024-01-03T17:27:48.348806",
     "exception": false,
     "start_time": "2024-01-03T17:27:48.338384",
     "status": "completed"
    },
    "tags": []
   },
   "source": [
    "# prediction"
   ]
  },
  {
   "cell_type": "code",
   "execution_count": 17,
   "id": "f17884d2",
   "metadata": {
    "execution": {
     "iopub.execute_input": "2024-01-03T17:27:48.372304Z",
     "iopub.status.busy": "2024-01-03T17:27:48.371984Z",
     "iopub.status.idle": "2024-01-03T17:27:55.113781Z",
     "shell.execute_reply": "2024-01-03T17:27:55.112396Z"
    },
    "id": "uiGDYDYxx9ei",
    "outputId": "d9a0df61-9371-4c14-dbc0-4e8ed7fe235a",
    "papermill": {
     "duration": 6.756388,
     "end_time": "2024-01-03T17:27:55.116301",
     "exception": false,
     "start_time": "2024-01-03T17:27:48.359913",
     "status": "completed"
    },
    "tags": []
   },
   "outputs": [
    {
     "name": "stderr",
     "output_type": "stream",
     "text": [
      "100%|██████████| 1/1 [00:06<00:00,  6.65s/it]"
     ]
    },
    {
     "name": "stdout",
     "output_type": "stream",
     "text": [
      "(1, 5)\n",
      "[[-1.2605823  -0.09188002  2.160406   -1.8183439  -2.7500184 ]]\n"
     ]
    },
    {
     "name": "stderr",
     "output_type": "stream",
     "text": [
      "\n"
     ]
    }
   ],
   "source": [
    "preds = []\n",
    "\n",
    "with torch.no_grad():\n",
    "    bar = tqdm(enumerate(test_loader), total=len(test_loader))\n",
    "    for step, data in bar:\n",
    "        images = data['image'].to(CONFIG[\"device\"], dtype=torch.float)\n",
    "\n",
    "        outputs1 = model(images)\n",
    "        outputs2 = model2(images)\n",
    "        outputs3 = model3(images)\n",
    "        outputs4 = model4(images)\n",
    "        #outputs5 = model5(images)\n",
    "\n",
    "        outputs = 0.66 * (0.34 * outputs4 + 0.7 * outputs2) + 0.322 * (0.442 * outputs1 + 0.558 * outputs3)\n",
    "\n",
    "        #outputs = model.softmax(outputs)\n",
    "\n",
    "        #勾配情報を切り離し、NumPy 配列に変換\n",
    "        preds.append(outputs.detach().cpu().numpy())\n",
    "\n",
    "#行方向に積み重ねる\n",
    "preds = np.vstack(preds)\n",
    "print(preds.shape)\n",
    "print(preds)"
   ]
  },
  {
   "cell_type": "markdown",
   "id": "dd860254",
   "metadata": {
    "id": "FUmw0uu2njQR",
    "papermill": {
     "duration": 0.014385,
     "end_time": "2024-01-03T17:27:55.145375",
     "exception": false,
     "start_time": "2024-01-03T17:27:55.130990",
     "status": "completed"
    },
    "tags": []
   },
   "source": [
    "# compare 4 models prediction"
   ]
  },
  {
   "cell_type": "code",
   "execution_count": 18,
   "id": "f9bfc223",
   "metadata": {
    "execution": {
     "iopub.execute_input": "2024-01-03T17:27:55.172272Z",
     "iopub.status.busy": "2024-01-03T17:27:55.171914Z",
     "iopub.status.idle": "2024-01-03T17:27:55.188572Z",
     "shell.execute_reply": "2024-01-03T17:27:55.187697Z"
    },
    "id": "PvXWoNInx9ei",
    "papermill": {
     "duration": 0.031331,
     "end_time": "2024-01-03T17:27:55.190783",
     "exception": false,
     "start_time": "2024-01-03T17:27:55.159452",
     "status": "completed"
    },
    "tags": []
   },
   "outputs": [],
   "source": [
    "#DataFrame へのカテゴリ列の追加\n",
    "for i in range(preds.shape[-1]):\n",
    "    df_crop[f\"cat{i}\"] = preds[:, i]\n",
    "\n",
    "dict_label = {}\n",
    "\n",
    "#\"image_id\" 列でグループ化し、各グループにおいて各カテゴリで最大の確率を持つ列のインデックス（最終的な予測ラベル）を取得\n",
    "for image_id, gdf in df_crop.groupby(\"image_id\"):\n",
    "    dict_label[image_id] = np.argmax(gdf[[f\"cat{i}\" for i in range(preds.shape[-1])]].values.max(axis=0))\n",
    "\n",
    "preds = np.array([dict_label[image_id] for image_id in df[\"image_id\"].values])"
   ]
  },
  {
   "cell_type": "markdown",
   "id": "54c361fb",
   "metadata": {
    "id": "6c3q0wJ8nmzg",
    "papermill": {
     "duration": 0.011759,
     "end_time": "2024-01-03T17:27:55.215230",
     "exception": false,
     "start_time": "2024-01-03T17:27:55.203471",
     "status": "completed"
    },
    "tags": []
   },
   "source": [
    "# submit csv"
   ]
  },
  {
   "cell_type": "code",
   "execution_count": 19,
   "id": "c8481ccc",
   "metadata": {
    "execution": {
     "iopub.execute_input": "2024-01-03T17:27:55.241294Z",
     "iopub.status.busy": "2024-01-03T17:27:55.240396Z",
     "iopub.status.idle": "2024-01-03T17:27:55.250500Z",
     "shell.execute_reply": "2024-01-03T17:27:55.249579Z"
    },
    "id": "ie-EM3RIx9ei",
    "papermill": {
     "duration": 0.025826,
     "end_time": "2024-01-03T17:27:55.252772",
     "exception": false,
     "start_time": "2024-01-03T17:27:55.226946",
     "status": "completed"
    },
    "tags": []
   },
   "outputs": [],
   "source": [
    "pred_labels = encoder.inverse_transform(preds)\n",
    "\n",
    "df_sub[\"label\"] = pred_labels\n",
    "\n",
    "df_sub.to_csv(\"submission.csv\", index=False)"
   ]
  },
  {
   "cell_type": "code",
   "execution_count": 20,
   "id": "00a017dc",
   "metadata": {
    "execution": {
     "iopub.execute_input": "2024-01-03T17:27:55.278237Z",
     "iopub.status.busy": "2024-01-03T17:27:55.277847Z",
     "iopub.status.idle": "2024-01-03T17:27:55.291999Z",
     "shell.execute_reply": "2024-01-03T17:27:55.290971Z"
    },
    "id": "eenV3v0gx9ej",
    "outputId": "00c2b429-8659-4fc1-95c3-de007c28f049",
    "papermill": {
     "duration": 0.029074,
     "end_time": "2024-01-03T17:27:55.294213",
     "exception": false,
     "start_time": "2024-01-03T17:27:55.265139",
     "status": "completed"
    },
    "tags": []
   },
   "outputs": [
    {
     "data": {
      "text/html": [
       "<div>\n",
       "<style scoped>\n",
       "    .dataframe tbody tr th:only-of-type {\n",
       "        vertical-align: middle;\n",
       "    }\n",
       "\n",
       "    .dataframe tbody tr th {\n",
       "        vertical-align: top;\n",
       "    }\n",
       "\n",
       "    .dataframe thead th {\n",
       "        text-align: right;\n",
       "    }\n",
       "</style>\n",
       "<table border=\"1\" class=\"dataframe\">\n",
       "  <thead>\n",
       "    <tr style=\"text-align: right;\">\n",
       "      <th></th>\n",
       "      <th>image_id</th>\n",
       "      <th>label</th>\n",
       "    </tr>\n",
       "  </thead>\n",
       "  <tbody>\n",
       "    <tr>\n",
       "      <th>0</th>\n",
       "      <td>41</td>\n",
       "      <td>HGSC</td>\n",
       "    </tr>\n",
       "  </tbody>\n",
       "</table>\n",
       "</div>"
      ],
      "text/plain": [
       "   image_id label\n",
       "0        41  HGSC"
      ]
     },
     "execution_count": 20,
     "metadata": {},
     "output_type": "execute_result"
    }
   ],
   "source": [
    "df_sub"
   ]
  }
 ],
 "metadata": {
  "accelerator": "GPU",
  "colab": {
   "gpuType": "T4",
   "provenance": []
  },
  "kaggle": {
   "accelerator": "nvidiaTeslaT4",
   "dataSources": [
    {
     "databundleVersionId": 6924515,
     "sourceId": 45867,
     "sourceType": "competition"
    },
    {
     "datasetId": 3833517,
     "sourceId": 6640479,
     "sourceType": "datasetVersion"
    },
    {
     "datasetId": 3884593,
     "sourceId": 6746686,
     "sourceType": "datasetVersion"
    },
    {
     "datasetId": 3926155,
     "sourceId": 6827935,
     "sourceType": "datasetVersion"
    },
    {
     "datasetId": 3950227,
     "sourceId": 6874344,
     "sourceType": "datasetVersion"
    },
    {
     "datasetId": 3889865,
     "sourceId": 6917177,
     "sourceType": "datasetVersion"
    },
    {
     "datasetId": 4238089,
     "sourceId": 7304588,
     "sourceType": "datasetVersion"
    },
    {
     "sourceId": 145619039,
     "sourceType": "kernelVersion"
    },
    {
     "sourceId": 147635265,
     "sourceType": "kernelVersion"
    },
    {
     "sourceId": 149486054,
     "sourceType": "kernelVersion"
    },
    {
     "sourceId": 153412480,
     "sourceType": "kernelVersion"
    },
    {
     "sourceId": 156877359,
     "sourceType": "kernelVersion"
    }
   ],
   "dockerImageVersionId": 30627,
   "isGpuEnabled": true,
   "isInternetEnabled": false,
   "language": "python",
   "sourceType": "notebook"
  },
  "kernelspec": {
   "display_name": "Python 3",
   "language": "python",
   "name": "python3"
  },
  "language_info": {
   "codemirror_mode": {
    "name": "ipython",
    "version": 3
   },
   "file_extension": ".py",
   "mimetype": "text/x-python",
   "name": "python",
   "nbconvert_exporter": "python",
   "pygments_lexer": "ipython3",
   "version": "3.10.12"
  },
  "papermill": {
   "default_parameters": {},
   "duration": 28.523222,
   "end_time": "2024-01-03T17:27:58.529887",
   "environment_variables": {},
   "exception": null,
   "input_path": "__notebook__.ipynb",
   "output_path": "__notebook__.ipynb",
   "parameters": {},
   "start_time": "2024-01-03T17:27:30.006665",
   "version": "2.4.0"
  }
 },
 "nbformat": 4,
 "nbformat_minor": 5
}
