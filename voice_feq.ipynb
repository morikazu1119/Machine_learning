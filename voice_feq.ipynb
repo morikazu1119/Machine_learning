{
 "cells": [
  {
   "cell_type": "markdown",
   "metadata": {},
   "source": [
    "# データ準備"
   ]
  },
  {
   "cell_type": "markdown",
   "metadata": {},
   "source": [
    "## Excelシートからcsv形式で保存"
   ]
  },
  {
   "cell_type": "code",
   "execution_count": 163,
   "metadata": {},
   "outputs": [],
   "source": [
    "import pandas as pd\n",
    "\n",
    "path=\"C:\\Code\\Python_code\\machine_learning\\音声データ.xlsx\"\n",
    "\n",
    "input_file=pd.ExcelFile(path)\n",
    "sheet=input_file.sheet_names\n",
    "\n",
    "for i in range(0,len(sheet)):\n",
    "\n",
    "        data=pd.read_excel(path,i,index_col=None)\n",
    "        data.to_csv(sheet[i]+\".csv\",encoding=\"shift_jis\")"
   ]
  },
  {
   "cell_type": "markdown",
   "metadata": {},
   "source": [
    "## csvからデータを取り出す。"
   ]
  },
  {
   "cell_type": "code",
   "execution_count": 164,
   "metadata": {},
   "outputs": [],
   "source": [
    "male_train=pd.read_csv(\"C:\\Code\\Python_code\\machine_learning\\A-男性.csv\")\n",
    "female_train=pd.read_csv(\"C:\\Code\\Python_code\\machine_learning\\A-女性.csv\")"
   ]
  },
  {
   "cell_type": "code",
   "execution_count": 165,
   "metadata": {},
   "outputs": [
    {
     "name": "stdout",
     "output_type": "stream",
     "text": [
      "     f0   f1    f2    f3    f4   Sex\n",
      "0   133  734  1196  4322  5327  True\n",
      "1   152  794  1367  3628  5497  True\n",
      "2   222  784  1467  3518  5397  True\n",
      "3   115  693  1256  3196  4784  True\n",
      "4   108  613  1216  3357  5065  True\n",
      "..  ...  ...   ...   ...   ...   ...\n",
      "69  113  744  1052  3754  6658  True\n",
      "70  103  599  1016  3267  6222  True\n",
      "71  153  671  1197  3048  6150  True\n",
      "72  118  808  1150  2676  3596  True\n",
      "73  109  753  1282  2878  3847  True\n",
      "\n",
      "[74 rows x 6 columns] \n",
      "      f0    f1    f2    f3    f4    Sex\n",
      "0   240   740  1678  2663  6000  False\n",
      "1   308   623  1400  3588  6000  False\n",
      "2   318   573  1307  3467  6121  False\n",
      "3   177   764  1407  3166  4392  False\n",
      "4   176   704  1467  3367  4452  False\n",
      "5   231   667  1346  3044  3987  False\n",
      "6   175   654  1233  3736  5623  False\n",
      "7   171   692  1472  3874  5736  False\n",
      "8   220   843  1285  3409  5175  False\n",
      "9   224   579  1208  3157  5057  False\n",
      "10  204   818  1409  3308  4289  False\n",
      "11  292  1082  1761  3396  4314  False\n",
      "12  292   843  1459  3384  4302  False\n",
      "13  198  1132  1836  3333  4239  False\n",
      "14  191  1107  2050  3384  4113  False\n",
      "15  210   750  1300  3250  4200  False\n",
      "16  200   750  1120  3350  6000  False\n",
      "17  195   800  1460  3400  6300  False\n",
      "18  210   720  1460  3500  5800  False\n",
      "19  205   820  1300  2900  5800  False\n",
      "20  200   370  1050  2550  4430  False\n",
      "21  220   610  1250  2800  4150  False\n",
      "22  220   610  1250  3100  4100  False\n",
      "23  230   750  1230  3700  5000  False\n",
      "24  208   822  1484  3388  5594  False\n",
      "25  217   822  1464  3008  5153  False\n",
      "26  203   842  1664  2827  4434  False\n",
      "27  265   519  1341  3514  4843  False\n",
      "28  284   519  1302  3090  4529  False\n",
      "29  269   603  1291  2940  4317  False\n"
     ]
    }
   ],
   "source": [
    "male_train=male_train[[\"f0\",\"f1\",\"f2\",\"f3\",\"f4\"]]\n",
    "female_train=female_train[[\"f0\",\"f1\",\"f2\",\"f3\",\"f4\"]]\n",
    "male_train[\"Sex\"]=True\n",
    "female_train[\"Sex\"]=False\n",
    "print(male_train,\"\\n\",female_train)"
   ]
  },
  {
   "cell_type": "code",
   "execution_count": 166,
   "metadata": {},
   "outputs": [
    {
     "data": {
      "text/html": [
       "<div>\n",
       "<style scoped>\n",
       "    .dataframe tbody tr th:only-of-type {\n",
       "        vertical-align: middle;\n",
       "    }\n",
       "\n",
       "    .dataframe tbody tr th {\n",
       "        vertical-align: top;\n",
       "    }\n",
       "\n",
       "    .dataframe thead th {\n",
       "        text-align: right;\n",
       "    }\n",
       "</style>\n",
       "<table border=\"1\" class=\"dataframe\">\n",
       "  <thead>\n",
       "    <tr style=\"text-align: right;\">\n",
       "      <th></th>\n",
       "      <th>f0</th>\n",
       "      <th>f1</th>\n",
       "      <th>f2</th>\n",
       "      <th>f3</th>\n",
       "      <th>f4</th>\n",
       "      <th>Sex</th>\n",
       "    </tr>\n",
       "  </thead>\n",
       "  <tbody>\n",
       "    <tr>\n",
       "      <th>0</th>\n",
       "      <td>133</td>\n",
       "      <td>734</td>\n",
       "      <td>1196</td>\n",
       "      <td>4322</td>\n",
       "      <td>5327</td>\n",
       "      <td>True</td>\n",
       "    </tr>\n",
       "    <tr>\n",
       "      <th>1</th>\n",
       "      <td>152</td>\n",
       "      <td>794</td>\n",
       "      <td>1367</td>\n",
       "      <td>3628</td>\n",
       "      <td>5497</td>\n",
       "      <td>True</td>\n",
       "    </tr>\n",
       "    <tr>\n",
       "      <th>2</th>\n",
       "      <td>222</td>\n",
       "      <td>784</td>\n",
       "      <td>1467</td>\n",
       "      <td>3518</td>\n",
       "      <td>5397</td>\n",
       "      <td>True</td>\n",
       "    </tr>\n",
       "    <tr>\n",
       "      <th>3</th>\n",
       "      <td>115</td>\n",
       "      <td>693</td>\n",
       "      <td>1256</td>\n",
       "      <td>3196</td>\n",
       "      <td>4784</td>\n",
       "      <td>True</td>\n",
       "    </tr>\n",
       "    <tr>\n",
       "      <th>4</th>\n",
       "      <td>108</td>\n",
       "      <td>613</td>\n",
       "      <td>1216</td>\n",
       "      <td>3357</td>\n",
       "      <td>5065</td>\n",
       "      <td>True</td>\n",
       "    </tr>\n",
       "    <tr>\n",
       "      <th>...</th>\n",
       "      <td>...</td>\n",
       "      <td>...</td>\n",
       "      <td>...</td>\n",
       "      <td>...</td>\n",
       "      <td>...</td>\n",
       "      <td>...</td>\n",
       "    </tr>\n",
       "    <tr>\n",
       "      <th>99</th>\n",
       "      <td>217</td>\n",
       "      <td>822</td>\n",
       "      <td>1464</td>\n",
       "      <td>3008</td>\n",
       "      <td>5153</td>\n",
       "      <td>False</td>\n",
       "    </tr>\n",
       "    <tr>\n",
       "      <th>100</th>\n",
       "      <td>203</td>\n",
       "      <td>842</td>\n",
       "      <td>1664</td>\n",
       "      <td>2827</td>\n",
       "      <td>4434</td>\n",
       "      <td>False</td>\n",
       "    </tr>\n",
       "    <tr>\n",
       "      <th>101</th>\n",
       "      <td>265</td>\n",
       "      <td>519</td>\n",
       "      <td>1341</td>\n",
       "      <td>3514</td>\n",
       "      <td>4843</td>\n",
       "      <td>False</td>\n",
       "    </tr>\n",
       "    <tr>\n",
       "      <th>102</th>\n",
       "      <td>284</td>\n",
       "      <td>519</td>\n",
       "      <td>1302</td>\n",
       "      <td>3090</td>\n",
       "      <td>4529</td>\n",
       "      <td>False</td>\n",
       "    </tr>\n",
       "    <tr>\n",
       "      <th>103</th>\n",
       "      <td>269</td>\n",
       "      <td>603</td>\n",
       "      <td>1291</td>\n",
       "      <td>2940</td>\n",
       "      <td>4317</td>\n",
       "      <td>False</td>\n",
       "    </tr>\n",
       "  </tbody>\n",
       "</table>\n",
       "<p>104 rows × 6 columns</p>\n",
       "</div>"
      ],
      "text/plain": [
       "      f0   f1    f2    f3    f4    Sex\n",
       "0    133  734  1196  4322  5327   True\n",
       "1    152  794  1367  3628  5497   True\n",
       "2    222  784  1467  3518  5397   True\n",
       "3    115  693  1256  3196  4784   True\n",
       "4    108  613  1216  3357  5065   True\n",
       "..   ...  ...   ...   ...   ...    ...\n",
       "99   217  822  1464  3008  5153  False\n",
       "100  203  842  1664  2827  4434  False\n",
       "101  265  519  1341  3514  4843  False\n",
       "102  284  519  1302  3090  4529  False\n",
       "103  269  603  1291  2940  4317  False\n",
       "\n",
       "[104 rows x 6 columns]"
      ]
     },
     "execution_count": 166,
     "metadata": {},
     "output_type": "execute_result"
    }
   ],
   "source": [
    "train_data=pd.concat([male_train,female_train],axis=0)\n",
    "train_data.reset_index(drop=True,inplace=True)\n",
    "train_data"
   ]
  },
  {
   "cell_type": "markdown",
   "metadata": {},
   "source": [
    "## データの分割"
   ]
  },
  {
   "cell_type": "code",
   "execution_count": 167,
   "metadata": {},
   "outputs": [],
   "source": [
    "from sklearn.model_selection import train_test_split\n",
    "\n",
    "X=train_data.drop(\"Sex\",axis=1)\n",
    "y=train_data[\"Sex\"]\n",
    "\n",
    "X_train,X_test,y_train,y_test=train_test_split(X,y,test_size=0.2,random_state=40)"
   ]
  },
  {
   "cell_type": "markdown",
   "metadata": {},
   "source": [
    "## 標準化"
   ]
  },
  {
   "cell_type": "code",
   "execution_count": 168,
   "metadata": {},
   "outputs": [],
   "source": [
    "from sklearn.preprocessing import StandardScaler\n",
    "\n",
    "scaler=StandardScaler()\n",
    "\n",
    "X_train=scaler.fit_transform(X_train)\n",
    "X_test=scaler.fit_transform(X_test)"
   ]
  },
  {
   "cell_type": "code",
   "execution_count": 181,
   "metadata": {},
   "outputs": [
    {
     "name": "stdout",
     "output_type": "stream",
     "text": [
      "<class 'pandas.core.series.Series'>\n",
      "Int64Index: 21 entries, 17 to 96\n",
      "Series name: Sex\n",
      "Non-Null Count  Dtype\n",
      "--------------  -----\n",
      "21 non-null     bool \n",
      "dtypes: bool(1)\n",
      "memory usage: 189.0 bytes\n"
     ]
    }
   ],
   "source": [
    "y_test.info()"
   ]
  },
  {
   "cell_type": "markdown",
   "metadata": {},
   "source": [
    "# ランダムフォレスト"
   ]
  },
  {
   "cell_type": "markdown",
   "metadata": {},
   "source": [
    "## モデル作成と予測"
   ]
  },
  {
   "cell_type": "code",
   "execution_count": 169,
   "metadata": {},
   "outputs": [
    {
     "name": "stdout",
     "output_type": "stream",
     "text": [
      "accuracy: 0.9523809523809523\n",
      "正答率(%): 95.23809523809523 %\n"
     ]
    }
   ],
   "source": [
    "from sklearn.ensemble import RandomForestClassifier\n",
    "from sklearn.metrics import accuracy_score\n",
    "\n",
    "model=RandomForestClassifier(n_estimators=100,random_state=42)\n",
    "model.fit(X_train,y_train)\n",
    "\n",
    "y_pred=model.predict(X_test)\n",
    "\n",
    "accuracy=accuracy_score(y_test,y_pred)\n",
    "print(\"accuracy:\",accuracy)\n",
    "print(\"正答率(%):\",accuracy*100,\"%\")"
   ]
  },
  {
   "cell_type": "markdown",
   "metadata": {},
   "source": [
    "# ランダムフォレスト（ベイズ最適化）"
   ]
  },
  {
   "cell_type": "markdown",
   "metadata": {},
   "source": [
    "## ベイズ最適化\n",
    "\n",
    "    **gp_params: ガウシアンプロセス（GP）に関するハイパーパラメータを指定します。alphaはガウシアンプロセスの正則化パラメータで、ここでは1e-5（0.00001）に設定されています。ガウシアンプロセスは、ベイズ最適化アルゴリズムの一部として使用され、目的関数の不確かさをモデル化するのに役立ちます。"
   ]
  },
  {
   "cell_type": "code",
   "execution_count": 170,
   "metadata": {},
   "outputs": [
    {
     "name": "stdout",
     "output_type": "stream",
     "text": [
      "|   iter    |  target   | max_fe... | min_sa... | n_esti... |\n",
      "-------------------------------------------------------------\n"
     ]
    },
    {
     "name": "stderr",
     "output_type": "stream",
     "text": [
      "C:\\Users\\morik\\AppData\\Local\\Temp\\ipykernel_29156\\2790233001.py:28: DeprecationWarning: \n",
      "Passing acquisition function parameters or gaussian process parameters to maximize\n",
      "is no longer supported, and will cause an error in future releases. Instead,\n",
      "please use the \"set_gp_params\" method to set the gp params, and pass an instance\n",
      " of bayes_opt.util.UtilityFunction using the acquisition_function argument\n",
      "\n",
      "  randomforest_cv_bo.maximize(n_iter=50, **gp_params)\n"
     ]
    },
    {
     "name": "stdout",
     "output_type": "stream",
     "text": [
      "| \u001b[0m1        \u001b[0m | \u001b[0m0.9158   \u001b[0m | \u001b[0m0.7328   \u001b[0m | \u001b[0m15.79    \u001b[0m | \u001b[0m82.84    \u001b[0m |\n",
      "| \u001b[0m2        \u001b[0m | \u001b[0m0.832    \u001b[0m | \u001b[0m0.3209   \u001b[0m | \u001b[0m22.37    \u001b[0m | \u001b[0m200.0    \u001b[0m |\n",
      "| \u001b[0m3        \u001b[0m | \u001b[0m0.9039   \u001b[0m | \u001b[0m0.8649   \u001b[0m | \u001b[0m2.564    \u001b[0m | \u001b[0m63.15    \u001b[0m |\n",
      "| \u001b[0m4        \u001b[0m | \u001b[0m0.9039   \u001b[0m | \u001b[0m0.4343   \u001b[0m | \u001b[0m16.33    \u001b[0m | \u001b[0m248.7    \u001b[0m |\n",
      "| \u001b[95m5        \u001b[0m | \u001b[95m0.9277   \u001b[0m | \u001b[95m0.4879   \u001b[0m | \u001b[95m6.051    \u001b[0m | \u001b[95m54.44    \u001b[0m |\n",
      "| \u001b[0m6        \u001b[0m | \u001b[0m0.8078   \u001b[0m | \u001b[0m0.3291   \u001b[0m | \u001b[0m21.63    \u001b[0m | \u001b[0m47.11    \u001b[0m |\n",
      "| \u001b[0m7        \u001b[0m | \u001b[0m0.8911   \u001b[0m | \u001b[0m0.1831   \u001b[0m | \u001b[0m2.31     \u001b[0m | \u001b[0m48.37    \u001b[0m |\n",
      "| \u001b[0m8        \u001b[0m | \u001b[0m0.8792   \u001b[0m | \u001b[0m0.3284   \u001b[0m | \u001b[0m4.718    \u001b[0m | \u001b[0m54.35    \u001b[0m |\n",
      "| \u001b[0m9        \u001b[0m | \u001b[0m0.9039   \u001b[0m | \u001b[0m0.6654   \u001b[0m | \u001b[0m7.318    \u001b[0m | \u001b[0m229.5    \u001b[0m |\n",
      "| \u001b[0m10       \u001b[0m | \u001b[0m0.9158   \u001b[0m | \u001b[0m0.8043   \u001b[0m | \u001b[0m20.36    \u001b[0m | \u001b[0m190.3    \u001b[0m |\n",
      "| \u001b[0m11       \u001b[0m | \u001b[0m0.8435   \u001b[0m | \u001b[0m0.1316   \u001b[0m | \u001b[0m16.59    \u001b[0m | \u001b[0m62.97    \u001b[0m |\n",
      "| \u001b[0m12       \u001b[0m | \u001b[0m0.9158   \u001b[0m | \u001b[0m0.7589   \u001b[0m | \u001b[0m18.47    \u001b[0m | \u001b[0m41.39    \u001b[0m |\n",
      "| \u001b[0m13       \u001b[0m | \u001b[0m0.9039   \u001b[0m | \u001b[0m0.7988   \u001b[0m | \u001b[0m4.529    \u001b[0m | \u001b[0m86.18    \u001b[0m |\n",
      "| \u001b[0m14       \u001b[0m | \u001b[0m0.9158   \u001b[0m | \u001b[0m0.8326   \u001b[0m | \u001b[0m20.4     \u001b[0m | \u001b[0m190.1    \u001b[0m |\n",
      "| \u001b[0m15       \u001b[0m | \u001b[0m0.9039   \u001b[0m | \u001b[0m0.6929   \u001b[0m | \u001b[0m7.763    \u001b[0m | \u001b[0m54.56    \u001b[0m |\n",
      "| \u001b[0m16       \u001b[0m | \u001b[0m0.8673   \u001b[0m | \u001b[0m0.3907   \u001b[0m | \u001b[0m6.797    \u001b[0m | \u001b[0m52.7     \u001b[0m |\n",
      "| \u001b[0m17       \u001b[0m | \u001b[0m0.9039   \u001b[0m | \u001b[0m0.661    \u001b[0m | \u001b[0m6.401    \u001b[0m | \u001b[0m55.74    \u001b[0m |\n",
      "| \u001b[0m18       \u001b[0m | \u001b[0m0.9158   \u001b[0m | \u001b[0m0.9488   \u001b[0m | \u001b[0m21.95    \u001b[0m | \u001b[0m190.9    \u001b[0m |\n",
      "| \u001b[0m19       \u001b[0m | \u001b[0m0.9158   \u001b[0m | \u001b[0m0.9622   \u001b[0m | \u001b[0m13.89    \u001b[0m | \u001b[0m82.85    \u001b[0m |\n",
      "| \u001b[0m20       \u001b[0m | \u001b[0m0.9158   \u001b[0m | \u001b[0m0.8673   \u001b[0m | \u001b[0m15.28    \u001b[0m | \u001b[0m81.14    \u001b[0m |\n",
      "| \u001b[0m21       \u001b[0m | \u001b[0m0.9039   \u001b[0m | \u001b[0m0.6787   \u001b[0m | \u001b[0m13.1     \u001b[0m | \u001b[0m81.02    \u001b[0m |\n",
      "| \u001b[0m22       \u001b[0m | \u001b[0m0.8435   \u001b[0m | \u001b[0m0.1401   \u001b[0m | \u001b[0m17.51    \u001b[0m | \u001b[0m81.22    \u001b[0m |\n",
      "| \u001b[0m23       \u001b[0m | \u001b[0m0.8554   \u001b[0m | \u001b[0m0.3368   \u001b[0m | \u001b[0m14.64    \u001b[0m | \u001b[0m84.14    \u001b[0m |\n",
      "| \u001b[0m24       \u001b[0m | \u001b[0m0.9158   \u001b[0m | \u001b[0m0.999    \u001b[0m | \u001b[0m14.62    \u001b[0m | \u001b[0m82.01    \u001b[0m |\n",
      "| \u001b[0m25       \u001b[0m | \u001b[0m0.9039   \u001b[0m | \u001b[0m0.4946   \u001b[0m | \u001b[0m21.31    \u001b[0m | \u001b[0m192.3    \u001b[0m |\n",
      "| \u001b[0m26       \u001b[0m | \u001b[0m0.9039   \u001b[0m | \u001b[0m0.5874   \u001b[0m | \u001b[0m22.28    \u001b[0m | \u001b[0m189.3    \u001b[0m |\n",
      "| \u001b[0m27       \u001b[0m | \u001b[0m0.9039   \u001b[0m | \u001b[0m0.4268   \u001b[0m | \u001b[0m17.68    \u001b[0m | \u001b[0m42.94    \u001b[0m |\n",
      "| \u001b[0m28       \u001b[0m | \u001b[0m0.8316   \u001b[0m | \u001b[0m0.1422   \u001b[0m | \u001b[0m20.1     \u001b[0m | \u001b[0m41.41    \u001b[0m |\n",
      "| \u001b[0m29       \u001b[0m | \u001b[0m0.8435   \u001b[0m | \u001b[0m0.1041   \u001b[0m | \u001b[0m17.11    \u001b[0m | \u001b[0m41.0     \u001b[0m |\n",
      "| \u001b[0m30       \u001b[0m | \u001b[0m0.8311   \u001b[0m | \u001b[0m0.1371   \u001b[0m | \u001b[0m13.19    \u001b[0m | \u001b[0m82.08    \u001b[0m |\n",
      "| \u001b[0m31       \u001b[0m | \u001b[0m0.9039   \u001b[0m | \u001b[0m0.9636   \u001b[0m | \u001b[0m6.511    \u001b[0m | \u001b[0m54.65    \u001b[0m |\n",
      "| \u001b[0m32       \u001b[0m | \u001b[0m0.9039   \u001b[0m | \u001b[0m0.4935   \u001b[0m | \u001b[0m21.28    \u001b[0m | \u001b[0m190.4    \u001b[0m |\n",
      "| \u001b[0m33       \u001b[0m | \u001b[0m0.843    \u001b[0m | \u001b[0m0.2394   \u001b[0m | \u001b[0m15.13    \u001b[0m | \u001b[0m81.76    \u001b[0m |\n",
      "| \u001b[0m34       \u001b[0m | \u001b[0m0.9158   \u001b[0m | \u001b[0m0.8059   \u001b[0m | \u001b[0m23.24    \u001b[0m | \u001b[0m79.73    \u001b[0m |\n",
      "| \u001b[0m35       \u001b[0m | \u001b[0m0.8673   \u001b[0m | \u001b[0m0.1675   \u001b[0m | \u001b[0m6.571    \u001b[0m | \u001b[0m54.51    \u001b[0m |\n",
      "| \u001b[0m36       \u001b[0m | \u001b[0m0.9158   \u001b[0m | \u001b[0m0.6974   \u001b[0m | \u001b[0m24.89    \u001b[0m | \u001b[0m136.9    \u001b[0m |\n",
      "| \u001b[0m37       \u001b[0m | \u001b[0m0.9158   \u001b[0m | \u001b[0m0.8071   \u001b[0m | \u001b[0m14.7     \u001b[0m | \u001b[0m213.1    \u001b[0m |\n",
      "| \u001b[0m38       \u001b[0m | \u001b[0m0.8673   \u001b[0m | \u001b[0m0.1289   \u001b[0m | \u001b[0m5.787    \u001b[0m | \u001b[0m54.47    \u001b[0m |\n",
      "| \u001b[0m39       \u001b[0m | \u001b[0m0.9039   \u001b[0m | \u001b[0m0.6297   \u001b[0m | \u001b[0m6.195    \u001b[0m | \u001b[0m54.01    \u001b[0m |\n",
      "| \u001b[0m40       \u001b[0m | \u001b[0m0.8796   \u001b[0m | \u001b[0m0.1654   \u001b[0m | \u001b[0m16.74    \u001b[0m | \u001b[0m12.58    \u001b[0m |\n",
      "| \u001b[0m41       \u001b[0m | \u001b[0m0.9039   \u001b[0m | \u001b[0m0.832    \u001b[0m | \u001b[0m2.904    \u001b[0m | \u001b[0m59.37    \u001b[0m |\n",
      "| \u001b[0m42       \u001b[0m | \u001b[0m0.9039   \u001b[0m | \u001b[0m0.6904   \u001b[0m | \u001b[0m23.43    \u001b[0m | \u001b[0m235.5    \u001b[0m |\n",
      "| \u001b[0m43       \u001b[0m | \u001b[0m0.9158   \u001b[0m | \u001b[0m0.8422   \u001b[0m | \u001b[0m19.63    \u001b[0m | \u001b[0m21.89    \u001b[0m |\n",
      "| \u001b[0m44       \u001b[0m | \u001b[0m0.8201   \u001b[0m | \u001b[0m0.3816   \u001b[0m | \u001b[0m23.81    \u001b[0m | \u001b[0m194.9    \u001b[0m |\n",
      "| \u001b[0m45       \u001b[0m | \u001b[0m0.9039   \u001b[0m | \u001b[0m0.4512   \u001b[0m | \u001b[0m20.67    \u001b[0m | \u001b[0m190.3    \u001b[0m |\n",
      "| \u001b[0m46       \u001b[0m | \u001b[0m0.9039   \u001b[0m | \u001b[0m0.9524   \u001b[0m | \u001b[0m6.046    \u001b[0m | \u001b[0m55.02    \u001b[0m |\n",
      "| \u001b[0m47       \u001b[0m | \u001b[0m0.9158   \u001b[0m | \u001b[0m0.7067   \u001b[0m | \u001b[0m15.78    \u001b[0m | \u001b[0m82.94    \u001b[0m |\n",
      "| \u001b[0m48       \u001b[0m | \u001b[0m0.9158   \u001b[0m | \u001b[0m0.8768   \u001b[0m | \u001b[0m14.14    \u001b[0m | \u001b[0m82.47    \u001b[0m |\n",
      "| \u001b[0m49       \u001b[0m | \u001b[0m0.9158   \u001b[0m | \u001b[0m0.9194   \u001b[0m | \u001b[0m22.22    \u001b[0m | \u001b[0m190.2    \u001b[0m |\n",
      "| \u001b[0m50       \u001b[0m | \u001b[0m0.9039   \u001b[0m | \u001b[0m0.7951   \u001b[0m | \u001b[0m12.02    \u001b[0m | \u001b[0m43.12    \u001b[0m |\n",
      "| \u001b[0m51       \u001b[0m | \u001b[0m0.9039   \u001b[0m | \u001b[0m0.5874   \u001b[0m | \u001b[0m22.49    \u001b[0m | \u001b[0m190.6    \u001b[0m |\n",
      "| \u001b[0m52       \u001b[0m | \u001b[0m0.9158   \u001b[0m | \u001b[0m0.9172   \u001b[0m | \u001b[0m14.28    \u001b[0m | \u001b[0m82.57    \u001b[0m |\n",
      "| \u001b[0m53       \u001b[0m | \u001b[0m0.9158   \u001b[0m | \u001b[0m0.6528   \u001b[0m | \u001b[0m19.79    \u001b[0m | \u001b[0m142.4    \u001b[0m |\n",
      "| \u001b[0m54       \u001b[0m | \u001b[0m0.9158   \u001b[0m | \u001b[0m0.8503   \u001b[0m | \u001b[0m16.85    \u001b[0m | \u001b[0m40.23    \u001b[0m |\n",
      "| \u001b[0m55       \u001b[0m | \u001b[0m0.9158   \u001b[0m | \u001b[0m0.7788   \u001b[0m | \u001b[0m20.01    \u001b[0m | \u001b[0m21.29    \u001b[0m |\n",
      "=============================================================\n",
      "{'max_features': 0.48794362739288344, 'min_samples_split': 6.051286983247403, 'n_estimators': 54.4438257843708}\n"
     ]
    }
   ],
   "source": [
    "from sklearn.model_selection import cross_val_score\n",
    "from sklearn.ensemble import RandomForestClassifier\n",
    "from bayes_opt import BayesianOptimization\n",
    "\n",
    "def randomforest_cv(n_estimators, min_samples_split, max_features):\n",
    "    val = cross_val_score(\n",
    "        RandomForestClassifier(\n",
    "            n_estimators=int(n_estimators),\n",
    "            min_samples_split=int(min_samples_split),\n",
    "            max_features=max_features,\n",
    "            random_state=42\n",
    "        ),\n",
    "        X_train, y_train,\n",
    "        scoring = 'accuracy',\n",
    "        cv = 3, # 3-fold\n",
    "        n_jobs = -1 # use all CPUs\n",
    "    ).mean()\n",
    "    return val\n",
    "\n",
    "randomforest_cv_bo = BayesianOptimization(\n",
    "    randomforest_cv,\n",
    "    {'n_estimators': (10, 250),\n",
    "    'min_samples_split': (2, 25),\n",
    "    'max_features': (0.1, 0.999)}\n",
    ")\n",
    "\n",
    "gp_params = {\"alpha\": 1e-5}\n",
    "randomforest_cv_bo.maximize(n_iter=50, **gp_params)\n",
    "\n",
    "best_params=randomforest_cv_bo.max[\"params\"]\n",
    "print(best_params)\n"
   ]
  },
  {
   "cell_type": "markdown",
   "metadata": {},
   "source": [
    "## "
   ]
  },
  {
   "cell_type": "markdown",
   "metadata": {},
   "source": [
    "## モデル作成と予測"
   ]
  },
  {
   "cell_type": "code",
   "execution_count": 171,
   "metadata": {},
   "outputs": [
    {
     "name": "stdout",
     "output_type": "stream",
     "text": [
      "accuracy: 0.9523809523809523\n",
      "正答率(%): 95.23809523809523 %\n"
     ]
    }
   ],
   "source": [
    "best_model=RandomForestClassifier(\n",
    "    n_estimators=int(best_params[\"n_estimators\"]),\n",
    "    min_samples_split=int(best_params[\"min_samples_split\"]),\n",
    "    max_features=best_params[\"max_features\"]\n",
    ")\n",
    "\n",
    "best_model.fit(X_train,y_train)\n",
    "\n",
    "y_pred=best_model.predict(X_test)\n",
    "\n",
    "accuracy=accuracy_score(y_test,y_pred)\n",
    "print(\"accuracy:\",accuracy)\n",
    "print(\"正答率(%):\",accuracy*100,\"%\")"
   ]
  },
  {
   "cell_type": "markdown",
   "metadata": {},
   "source": [
    "# K近傍法"
   ]
  },
  {
   "cell_type": "markdown",
   "metadata": {},
   "source": [
    "## モデル作成と予測"
   ]
  },
  {
   "cell_type": "code",
   "execution_count": 172,
   "metadata": {},
   "outputs": [
    {
     "name": "stdout",
     "output_type": "stream",
     "text": [
      "0.9047619047619048\n"
     ]
    }
   ],
   "source": [
    "from sklearn.neighbors import KNeighborsClassifier\n",
    "\n",
    "knn=KNeighborsClassifier(n_neighbors=6)\n",
    "knn.fit(X_train,y_train)\n",
    "\n",
    "y_pred_knn=knn.predict(X_test)\n",
    "print(accuracy_score(y_test,y_pred_knn))"
   ]
  },
  {
   "cell_type": "markdown",
   "metadata": {},
   "source": [
    "## モデル最適化と予測"
   ]
  },
  {
   "cell_type": "code",
   "execution_count": 173,
   "metadata": {},
   "outputs": [
    {
     "name": "stdout",
     "output_type": "stream",
     "text": [
      "k: 1\n",
      "accuracy: 0.9523809523809523\n"
     ]
    }
   ],
   "source": [
    "list_nn=[]\n",
    "list_score=[]\n",
    "\n",
    "for k in range(1,31):\n",
    "    knc=KNeighborsClassifier(n_neighbors=k)\n",
    "    knc.fit(X_train,y_train)\n",
    "\n",
    "    y_pred_knc=knc.predict(X_test)\n",
    "\n",
    "    \n",
    "    score=accuracy_score(y_test,y_pred_knc)\n",
    "    list_score.append(score)\n",
    "    #print(score)\n",
    "\n",
    "max_score = max(list_score)\n",
    "best_k = list_score.index(max_score) + 1\n",
    "print(\"k:\",best_k)\n",
    "print(\"accuracy:\",max_score)\n"
   ]
  },
  {
   "cell_type": "markdown",
   "metadata": {},
   "source": [
    "# XGboost(ベイズ最適化)"
   ]
  },
  {
   "cell_type": "code",
   "execution_count": 176,
   "metadata": {},
   "outputs": [
    {
     "name": "stdout",
     "output_type": "stream",
     "text": [
      "|   iter    |  target   |   alpha   | colsam... |   gamma   | learni... | max_depth | min_ch... | subsample |\n",
      "-------------------------------------------------------------------------------------------------------------\n",
      "| \u001b[0m1        \u001b[0m | \u001b[0m0.7227   \u001b[0m | \u001b[0m2.989    \u001b[0m | \u001b[0m0.745    \u001b[0m | \u001b[0m7.137    \u001b[0m | \u001b[0m0.5481   \u001b[0m | \u001b[0m6.713    \u001b[0m | \u001b[0m4.829    \u001b[0m | \u001b[0m0.7314   \u001b[0m |\n",
      "| \u001b[0m2        \u001b[0m | \u001b[0m0.7227   \u001b[0m | \u001b[0m6.856    \u001b[0m | \u001b[0m0.7048   \u001b[0m | \u001b[0m2.071    \u001b[0m | \u001b[0m0.2154   \u001b[0m | \u001b[0m12.53    \u001b[0m | \u001b[0m19.5     \u001b[0m | \u001b[0m0.9099   \u001b[0m |\n",
      "| \u001b[0m3        \u001b[0m | \u001b[0m0.7227   \u001b[0m | \u001b[0m3.247    \u001b[0m | \u001b[0m0.7844   \u001b[0m | \u001b[0m8.121    \u001b[0m | \u001b[0m0.5149   \u001b[0m | \u001b[0m5.462    \u001b[0m | \u001b[0m14.14    \u001b[0m | \u001b[0m0.9917   \u001b[0m |\n",
      "| \u001b[95m4        \u001b[0m | \u001b[95m0.9506   \u001b[0m | \u001b[95m3.49     \u001b[0m | \u001b[95m0.8318   \u001b[0m | \u001b[95m0.2654   \u001b[0m | \u001b[95m0.5995   \u001b[0m | \u001b[95m9.886    \u001b[0m | \u001b[95m3.337    \u001b[0m | \u001b[95m0.9062   \u001b[0m |\n",
      "| \u001b[0m5        \u001b[0m | \u001b[0m0.7227   \u001b[0m | \u001b[0m5.583    \u001b[0m | \u001b[0m0.5518   \u001b[0m | \u001b[0m9.164    \u001b[0m | \u001b[0m0.1652   \u001b[0m | \u001b[0m13.95    \u001b[0m | \u001b[0m6.713    \u001b[0m | \u001b[0m0.9332   \u001b[0m |\n",
      "| \u001b[0m6        \u001b[0m | \u001b[0m0.7227   \u001b[0m | \u001b[0m8.2      \u001b[0m | \u001b[0m0.2161   \u001b[0m | \u001b[0m2.407    \u001b[0m | \u001b[0m0.1259   \u001b[0m | \u001b[0m6.21     \u001b[0m | \u001b[0m2.217    \u001b[0m | \u001b[0m0.5081   \u001b[0m |\n",
      "| \u001b[0m7        \u001b[0m | \u001b[0m0.8435   \u001b[0m | \u001b[0m1.647    \u001b[0m | \u001b[0m0.4751   \u001b[0m | \u001b[0m4.057    \u001b[0m | \u001b[0m0.7307   \u001b[0m | \u001b[0m9.273    \u001b[0m | \u001b[0m1.129    \u001b[0m | \u001b[0m0.9185   \u001b[0m |\n",
      "| \u001b[0m8        \u001b[0m | \u001b[0m0.9506   \u001b[0m | \u001b[0m1.793    \u001b[0m | \u001b[0m0.8117   \u001b[0m | \u001b[0m0.2885   \u001b[0m | \u001b[0m0.7674   \u001b[0m | \u001b[0m10.74    \u001b[0m | \u001b[0m2.267    \u001b[0m | \u001b[0m1.0      \u001b[0m |\n",
      "| \u001b[0m9        \u001b[0m | \u001b[0m0.7941   \u001b[0m | \u001b[0m4.245    \u001b[0m | \u001b[0m1.0      \u001b[0m | \u001b[0m0.0      \u001b[0m | \u001b[0m0.9      \u001b[0m | \u001b[0m15.0     \u001b[0m | \u001b[0m3.425    \u001b[0m | \u001b[0m0.5      \u001b[0m |\n",
      "| \u001b[0m10       \u001b[0m | \u001b[0m0.7941   \u001b[0m | \u001b[0m0.2601   \u001b[0m | \u001b[0m1.0      \u001b[0m | \u001b[0m0.0      \u001b[0m | \u001b[0m0.1      \u001b[0m | \u001b[0m8.834    \u001b[0m | \u001b[0m4.899    \u001b[0m | \u001b[0m1.0      \u001b[0m |\n",
      "| \u001b[0m11       \u001b[0m | \u001b[0m0.9149   \u001b[0m | \u001b[0m3.622    \u001b[0m | \u001b[0m0.1      \u001b[0m | \u001b[0m0.0      \u001b[0m | \u001b[0m0.9      \u001b[0m | \u001b[0m10.13    \u001b[0m | \u001b[0m1.0      \u001b[0m | \u001b[0m1.0      \u001b[0m |\n",
      "| \u001b[0m12       \u001b[0m | \u001b[0m0.8435   \u001b[0m | \u001b[0m3.401    \u001b[0m | \u001b[0m1.0      \u001b[0m | \u001b[0m1.919    \u001b[0m | \u001b[0m0.1      \u001b[0m | \u001b[0m11.47    \u001b[0m | \u001b[0m2.383    \u001b[0m | \u001b[0m1.0      \u001b[0m |\n",
      "| \u001b[0m13       \u001b[0m | \u001b[0m0.9506   \u001b[0m | \u001b[0m2.212    \u001b[0m | \u001b[0m1.0      \u001b[0m | \u001b[0m0.0      \u001b[0m | \u001b[0m0.9      \u001b[0m | \u001b[0m8.432    \u001b[0m | \u001b[0m1.714    \u001b[0m | \u001b[0m0.5      \u001b[0m |\n",
      "| \u001b[0m14       \u001b[0m | \u001b[0m0.7227   \u001b[0m | \u001b[0m0.0      \u001b[0m | \u001b[0m0.1      \u001b[0m | \u001b[0m10.0     \u001b[0m | \u001b[0m0.1      \u001b[0m | \u001b[0m15.0     \u001b[0m | \u001b[0m20.0     \u001b[0m | \u001b[0m0.5      \u001b[0m |\n",
      "| \u001b[0m15       \u001b[0m | \u001b[0m0.8673   \u001b[0m | \u001b[0m0.4602   \u001b[0m | \u001b[0m0.1918   \u001b[0m | \u001b[0m0.2569   \u001b[0m | \u001b[0m0.7939   \u001b[0m | \u001b[0m9.815    \u001b[0m | \u001b[0m1.048    \u001b[0m | \u001b[0m0.5157   \u001b[0m |\n",
      "| \u001b[0m16       \u001b[0m | \u001b[0m0.9506   \u001b[0m | \u001b[0m4.513    \u001b[0m | \u001b[0m0.7992   \u001b[0m | \u001b[0m0.03267  \u001b[0m | \u001b[0m0.8524   \u001b[0m | \u001b[0m7.098    \u001b[0m | \u001b[0m3.095    \u001b[0m | \u001b[0m0.9351   \u001b[0m |\n",
      "| \u001b[0m17       \u001b[0m | \u001b[0m0.9506   \u001b[0m | \u001b[0m2.878    \u001b[0m | \u001b[0m1.0      \u001b[0m | \u001b[0m0.0      \u001b[0m | \u001b[0m0.9      \u001b[0m | \u001b[0m5.0      \u001b[0m | \u001b[0m1.0      \u001b[0m | \u001b[0m1.0      \u001b[0m |\n",
      "| \u001b[0m18       \u001b[0m | \u001b[0m0.7227   \u001b[0m | \u001b[0m10.0     \u001b[0m | \u001b[0m1.0      \u001b[0m | \u001b[0m0.0      \u001b[0m | \u001b[0m0.9      \u001b[0m | \u001b[0m5.0      \u001b[0m | \u001b[0m12.46    \u001b[0m | \u001b[0m1.0      \u001b[0m |\n",
      "| \u001b[0m19       \u001b[0m | \u001b[0m0.7227   \u001b[0m | \u001b[0m2.764    \u001b[0m | \u001b[0m1.0      \u001b[0m | \u001b[0m0.0      \u001b[0m | \u001b[0m0.9      \u001b[0m | \u001b[0m5.0      \u001b[0m | \u001b[0m4.001    \u001b[0m | \u001b[0m0.5      \u001b[0m |\n",
      "| \u001b[0m20       \u001b[0m | \u001b[0m0.9506   \u001b[0m | \u001b[0m4.325    \u001b[0m | \u001b[0m1.0      \u001b[0m | \u001b[0m0.0      \u001b[0m | \u001b[0m0.9      \u001b[0m | \u001b[0m7.202    \u001b[0m | \u001b[0m1.0      \u001b[0m | \u001b[0m1.0      \u001b[0m |\n",
      "| \u001b[0m21       \u001b[0m | \u001b[0m0.7941   \u001b[0m | \u001b[0m6.065    \u001b[0m | \u001b[0m0.1      \u001b[0m | \u001b[0m0.0      \u001b[0m | \u001b[0m0.9      \u001b[0m | \u001b[0m9.217    \u001b[0m | \u001b[0m4.321    \u001b[0m | \u001b[0m1.0      \u001b[0m |\n",
      "| \u001b[0m22       \u001b[0m | \u001b[0m0.8316   \u001b[0m | \u001b[0m3.08     \u001b[0m | \u001b[0m0.1971   \u001b[0m | \u001b[0m0.8411   \u001b[0m | \u001b[0m0.4764   \u001b[0m | \u001b[0m7.833    \u001b[0m | \u001b[0m2.037    \u001b[0m | \u001b[0m0.9781   \u001b[0m |\n",
      "| \u001b[0m23       \u001b[0m | \u001b[0m0.7227   \u001b[0m | \u001b[0m2.823    \u001b[0m | \u001b[0m1.0      \u001b[0m | \u001b[0m0.0      \u001b[0m | \u001b[0m0.1      \u001b[0m | \u001b[0m9.865    \u001b[0m | \u001b[0m1.958    \u001b[0m | \u001b[0m0.5      \u001b[0m |\n",
      "| \u001b[0m24       \u001b[0m | \u001b[0m0.7227   \u001b[0m | \u001b[0m1.898    \u001b[0m | \u001b[0m0.7656   \u001b[0m | \u001b[0m5.395    \u001b[0m | \u001b[0m0.6368   \u001b[0m | \u001b[0m12.12    \u001b[0m | \u001b[0m15.65    \u001b[0m | \u001b[0m0.8067   \u001b[0m |\n",
      "| \u001b[0m25       \u001b[0m | \u001b[0m0.8792   \u001b[0m | \u001b[0m2.098    \u001b[0m | \u001b[0m0.7717   \u001b[0m | \u001b[0m1.076    \u001b[0m | \u001b[0m0.8335   \u001b[0m | \u001b[0m12.24    \u001b[0m | \u001b[0m3.056    \u001b[0m | \u001b[0m0.6593   \u001b[0m |\n",
      "| \u001b[0m26       \u001b[0m | \u001b[0m0.7227   \u001b[0m | \u001b[0m8.665    \u001b[0m | \u001b[0m0.4442   \u001b[0m | \u001b[0m3.853    \u001b[0m | \u001b[0m0.5919   \u001b[0m | \u001b[0m12.61    \u001b[0m | \u001b[0m1.421    \u001b[0m | \u001b[0m0.5313   \u001b[0m |\n",
      "| \u001b[0m27       \u001b[0m | \u001b[0m0.7227   \u001b[0m | \u001b[0m5.798    \u001b[0m | \u001b[0m0.3446   \u001b[0m | \u001b[0m6.218    \u001b[0m | \u001b[0m0.4842   \u001b[0m | \u001b[0m7.818    \u001b[0m | \u001b[0m7.847    \u001b[0m | \u001b[0m0.815    \u001b[0m |\n",
      "| \u001b[0m28       \u001b[0m | \u001b[0m0.7227   \u001b[0m | \u001b[0m0.7656   \u001b[0m | \u001b[0m0.6687   \u001b[0m | \u001b[0m3.987    \u001b[0m | \u001b[0m0.3213   \u001b[0m | \u001b[0m10.34    \u001b[0m | \u001b[0m8.33     \u001b[0m | \u001b[0m0.5741   \u001b[0m |\n",
      "| \u001b[0m29       \u001b[0m | \u001b[0m0.7227   \u001b[0m | \u001b[0m2.823    \u001b[0m | \u001b[0m0.3426   \u001b[0m | \u001b[0m4.361    \u001b[0m | \u001b[0m0.898    \u001b[0m | \u001b[0m11.15    \u001b[0m | \u001b[0m8.069    \u001b[0m | \u001b[0m0.8993   \u001b[0m |\n",
      "| \u001b[0m30       \u001b[0m | \u001b[0m0.9506   \u001b[0m | \u001b[0m2.541    \u001b[0m | \u001b[0m0.5708   \u001b[0m | \u001b[0m0.5507   \u001b[0m | \u001b[0m0.9      \u001b[0m | \u001b[0m10.61    \u001b[0m | \u001b[0m3.245    \u001b[0m | \u001b[0m1.0      \u001b[0m |\n",
      "| \u001b[0m31       \u001b[0m | \u001b[0m0.9506   \u001b[0m | \u001b[0m3.587    \u001b[0m | \u001b[0m1.0      \u001b[0m | \u001b[0m0.0      \u001b[0m | \u001b[0m0.9      \u001b[0m | \u001b[0m6.278    \u001b[0m | \u001b[0m1.597    \u001b[0m | \u001b[0m0.8986   \u001b[0m |\n",
      "| \u001b[0m32       \u001b[0m | \u001b[0m0.9506   \u001b[0m | \u001b[0m2.515    \u001b[0m | \u001b[0m1.0      \u001b[0m | \u001b[0m0.0      \u001b[0m | \u001b[0m0.9      \u001b[0m | \u001b[0m7.084    \u001b[0m | \u001b[0m1.0      \u001b[0m | \u001b[0m0.5659   \u001b[0m |\n",
      "| \u001b[0m33       \u001b[0m | \u001b[0m0.9506   \u001b[0m | \u001b[0m4.232    \u001b[0m | \u001b[0m0.1185   \u001b[0m | \u001b[0m0.0      \u001b[0m | \u001b[0m0.9      \u001b[0m | \u001b[0m5.588    \u001b[0m | \u001b[0m1.0      \u001b[0m | \u001b[0m1.0      \u001b[0m |\n",
      "| \u001b[0m34       \u001b[0m | \u001b[0m0.9506   \u001b[0m | \u001b[0m3.411    \u001b[0m | \u001b[0m1.0      \u001b[0m | \u001b[0m0.0      \u001b[0m | \u001b[0m0.9      \u001b[0m | \u001b[0m8.541    \u001b[0m | \u001b[0m3.899    \u001b[0m | \u001b[0m1.0      \u001b[0m |\n",
      "| \u001b[0m35       \u001b[0m | \u001b[0m0.7941   \u001b[0m | \u001b[0m3.593    \u001b[0m | \u001b[0m0.5068   \u001b[0m | \u001b[0m1.182    \u001b[0m | \u001b[0m0.8059   \u001b[0m | \u001b[0m10.11    \u001b[0m | \u001b[0m4.526    \u001b[0m | \u001b[0m0.7697   \u001b[0m |\n",
      "| \u001b[0m36       \u001b[0m | \u001b[0m0.9268   \u001b[0m | \u001b[0m1.086    \u001b[0m | \u001b[0m1.0      \u001b[0m | \u001b[0m0.0      \u001b[0m | \u001b[0m0.9      \u001b[0m | \u001b[0m7.625    \u001b[0m | \u001b[0m1.624    \u001b[0m | \u001b[0m1.0      \u001b[0m |\n",
      "| \u001b[0m37       \u001b[0m | \u001b[0m0.772    \u001b[0m | \u001b[0m3.87     \u001b[0m | \u001b[0m0.6103   \u001b[0m | \u001b[0m1.621    \u001b[0m | \u001b[0m0.5985   \u001b[0m | \u001b[0m5.711    \u001b[0m | \u001b[0m1.127    \u001b[0m | \u001b[0m0.6175   \u001b[0m |\n",
      "| \u001b[0m38       \u001b[0m | \u001b[0m0.9149   \u001b[0m | \u001b[0m1.113    \u001b[0m | \u001b[0m0.1      \u001b[0m | \u001b[0m0.0      \u001b[0m | \u001b[0m0.9      \u001b[0m | \u001b[0m10.83    \u001b[0m | \u001b[0m3.141    \u001b[0m | \u001b[0m1.0      \u001b[0m |\n",
      "| \u001b[0m39       \u001b[0m | \u001b[0m0.8911   \u001b[0m | \u001b[0m0.8797   \u001b[0m | \u001b[0m0.6733   \u001b[0m | \u001b[0m1.32     \u001b[0m | \u001b[0m0.8549   \u001b[0m | \u001b[0m9.921    \u001b[0m | \u001b[0m2.308    \u001b[0m | \u001b[0m0.6851   \u001b[0m |\n",
      "| \u001b[0m40       \u001b[0m | \u001b[0m0.8435   \u001b[0m | \u001b[0m4.596    \u001b[0m | \u001b[0m0.2665   \u001b[0m | \u001b[0m0.06865  \u001b[0m | \u001b[0m0.7884   \u001b[0m | \u001b[0m9.314    \u001b[0m | \u001b[0m2.551    \u001b[0m | \u001b[0m0.7419   \u001b[0m |\n",
      "| \u001b[0m41       \u001b[0m | \u001b[0m0.9149   \u001b[0m | \u001b[0m2.555    \u001b[0m | \u001b[0m0.1      \u001b[0m | \u001b[0m0.0      \u001b[0m | \u001b[0m0.9      \u001b[0m | \u001b[0m11.68    \u001b[0m | \u001b[0m1.993    \u001b[0m | \u001b[0m1.0      \u001b[0m |\n",
      "| \u001b[0m42       \u001b[0m | \u001b[0m0.9506   \u001b[0m | \u001b[0m5.383    \u001b[0m | \u001b[0m1.0      \u001b[0m | \u001b[0m0.0      \u001b[0m | \u001b[0m0.9      \u001b[0m | \u001b[0m6.226    \u001b[0m | \u001b[0m1.876    \u001b[0m | \u001b[0m1.0      \u001b[0m |\n",
      "| \u001b[0m43       \u001b[0m | \u001b[0m0.9268   \u001b[0m | \u001b[0m0.6121   \u001b[0m | \u001b[0m1.0      \u001b[0m | \u001b[0m0.1495   \u001b[0m | \u001b[0m0.9      \u001b[0m | \u001b[0m11.98    \u001b[0m | \u001b[0m1.664    \u001b[0m | \u001b[0m1.0      \u001b[0m |\n",
      "| \u001b[0m44       \u001b[0m | \u001b[0m0.8435   \u001b[0m | \u001b[0m1.278    \u001b[0m | \u001b[0m0.1201   \u001b[0m | \u001b[0m2.332    \u001b[0m | \u001b[0m0.8031   \u001b[0m | \u001b[0m12.2     \u001b[0m | \u001b[0m1.153    \u001b[0m | \u001b[0m0.8486   \u001b[0m |\n",
      "| \u001b[0m45       \u001b[0m | \u001b[0m0.8554   \u001b[0m | \u001b[0m0.3316   \u001b[0m | \u001b[0m0.4212   \u001b[0m | \u001b[0m0.1434   \u001b[0m | \u001b[0m0.1851   \u001b[0m | \u001b[0m13.66    \u001b[0m | \u001b[0m1.494    \u001b[0m | \u001b[0m0.8699   \u001b[0m |\n",
      "| \u001b[0m46       \u001b[0m | \u001b[0m0.903    \u001b[0m | \u001b[0m0.906    \u001b[0m | \u001b[0m0.5795   \u001b[0m | \u001b[0m0.4595   \u001b[0m | \u001b[0m0.4749   \u001b[0m | \u001b[0m6.024    \u001b[0m | \u001b[0m1.182    \u001b[0m | \u001b[0m0.5081   \u001b[0m |\n",
      "| \u001b[0m47       \u001b[0m | \u001b[0m0.7941   \u001b[0m | \u001b[0m6.306    \u001b[0m | \u001b[0m0.3806   \u001b[0m | \u001b[0m0.0943   \u001b[0m | \u001b[0m0.8771   \u001b[0m | \u001b[0m5.787    \u001b[0m | \u001b[0m4.178    \u001b[0m | \u001b[0m0.9904   \u001b[0m |\n",
      "| \u001b[0m48       \u001b[0m | \u001b[0m0.7227   \u001b[0m | \u001b[0m10.0     \u001b[0m | \u001b[0m1.0      \u001b[0m | \u001b[0m10.0     \u001b[0m | \u001b[0m0.1      \u001b[0m | \u001b[0m6.914    \u001b[0m | \u001b[0m20.0     \u001b[0m | \u001b[0m0.9738   \u001b[0m |\n",
      "| \u001b[0m49       \u001b[0m | \u001b[0m0.8673   \u001b[0m | \u001b[0m0.3016   \u001b[0m | \u001b[0m0.4458   \u001b[0m | \u001b[0m1.88     \u001b[0m | \u001b[0m0.8762   \u001b[0m | \u001b[0m6.938    \u001b[0m | \u001b[0m1.094    \u001b[0m | \u001b[0m0.9652   \u001b[0m |\n",
      "| \u001b[0m50       \u001b[0m | \u001b[0m0.9506   \u001b[0m | \u001b[0m2.146    \u001b[0m | \u001b[0m1.0      \u001b[0m | \u001b[0m0.0      \u001b[0m | \u001b[0m0.9      \u001b[0m | \u001b[0m9.26     \u001b[0m | \u001b[0m3.422    \u001b[0m | \u001b[0m1.0      \u001b[0m |\n",
      "| \u001b[0m51       \u001b[0m | \u001b[0m0.7227   \u001b[0m | \u001b[0m0.0      \u001b[0m | \u001b[0m0.1      \u001b[0m | \u001b[0m0.0      \u001b[0m | \u001b[0m0.9      \u001b[0m | \u001b[0m5.0      \u001b[0m | \u001b[0m20.0     \u001b[0m | \u001b[0m0.5      \u001b[0m |\n",
      "| \u001b[0m52       \u001b[0m | \u001b[0m0.7227   \u001b[0m | \u001b[0m10.0     \u001b[0m | \u001b[0m0.1      \u001b[0m | \u001b[0m10.0     \u001b[0m | \u001b[0m0.1      \u001b[0m | \u001b[0m15.0     \u001b[0m | \u001b[0m14.9     \u001b[0m | \u001b[0m0.5      \u001b[0m |\n",
      "| \u001b[0m53       \u001b[0m | \u001b[0m0.7227   \u001b[0m | \u001b[0m10.0     \u001b[0m | \u001b[0m1.0      \u001b[0m | \u001b[0m0.0      \u001b[0m | \u001b[0m0.9      \u001b[0m | \u001b[0m15.0     \u001b[0m | \u001b[0m11.12    \u001b[0m | \u001b[0m0.5      \u001b[0m |\n",
      "| \u001b[0m54       \u001b[0m | \u001b[0m0.9506   \u001b[0m | \u001b[0m0.0      \u001b[0m | \u001b[0m1.0      \u001b[0m | \u001b[0m10.0     \u001b[0m | \u001b[0m0.1      \u001b[0m | \u001b[0m15.0     \u001b[0m | \u001b[0m1.0      \u001b[0m | \u001b[0m1.0      \u001b[0m |\n",
      "| \u001b[0m55       \u001b[0m | \u001b[0m0.8435   \u001b[0m | \u001b[0m0.0      \u001b[0m | \u001b[0m0.1      \u001b[0m | \u001b[0m8.497    \u001b[0m | \u001b[0m0.9      \u001b[0m | \u001b[0m15.0     \u001b[0m | \u001b[0m1.0      \u001b[0m | \u001b[0m1.0      \u001b[0m |\n",
      "=============================================================================================================\n",
      "{'alpha': 3.4902391423857058, 'colsample_bytree': 0.8317580368286597, 'gamma': 0.26535891411988644, 'learning_rate': 0.5995060670561585, 'max_depth': 9.886468785613456, 'min_child_weight': 3.3370779609827856, 'subsample': 0.9061926067138533}\n"
     ]
    }
   ],
   "source": [
    "import xgboost as xgb\n",
    "from xgboost import XGBClassifier\n",
    "from sklearn.model_selection import cross_val_score\n",
    "\n",
    "xgtrain = xgb.DMatrix(X_train, label=y_train)\n",
    "\n",
    "def xgboost_cv(\n",
    "        learning_rate,\n",
    "        max_depth,\n",
    "        subsample,\n",
    "        colsample_bytree,\n",
    "        min_child_weight,\n",
    "        gamma,\n",
    "        alpha):\n",
    "\n",
    "        params = {\n",
    "            'learning_rate': learning_rate,\n",
    "            'max_depth': int(max_depth),\n",
    "            'subsample': subsample,\n",
    "            'colsample_bytree': colsample_bytree,\n",
    "            'min_child_weight': min_child_weight,\n",
    "            'gamma': gamma,\n",
    "            'alpha': alpha,\n",
    "            'objective': 'binary:logistic',\n",
    "            'eval_metric': 'error'\n",
    "        }\n",
    "\n",
    "        cv_result = xgb.cv(\n",
    "            params,\n",
    "            xgtrain,\n",
    "            num_boost_round=10, \n",
    "            nfold=3,\n",
    "            seed=0\n",
    "        )\n",
    "\n",
    "        return 1.0 - cv_result['test-error-mean'].values[-1]\n",
    "\n",
    "xgboost_cv_bo = BayesianOptimization(xgboost_cv, \n",
    "                            {\n",
    "                                'learning_rate': (0.1, 0.9),\n",
    "                                'max_depth': (5, 15),\n",
    "                                'subsample': (0.5, 1),\n",
    "                                'colsample_bytree': (0.1, 1),\n",
    "                                'min_child_weight': (1, 20),\n",
    "                                'gamma': (0, 10),\n",
    "                                'alpha': (0, 10),\n",
    "                            })\n",
    "\n",
    "xgboost_cv_bo.maximize(n_iter=50)\n",
    "\n",
    "best_params_xg=xgboost_cv_bo.max[\"params\"]\n",
    "print(best_params_xg)\n"
   ]
  },
  {
   "cell_type": "code",
   "execution_count": 179,
   "metadata": {},
   "outputs": [
    {
     "name": "stdout",
     "output_type": "stream",
     "text": [
      "accuracy: 0.9047619047619048\n",
      "正答率(%): 90.47619047619048 %\n"
     ]
    }
   ],
   "source": [
    "best_model_xg=XGBClassifier(\n",
    "    learning_rate=best_params_xg[\"learning_rate\"],\n",
    "    max_depth=int(best_params_xg[\"max_depth\"]),\n",
    "    subsample=best_params_xg[\"subsample\"],\n",
    "    colsample_bytree=best_params_xg[\"colsample_bytree\"],\n",
    "    min_child_weight=best_params_xg[\"min_child_weight\"],\n",
    "    gamma=best_params_xg[\"gamma\"],\n",
    "    alpha=best_params_xg[\"alpha\"]\n",
    ")\n",
    "\n",
    "best_model_xg.fit(X_train,y_train)\n",
    "\n",
    "y_pred_xg=best_model_xg.predict(X_test)\n",
    "\n",
    "accuracy=accuracy_score(y_test,y_pred_xg)\n",
    "print(\"accuracy:\",accuracy)\n",
    "print(\"正答率(%):\",accuracy*100,\"%\")"
   ]
  },
  {
   "cell_type": "markdown",
   "metadata": {},
   "source": [
    "# SVM"
   ]
  },
  {
   "cell_type": "code",
   "execution_count": 180,
   "metadata": {},
   "outputs": [
    {
     "name": "stdout",
     "output_type": "stream",
     "text": [
      "accuracy: 0.9523809523809523\n"
     ]
    }
   ],
   "source": [
    "from sklearn import svm\n",
    "\n",
    "model_svm=svm.SVC(kernel=\"linear\",C=1.0)\n",
    "model_svm.fit(X_train,y_train)\n",
    "\n",
    "y_pred_svm=model.predict(X_test)\n",
    "accuracy=accuracy_score(y_test,y_pred_svm)\n",
    "print(\"accuracy:\",accuracy)"
   ]
  },
  {
   "cell_type": "code",
   "execution_count": null,
   "metadata": {},
   "outputs": [],
   "source": []
  }
 ],
 "metadata": {
  "kernelspec": {
   "display_name": "Python 3",
   "language": "python",
   "name": "python3"
  },
  "language_info": {
   "codemirror_mode": {
    "name": "ipython",
    "version": 3
   },
   "file_extension": ".py",
   "mimetype": "text/x-python",
   "name": "python",
   "nbconvert_exporter": "python",
   "pygments_lexer": "ipython3",
   "version": "3.10.6"
  }
 },
 "nbformat": 4,
 "nbformat_minor": 2
}
