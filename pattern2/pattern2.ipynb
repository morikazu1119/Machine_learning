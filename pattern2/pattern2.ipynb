{
 "cells": [
  {
   "cell_type": "markdown",
   "metadata": {},
   "source": [
    "# import library"
   ]
  },
  {
   "cell_type": "code",
   "execution_count": 146,
   "metadata": {},
   "outputs": [],
   "source": [
    "import math as m\n",
    "import numpy as np\n",
    "import pandas as pd\n",
    "import matplotlib.pyplot as plt\n",
    "from IPython.core.interactiveshell import InteractiveShell\n",
    "InteractiveShell.ast_node_interactivity=\"all\""
   ]
  },
  {
   "cell_type": "markdown",
   "metadata": {},
   "source": [
    "# road data"
   ]
  },
  {
   "cell_type": "code",
   "execution_count": 174,
   "metadata": {},
   "outputs": [
    {
     "data": {
      "text/html": [
       "<div>\n",
       "<style scoped>\n",
       "    .dataframe tbody tr th:only-of-type {\n",
       "        vertical-align: middle;\n",
       "    }\n",
       "\n",
       "    .dataframe tbody tr th {\n",
       "        vertical-align: top;\n",
       "    }\n",
       "\n",
       "    .dataframe thead th {\n",
       "        text-align: right;\n",
       "    }\n",
       "</style>\n",
       "<table border=\"1\" class=\"dataframe\">\n",
       "  <thead>\n",
       "    <tr style=\"text-align: right;\">\n",
       "      <th></th>\n",
       "      <th>0</th>\n",
       "      <th>1</th>\n",
       "      <th>2</th>\n",
       "      <th>3</th>\n",
       "      <th>4</th>\n",
       "      <th>5</th>\n",
       "      <th>6</th>\n",
       "      <th>7</th>\n",
       "      <th>8</th>\n",
       "      <th>9</th>\n",
       "      <th>...</th>\n",
       "      <th>94</th>\n",
       "      <th>95</th>\n",
       "      <th>96</th>\n",
       "      <th>97</th>\n",
       "      <th>98</th>\n",
       "      <th>99</th>\n",
       "      <th>100</th>\n",
       "      <th>101</th>\n",
       "      <th>102</th>\n",
       "      <th>103</th>\n",
       "    </tr>\n",
       "  </thead>\n",
       "  <tbody>\n",
       "    <tr>\n",
       "      <th>0</th>\n",
       "      <td>734</td>\n",
       "      <td>794</td>\n",
       "      <td>784</td>\n",
       "      <td>693</td>\n",
       "      <td>613</td>\n",
       "      <td>663</td>\n",
       "      <td>643</td>\n",
       "      <td>583</td>\n",
       "      <td>593</td>\n",
       "      <td>583</td>\n",
       "      <td>...</td>\n",
       "      <td>370</td>\n",
       "      <td>610</td>\n",
       "      <td>610</td>\n",
       "      <td>750</td>\n",
       "      <td>822</td>\n",
       "      <td>822</td>\n",
       "      <td>842</td>\n",
       "      <td>519</td>\n",
       "      <td>519</td>\n",
       "      <td>603</td>\n",
       "    </tr>\n",
       "    <tr>\n",
       "      <th>1</th>\n",
       "      <td>1196</td>\n",
       "      <td>1367</td>\n",
       "      <td>1467</td>\n",
       "      <td>1256</td>\n",
       "      <td>1216</td>\n",
       "      <td>1296</td>\n",
       "      <td>1528</td>\n",
       "      <td>1538</td>\n",
       "      <td>1256</td>\n",
       "      <td>1216</td>\n",
       "      <td>...</td>\n",
       "      <td>1050</td>\n",
       "      <td>1250</td>\n",
       "      <td>1250</td>\n",
       "      <td>1230</td>\n",
       "      <td>1484</td>\n",
       "      <td>1464</td>\n",
       "      <td>1664</td>\n",
       "      <td>1341</td>\n",
       "      <td>1302</td>\n",
       "      <td>1291</td>\n",
       "    </tr>\n",
       "    <tr>\n",
       "      <th>2</th>\n",
       "      <td>261</td>\n",
       "      <td>281</td>\n",
       "      <td>322</td>\n",
       "      <td>261</td>\n",
       "      <td>281</td>\n",
       "      <td>261</td>\n",
       "      <td>312</td>\n",
       "      <td>322</td>\n",
       "      <td>271</td>\n",
       "      <td>291</td>\n",
       "      <td>...</td>\n",
       "      <td>270</td>\n",
       "      <td>270</td>\n",
       "      <td>240</td>\n",
       "      <td>320</td>\n",
       "      <td>642</td>\n",
       "      <td>521</td>\n",
       "      <td>421</td>\n",
       "      <td>243</td>\n",
       "      <td>265</td>\n",
       "      <td>275</td>\n",
       "    </tr>\n",
       "    <tr>\n",
       "      <th>3</th>\n",
       "      <td>2241</td>\n",
       "      <td>2171</td>\n",
       "      <td>2362</td>\n",
       "      <td>2131</td>\n",
       "      <td>2271</td>\n",
       "      <td>2261</td>\n",
       "      <td>2312</td>\n",
       "      <td>2462</td>\n",
       "      <td>2201</td>\n",
       "      <td>2111</td>\n",
       "      <td>...</td>\n",
       "      <td>3000</td>\n",
       "      <td>2700</td>\n",
       "      <td>2850</td>\n",
       "      <td>3400</td>\n",
       "      <td>1444</td>\n",
       "      <td>2546</td>\n",
       "      <td>2707</td>\n",
       "      <td>2794</td>\n",
       "      <td>3164</td>\n",
       "      <td>2783</td>\n",
       "    </tr>\n",
       "    <tr>\n",
       "      <th>4</th>\n",
       "      <td>352</td>\n",
       "      <td>402</td>\n",
       "      <td>412</td>\n",
       "      <td>322</td>\n",
       "      <td>322</td>\n",
       "      <td>281</td>\n",
       "      <td>322</td>\n",
       "      <td>291</td>\n",
       "      <td>312</td>\n",
       "      <td>362</td>\n",
       "      <td>...</td>\n",
       "      <td>450</td>\n",
       "      <td>350</td>\n",
       "      <td>300</td>\n",
       "      <td>400</td>\n",
       "      <td>441</td>\n",
       "      <td>401</td>\n",
       "      <td>481</td>\n",
       "      <td>328</td>\n",
       "      <td>455</td>\n",
       "      <td>286</td>\n",
       "    </tr>\n",
       "    <tr>\n",
       "      <th>5</th>\n",
       "      <td>1397</td>\n",
       "      <td>1407</td>\n",
       "      <td>1668</td>\n",
       "      <td>1678</td>\n",
       "      <td>1457</td>\n",
       "      <td>1497</td>\n",
       "      <td>1367</td>\n",
       "      <td>1286</td>\n",
       "      <td>1518</td>\n",
       "      <td>1457</td>\n",
       "      <td>...</td>\n",
       "      <td>1300</td>\n",
       "      <td>1550</td>\n",
       "      <td>1500</td>\n",
       "      <td>1400</td>\n",
       "      <td>1223</td>\n",
       "      <td>1343</td>\n",
       "      <td>1604</td>\n",
       "      <td>2497</td>\n",
       "      <td>1513</td>\n",
       "      <td>1873</td>\n",
       "    </tr>\n",
       "    <tr>\n",
       "      <th>6</th>\n",
       "      <td>432</td>\n",
       "      <td>452</td>\n",
       "      <td>492</td>\n",
       "      <td>392</td>\n",
       "      <td>362</td>\n",
       "      <td>442</td>\n",
       "      <td>573</td>\n",
       "      <td>553</td>\n",
       "      <td>613</td>\n",
       "      <td>573</td>\n",
       "      <td>...</td>\n",
       "      <td>430</td>\n",
       "      <td>500</td>\n",
       "      <td>600</td>\n",
       "      <td>640</td>\n",
       "      <td>341</td>\n",
       "      <td>341</td>\n",
       "      <td>441</td>\n",
       "      <td>444</td>\n",
       "      <td>487</td>\n",
       "      <td>519</td>\n",
       "    </tr>\n",
       "    <tr>\n",
       "      <th>7</th>\n",
       "      <td>1980</td>\n",
       "      <td>2141</td>\n",
       "      <td>2121</td>\n",
       "      <td>2101</td>\n",
       "      <td>2071</td>\n",
       "      <td>2030</td>\n",
       "      <td>1799</td>\n",
       "      <td>1789</td>\n",
       "      <td>1598</td>\n",
       "      <td>1658</td>\n",
       "      <td>...</td>\n",
       "      <td>2600</td>\n",
       "      <td>2600</td>\n",
       "      <td>2300</td>\n",
       "      <td>2450</td>\n",
       "      <td>2687</td>\n",
       "      <td>2446</td>\n",
       "      <td>2548</td>\n",
       "      <td>2190</td>\n",
       "      <td>2138</td>\n",
       "      <td>2159</td>\n",
       "    </tr>\n",
       "    <tr>\n",
       "      <th>8</th>\n",
       "      <td>543</td>\n",
       "      <td>563</td>\n",
       "      <td>603</td>\n",
       "      <td>503</td>\n",
       "      <td>513</td>\n",
       "      <td>503</td>\n",
       "      <td>513</td>\n",
       "      <td>533</td>\n",
       "      <td>513</td>\n",
       "      <td>462</td>\n",
       "      <td>...</td>\n",
       "      <td>450</td>\n",
       "      <td>480</td>\n",
       "      <td>610</td>\n",
       "      <td>500</td>\n",
       "      <td>762</td>\n",
       "      <td>702</td>\n",
       "      <td>842</td>\n",
       "      <td>519</td>\n",
       "      <td>466</td>\n",
       "      <td>381</td>\n",
       "    </tr>\n",
       "    <tr>\n",
       "      <th>9</th>\n",
       "      <td>1005</td>\n",
       "      <td>1106</td>\n",
       "      <td>1186</td>\n",
       "      <td>1055</td>\n",
       "      <td>1015</td>\n",
       "      <td>935</td>\n",
       "      <td>925</td>\n",
       "      <td>955</td>\n",
       "      <td>935</td>\n",
       "      <td>834</td>\n",
       "      <td>...</td>\n",
       "      <td>830</td>\n",
       "      <td>1000</td>\n",
       "      <td>1100</td>\n",
       "      <td>900</td>\n",
       "      <td>1404</td>\n",
       "      <td>1464</td>\n",
       "      <td>1664</td>\n",
       "      <td>2974</td>\n",
       "      <td>921</td>\n",
       "      <td>974</td>\n",
       "    </tr>\n",
       "  </tbody>\n",
       "</table>\n",
       "<p>10 rows × 104 columns</p>\n",
       "</div>"
      ],
      "text/plain": [
       "    0     1     2     3     4     5     6     7     8     9    ...   94    \n",
       "0   734   794   784   693   613   663   643   583   593   583  ...   370  \\\n",
       "1  1196  1367  1467  1256  1216  1296  1528  1538  1256  1216  ...  1050   \n",
       "2   261   281   322   261   281   261   312   322   271   291  ...   270   \n",
       "3  2241  2171  2362  2131  2271  2261  2312  2462  2201  2111  ...  3000   \n",
       "4   352   402   412   322   322   281   322   291   312   362  ...   450   \n",
       "5  1397  1407  1668  1678  1457  1497  1367  1286  1518  1457  ...  1300   \n",
       "6   432   452   492   392   362   442   573   553   613   573  ...   430   \n",
       "7  1980  2141  2121  2101  2071  2030  1799  1789  1598  1658  ...  2600   \n",
       "8   543   563   603   503   513   503   513   533   513   462  ...   450   \n",
       "9  1005  1106  1186  1055  1015   935   925   955   935   834  ...   830   \n",
       "\n",
       "    95    96    97    98    99    100   101   102   103  \n",
       "0   610   610   750   822   822   842   519   519   603  \n",
       "1  1250  1250  1230  1484  1464  1664  1341  1302  1291  \n",
       "2   270   240   320   642   521   421   243   265   275  \n",
       "3  2700  2850  3400  1444  2546  2707  2794  3164  2783  \n",
       "4   350   300   400   441   401   481   328   455   286  \n",
       "5  1550  1500  1400  1223  1343  1604  2497  1513  1873  \n",
       "6   500   600   640   341   341   441   444   487   519  \n",
       "7  2600  2300  2450  2687  2446  2548  2190  2138  2159  \n",
       "8   480   610   500   762   702   842   519   466   381  \n",
       "9  1000  1100   900  1404  1464  1664  2974   921   974  \n",
       "\n",
       "[10 rows x 104 columns]"
      ]
     },
     "execution_count": 174,
     "metadata": {},
     "output_type": "execute_result"
    }
   ],
   "source": [
    "data = pd.read_csv('',header=None,delimiter=\",\")\n",
    "x=data.T\n",
    "data = x.values\n",
    "X=data.tolist()\n",
    "x"
   ]
  },
  {
   "cell_type": "code",
   "execution_count": 170,
   "metadata": {},
   "outputs": [],
   "source": [
    "#平均値、標準偏差を求める\n",
    "def mean_std(s):\n",
    "\n",
    "    f1=[[],[]]\n",
    "    f2=[[],[]]\n",
    "    #2列ごとに（あ～お）に分けて、平均値、標準偏差を求める\n",
    "    data=[list(pair) for pair in zip(s[0::2],s[1::2])]\n",
    "    for len in data:\n",
    "            f1[0].append(np.mean(len[0]))\n",
    "            f1[1].append(np.std(len[0]))\n",
    "            f2[0].append(np.mean(len[1]))\n",
    "            f2[1].append(np.std(len[1]))\n",
    "\n",
    "    return f1,f2,data\n",
    "\n",
    "#マハラノビスの距離の式\n",
    "def mahara(mean1,std1,mean2,std2,x1,x2,w):\n",
    "    dis = np.sqrt(((x1-mean1)/std1)**2*w+((x2-mean2)/std2)**2)-0.001\n",
    "    return dis\n",
    "\n",
    "#マハラノビスの距離を求める\n",
    "def distance(s,w):\n",
    "\n",
    "    f1,f2,data=mean_std(s)\n",
    "    result=[]\n",
    "    for i in range(len(data)):\n",
    "        __=[]\n",
    "        for l in range(len(data)):\n",
    "            _=[]\n",
    "            x1,x2=data[i]\n",
    "            for k,m in zip(x1,x2):\n",
    "                mean1=f1[0][l]\n",
    "                std1=f1[1][l]\n",
    "                mean2=f2[0][l]\n",
    "                std2=f2[1][l]\n",
    "                _.append(mahara(mean1,std1,mean2,std2,k,m,w))\n",
    "            __.append(_)\n",
    "        result.append(__)\n",
    "    return result\n",
    "\n",
    "#マハラノビスの距離を求めた結果を表示\n",
    "def show_distance(s,w):\n",
    "    re=distance(s,w)\n",
    "    for _ in re:\n",
    "        _=pd.DataFrame(_)\n",
    "        result=_.T\n",
    "        result.columns=[\"あ(距離)\",\"い(距離)\",\"う(距離)\",\"え(距離)\",\"お(距離)\"]\n",
    "        display(result)\n",
    "\n",
    "#マハラノビスの距離が最小になる母音を見つける\n",
    "def show_judge(s,w):\n",
    "    re=distance(s,w)\n",
    "    result_tr=[]\n",
    "    for _ in re:\n",
    "        _=pd.DataFrame(_)\n",
    "        result=_.T\n",
    "\n",
    "        #最小値から-0.001をする\n",
    "        for i in range(len(result)):\n",
    "            min_val=result.iloc[i,:].min()\n",
    "            result.iloc[i,:]-=min_val+0.001\n",
    "\n",
    "        #符号が-になったものを数える\n",
    "        count = result.apply(lambda x: (x < 0).sum())\n",
    "        c=pd.DataFrame(count)\n",
    "        c=c.T\n",
    "        c.columns=[\"あ(判定数)\",\"い(判定数)\",\"う(判定数)\",\"え(判定数)\",\"お(判定数)\"]\n",
    "\n",
    "        result.columns=[\"あ(判定)\",\"い(判定)\",\"う(判定)\",\"え(判定)\",\"お(判定)\"]\n",
    "        display(result)\n",
    "        display(c)\n",
    "\n",
    "        result_tr.append(result)\n",
    "        return result_tr\n",
    "          \n",
    "#正解率を求める\n",
    "def accuracy(s,w,P):\n",
    "    re=distance(s,w)\n",
    "    count_all=[]\n",
    "    for _ in re:\n",
    "        _=pd.DataFrame(_)\n",
    "        result=_.T\n",
    "\n",
    "        for i in range(len(result)):\n",
    "            min_val=result.iloc[i,:].min()\n",
    "            result.iloc[i,:]-=min_val+0.001\n",
    "\n",
    "        count = result.apply(lambda x: (x < 0).sum())\n",
    "        count_all.append(list(count))\n",
    "    correct=0\n",
    "    for i in range(5):\n",
    "        correct+=count_all[i][i]\n",
    "\n",
    "    all_sums = sum([sum(col) for col in zip(*count_all)])\n",
    "    accuracy=correct/(all_sums)\n",
    "    if P:\n",
    "        print(\"accuracy:\",accuracy)\n",
    "    return accuracy,correct,all_sums\n",
    "\n",
    "#重みを変化させ、正解率を求める\n",
    "def grad(s,n,P):\n",
    "    w=0\n",
    "    acc_max=0\n",
    "    w_=[]\n",
    "    acc_=[]\n",
    "    corr_=[]\n",
    "    for i in np.arange(0,n,0.01):\n",
    "        acc,corr,sums=accuracy(s,i,P)\n",
    "        acc_.append(acc)\n",
    "        w_.append(i)\n",
    "        corr_.append(corr)\n",
    "        if acc_max<acc:\n",
    "            acc_max=acc\n",
    "            w_max=i\n",
    "        #elif (acc_max-acc)>0.02:\n",
    "        #    break\n",
    "\n",
    "    print(\"w:\",w_max)\n",
    "    print(\"accuracy;\",acc_max)\n",
    "    return w_,acc_,corr_,sums,w_max\n",
    "\n",
    "#正解率の変化をプロットする\n",
    "def plot_acc(x,y):\n",
    "    import matplotlib.pyplot as plt\n",
    "    w,acc=x,y\n",
    "\n",
    "    plt.plot(w,acc)\n",
    "    plt.xlabel(\"weight\")\n",
    "    plt.ylabel(\"accuracy\")\n",
    "    plt.grid(True)\n",
    "\n",
    "    plt.show()"
   ]
  },
  {
   "cell_type": "markdown",
   "metadata": {},
   "source": [
    "# 男女104人の音声データの識別"
   ]
  },
  {
   "cell_type": "code",
   "execution_count": 173,
   "metadata": {},
   "outputs": [
    {
     "name": "stdout",
     "output_type": "stream",
     "text": [
      "w: 1.25\n",
      "accuracy; 0.8153846153846154\n"
     ]
    },
    {
     "data": {
      "image/png": "[encoded data removed]",
      "text/plain": [
       "<Figure size 432x288 with 1 Axes>"
      ]
     },
     "metadata": {
      "needs_background": "light"
     },
     "output_type": "display_data"
    }
   ],
   "source": [
    "w,acc,_,__,___=grad(X,5,False)\n",
    "plot_acc(w,acc)"
   ]
  },
  {
   "cell_type": "markdown",
   "metadata": {},
   "source": [
    "# 男女で分けた場合の音声データの識別"
   ]
  },
  {
   "cell_type": "code",
   "execution_count": 182,
   "metadata": {},
   "outputs": [
    {
     "name": "stdout",
     "output_type": "stream",
     "text": [
      "w: 0.72\n",
      "accuracy; 0.8297297297297297\n",
      "w: 0.65\n",
      "accuracy; 0.8133333333333334\n"
     ]
    },
    {
     "data": {
      "text/plain": [
       "[<matplotlib.lines.Line2D at 0x1fb94e1c160>]"
      ]
     },
     "execution_count": 182,
     "metadata": {},
     "output_type": "execute_result"
    },
    {
     "data": {
      "text/plain": [
       "[<matplotlib.lines.Line2D at 0x1fb94e1c430>]"
      ]
     },
     "execution_count": 182,
     "metadata": {},
     "output_type": "execute_result"
    },
    {
     "data": {
      "text/plain": [
       "Text(0.5, 0, 'weight')"
      ]
     },
     "execution_count": 182,
     "metadata": {},
     "output_type": "execute_result"
    },
    {
     "data": {
      "text/plain": [
       "Text(0, 0.5, 'correct')"
      ]
     },
     "execution_count": 182,
     "metadata": {},
     "output_type": "execute_result"
    },
    {
     "data": {
      "text/plain": [
       "Text(0.5, 1.0, 'split of sex')"
      ]
     },
     "execution_count": 182,
     "metadata": {},
     "output_type": "execute_result"
    },
    {
     "data": {
      "text/plain": [
       "<matplotlib.legend.Legend at 0x1fb94e07f40>"
      ]
     },
     "execution_count": 182,
     "metadata": {},
     "output_type": "execute_result"
    },
    {
     "data": {
      "image/png": "[encoded data removed]",
      "text/plain": [
       "<Figure size 432x288 with 1 Axes>"
      ]
     },
     "metadata": {
      "needs_background": "light"
     },
     "output_type": "display_data"
    },
    {
     "name": "stdout",
     "output_type": "stream",
     "text": [
      "w_male : 0.72\n",
      "female : 0.65\n",
      "0.8234165067178503\n"
     ]
    }
   ],
   "source": [
    "X_=x.copy()\n",
    "w_all=[]\n",
    "corr_all=[]\n",
    "acc_=[]\n",
    "w1_=[]\n",
    "w2_=[]\n",
    "kind=[\"a\",\"a\",\"i\",\"i\",\"u\",\"u\",\"e\",\"e\",\"o\",\"o\"]\n",
    "\n",
    "male=X_.iloc[:,:74]\n",
    "female=X_.iloc[:,74:]\n",
    "male=male.values.tolist()\n",
    "female=female.values.tolist()\n",
    "\n",
    "w1,acc1,corr1,sums1,w1_max=grad(male,5,False)\n",
    "w2,acc2,corr2,sums2,w2_max=grad(female,5,False)\n",
    "\n",
    "title = \"split of sex\"\n",
    "plt.plot(w1, corr1, label='male')\n",
    "plt.plot(w2, corr2, label='female')\n",
    "plt.xlabel('weight')\n",
    "plt.ylabel('correct')\n",
    "plt.title(title)\n",
    "plt.legend()\n",
    "\n",
    "plt.show()\n",
    "\n",
    "print(f\"w_male : {w1_max}\")\n",
    "print(f\"female : {w2_max}\")\n",
    "print((max(corr1) + max(corr2)) / (sums1 + sums2))"
   ]
  },
  {
   "cell_type": "markdown",
   "metadata": {},
   "source": [
    "# 男女が未知の場合の音声データの識別"
   ]
  },
  {
   "cell_type": "code",
   "execution_count": 155,
   "metadata": {},
   "outputs": [
    {
     "name": "stdout",
     "output_type": "stream",
     "text": [
      "w: 0.4\n",
      "accuracy; 0.7769230769230769\n",
      "w: 2.42\n",
      "accuracy; 0.8653846153846154\n"
     ]
    },
    {
     "data": {
      "text/plain": [
       "[<matplotlib.lines.Line2D at 0x1fbff1b76a0>]"
      ]
     },
     "execution_count": 155,
     "metadata": {},
     "output_type": "execute_result"
    },
    {
     "data": {
      "text/plain": [
       "[<matplotlib.lines.Line2D at 0x1fbff1b7400>]"
      ]
     },
     "execution_count": 155,
     "metadata": {},
     "output_type": "execute_result"
    },
    {
     "data": {
      "text/plain": [
       "Text(0.5, 0, 'weight')"
      ]
     },
     "execution_count": 155,
     "metadata": {},
     "output_type": "execute_result"
    },
    {
     "data": {
      "text/plain": [
       "(149.4, 260.0)"
      ]
     },
     "execution_count": 155,
     "metadata": {},
     "output_type": "execute_result"
    },
    {
     "data": {
      "text/plain": [
       "Text(0, 0.5, 'correct')"
      ]
     },
     "execution_count": 155,
     "metadata": {},
     "output_type": "execute_result"
    },
    {
     "data": {
      "text/plain": [
       "Text(0.5, 1.0, 'a: f0')"
      ]
     },
     "execution_count": 155,
     "metadata": {},
     "output_type": "execute_result"
    },
    {
     "data": {
      "text/plain": [
       "<matplotlib.legend.Legend at 0x1fb80e40730>"
      ]
     },
     "execution_count": 155,
     "metadata": {},
     "output_type": "execute_result"
    },
    {
     "name": "stdout",
     "output_type": "stream",
     "text": [
      "w: 0.89\n",
      "accuracy; 0.8346153846153846\n",
      "w: 1.6\n",
      "accuracy; 0.8115384615384615\n"
     ]
    },
    {
     "data": {
      "text/plain": [
       "[<matplotlib.lines.Line2D at 0x1fbff1b5b40>]"
      ]
     },
     "execution_count": 155,
     "metadata": {},
     "output_type": "execute_result"
    },
    {
     "data": {
      "text/plain": [
       "[<matplotlib.lines.Line2D at 0x1fbff1b5450>]"
      ]
     },
     "execution_count": 155,
     "metadata": {},
     "output_type": "execute_result"
    },
    {
     "data": {
      "text/plain": [
       "Text(0.5, 0, 'weight')"
      ]
     },
     "execution_count": 155,
     "metadata": {},
     "output_type": "execute_result"
    },
    {
     "data": {
      "text/plain": [
       "(141.4, 260.0)"
      ]
     },
     "execution_count": 155,
     "metadata": {},
     "output_type": "execute_result"
    },
    {
     "data": {
      "text/plain": [
       "Text(0, 0.5, 'correct')"
      ]
     },
     "execution_count": 155,
     "metadata": {},
     "output_type": "execute_result"
    },
    {
     "data": {
      "text/plain": [
       "Text(0.5, 1.0, 'a: f1')"
      ]
     },
     "execution_count": 155,
     "metadata": {},
     "output_type": "execute_result"
    },
    {
     "data": {
      "text/plain": [
       "<matplotlib.legend.Legend at 0x1fb80445240>"
      ]
     },
     "execution_count": 155,
     "metadata": {},
     "output_type": "execute_result"
    },
    {
     "name": "stdout",
     "output_type": "stream",
     "text": [
      "w: 1.61\n",
      "accuracy; 0.8461538461538461\n",
      "w: 0.99\n",
      "accuracy; 0.8076923076923077\n"
     ]
    },
    {
     "data": {
      "text/plain": [
       "[<matplotlib.lines.Line2D at 0x1fbff1b45e0>]"
      ]
     },
     "execution_count": 155,
     "metadata": {},
     "output_type": "execute_result"
    },
    {
     "data": {
      "text/plain": [
       "[<matplotlib.lines.Line2D at 0x1fbff1b61a0>]"
      ]
     },
     "execution_count": 155,
     "metadata": {},
     "output_type": "execute_result"
    },
    {
     "data": {
      "text/plain": [
       "Text(0.5, 0, 'weight')"
      ]
     },
     "execution_count": 155,
     "metadata": {},
     "output_type": "execute_result"
    },
    {
     "data": {
      "text/plain": [
       "(155.95, 260.0)"
      ]
     },
     "execution_count": 155,
     "metadata": {},
     "output_type": "execute_result"
    },
    {
     "data": {
      "text/plain": [
       "Text(0, 0.5, 'correct')"
      ]
     },
     "execution_count": 155,
     "metadata": {},
     "output_type": "execute_result"
    },
    {
     "data": {
      "text/plain": [
       "Text(0.5, 1.0, 'i: f0')"
      ]
     },
     "execution_count": 155,
     "metadata": {},
     "output_type": "execute_result"
    },
    {
     "data": {
      "text/plain": [
       "<matplotlib.legend.Legend at 0x1fb8010f6a0>"
      ]
     },
     "execution_count": 155,
     "metadata": {},
     "output_type": "execute_result"
    },
    {
     "name": "stdout",
     "output_type": "stream",
     "text": [
      "w: 2.3000000000000003\n",
      "accuracy; 0.8038461538461539\n",
      "w: 0.34\n",
      "accuracy; 0.8461538461538461\n"
     ]
    },
    {
     "data": {
      "text/plain": [
       "[<matplotlib.lines.Line2D at 0x1fbff1b4f70>]"
      ]
     },
     "execution_count": 155,
     "metadata": {},
     "output_type": "execute_result"
    },
    {
     "data": {
      "text/plain": [
       "[<matplotlib.lines.Line2D at 0x1fbff1922c0>]"
      ]
     },
     "execution_count": 155,
     "metadata": {},
     "output_type": "execute_result"
    },
    {
     "data": {
      "text/plain": [
       "Text(0.5, 0, 'weight')"
      ]
     },
     "execution_count": 155,
     "metadata": {},
     "output_type": "execute_result"
    },
    {
     "data": {
      "text/plain": [
       "(154.9, 260.0)"
      ]
     },
     "execution_count": 155,
     "metadata": {},
     "output_type": "execute_result"
    },
    {
     "data": {
      "text/plain": [
       "Text(0, 0.5, 'correct')"
      ]
     },
     "execution_count": 155,
     "metadata": {},
     "output_type": "execute_result"
    },
    {
     "data": {
      "text/plain": [
       "Text(0.5, 1.0, 'i: f1')"
      ]
     },
     "execution_count": 155,
     "metadata": {},
     "output_type": "execute_result"
    },
    {
     "data": {
      "text/plain": [
       "<matplotlib.legend.Legend at 0x1fb803c9900>"
      ]
     },
     "execution_count": 155,
     "metadata": {},
     "output_type": "execute_result"
    },
    {
     "name": "stdout",
     "output_type": "stream",
     "text": [
      "w: 0.7000000000000001\n",
      "accuracy; 0.8269230769230769\n",
      "w: 0.84\n",
      "accuracy; 0.8076923076923077\n"
     ]
    },
    {
     "data": {
      "text/plain": [
       "[<matplotlib.lines.Line2D at 0x1fbff192350>]"
      ]
     },
     "execution_count": 155,
     "metadata": {},
     "output_type": "execute_result"
    },
    {
     "data": {
      "text/plain": [
       "[<matplotlib.lines.Line2D at 0x1fbff190c40>]"
      ]
     },
     "execution_count": 155,
     "metadata": {},
     "output_type": "execute_result"
    },
    {
     "data": {
      "text/plain": [
       "Text(0.5, 0, 'weight')"
      ]
     },
     "execution_count": 155,
     "metadata": {},
     "output_type": "execute_result"
    },
    {
     "data": {
      "text/plain": [
       "(153.05, 260.0)"
      ]
     },
     "execution_count": 155,
     "metadata": {},
     "output_type": "execute_result"
    },
    {
     "data": {
      "text/plain": [
       "Text(0, 0.5, 'correct')"
      ]
     },
     "execution_count": 155,
     "metadata": {},
     "output_type": "execute_result"
    },
    {
     "data": {
      "text/plain": [
       "Text(0.5, 1.0, 'u: f0')"
      ]
     },
     "execution_count": 155,
     "metadata": {},
     "output_type": "execute_result"
    },
    {
     "data": {
      "text/plain": [
       "<matplotlib.legend.Legend at 0x1fbffec8b80>"
      ]
     },
     "execution_count": 155,
     "metadata": {},
     "output_type": "execute_result"
    },
    {
     "name": "stdout",
     "output_type": "stream",
     "text": [
      "w: 1.84\n",
      "accuracy; 0.7923076923076923\n",
      "w: 0.68\n",
      "accuracy; 0.8307692307692308\n"
     ]
    },
    {
     "data": {
      "text/plain": [
       "[<matplotlib.lines.Line2D at 0x1fbff190640>]"
      ]
     },
     "execution_count": 155,
     "metadata": {},
     "output_type": "execute_result"
    },
    {
     "data": {
      "text/plain": [
       "[<matplotlib.lines.Line2D at 0x1fbff1907f0>]"
      ]
     },
     "execution_count": 155,
     "metadata": {},
     "output_type": "execute_result"
    },
    {
     "data": {
      "text/plain": [
       "Text(0.5, 0, 'weight')"
      ]
     },
     "execution_count": 155,
     "metadata": {},
     "output_type": "execute_result"
    },
    {
     "data": {
      "text/plain": [
       "(158.25, 260.0)"
      ]
     },
     "execution_count": 155,
     "metadata": {},
     "output_type": "execute_result"
    },
    {
     "data": {
      "text/plain": [
       "Text(0, 0.5, 'correct')"
      ]
     },
     "execution_count": 155,
     "metadata": {},
     "output_type": "execute_result"
    },
    {
     "data": {
      "text/plain": [
       "Text(0.5, 1.0, 'u: f1')"
      ]
     },
     "execution_count": 155,
     "metadata": {},
     "output_type": "execute_result"
    },
    {
     "data": {
      "text/plain": [
       "<matplotlib.legend.Legend at 0x1fb800be020>"
      ]
     },
     "execution_count": 155,
     "metadata": {},
     "output_type": "execute_result"
    },
    {
     "name": "stdout",
     "output_type": "stream",
     "text": [
      "w: 2.39\n",
      "accuracy; 0.8192307692307692\n",
      "w: 1.28\n",
      "accuracy; 0.8538461538461538\n"
     ]
    },
    {
     "data": {
      "text/plain": [
       "[<matplotlib.lines.Line2D at 0x1fbff193dc0>]"
      ]
     },
     "execution_count": 155,
     "metadata": {},
     "output_type": "execute_result"
    },
    {
     "data": {
      "text/plain": [
       "[<matplotlib.lines.Line2D at 0x1fbff4f3a30>]"
      ]
     },
     "execution_count": 155,
     "metadata": {},
     "output_type": "execute_result"
    },
    {
     "data": {
      "text/plain": [
       "Text(0.5, 0, 'weight')"
      ]
     },
     "execution_count": 155,
     "metadata": {},
     "output_type": "execute_result"
    },
    {
     "data": {
      "text/plain": [
       "(151.65, 260.0)"
      ]
     },
     "execution_count": 155,
     "metadata": {},
     "output_type": "execute_result"
    },
    {
     "data": {
      "text/plain": [
       "Text(0, 0.5, 'correct')"
      ]
     },
     "execution_count": 155,
     "metadata": {},
     "output_type": "execute_result"
    },
    {
     "data": {
      "text/plain": [
       "Text(0.5, 1.0, 'e: f0')"
      ]
     },
     "execution_count": 155,
     "metadata": {},
     "output_type": "execute_result"
    },
    {
     "data": {
      "text/plain": [
       "<matplotlib.legend.Legend at 0x1fb803e18d0>"
      ]
     },
     "execution_count": 155,
     "metadata": {},
     "output_type": "execute_result"
    },
    {
     "name": "stdout",
     "output_type": "stream",
     "text": [
      "w: 0.62\n",
      "accuracy; 0.823076923076923\n",
      "w: 1.54\n",
      "accuracy; 0.8115384615384615\n"
     ]
    },
    {
     "data": {
      "text/plain": [
       "[<matplotlib.lines.Line2D at 0x1fbff4f1e40>]"
      ]
     },
     "execution_count": 155,
     "metadata": {},
     "output_type": "execute_result"
    },
    {
     "data": {
      "text/plain": [
       "[<matplotlib.lines.Line2D at 0x1fbff4f3f40>]"
      ]
     },
     "execution_count": 155,
     "metadata": {},
     "output_type": "execute_result"
    },
    {
     "data": {
      "text/plain": [
       "Text(0.5, 0, 'weight')"
      ]
     },
     "execution_count": 155,
     "metadata": {},
     "output_type": "execute_result"
    },
    {
     "data": {
      "text/plain": [
       "(155.2, 260.0)"
      ]
     },
     "execution_count": 155,
     "metadata": {},
     "output_type": "execute_result"
    },
    {
     "data": {
      "text/plain": [
       "Text(0, 0.5, 'correct')"
      ]
     },
     "execution_count": 155,
     "metadata": {},
     "output_type": "execute_result"
    },
    {
     "data": {
      "text/plain": [
       "Text(0.5, 1.0, 'e: f1')"
      ]
     },
     "execution_count": 155,
     "metadata": {},
     "output_type": "execute_result"
    },
    {
     "data": {
      "text/plain": [
       "<matplotlib.legend.Legend at 0x1fb803fd900>"
      ]
     },
     "execution_count": 155,
     "metadata": {},
     "output_type": "execute_result"
    },
    {
     "name": "stdout",
     "output_type": "stream",
     "text": [
      "w: 0.76\n",
      "accuracy; 0.8269230769230769\n",
      "w: 0.76\n",
      "accuracy; 0.8538461538461538\n"
     ]
    },
    {
     "data": {
      "text/plain": [
       "[<matplotlib.lines.Line2D at 0x1fbff4f1f30>]"
      ]
     },
     "execution_count": 155,
     "metadata": {},
     "output_type": "execute_result"
    },
    {
     "data": {
      "text/plain": [
       "[<matplotlib.lines.Line2D at 0x1fbff49ea40>]"
      ]
     },
     "execution_count": 155,
     "metadata": {},
     "output_type": "execute_result"
    },
    {
     "data": {
      "text/plain": [
       "Text(0.5, 0, 'weight')"
      ]
     },
     "execution_count": 155,
     "metadata": {},
     "output_type": "execute_result"
    },
    {
     "data": {
      "text/plain": [
       "(149.55, 260.0)"
      ]
     },
     "execution_count": 155,
     "metadata": {},
     "output_type": "execute_result"
    },
    {
     "data": {
      "text/plain": [
       "Text(0, 0.5, 'correct')"
      ]
     },
     "execution_count": 155,
     "metadata": {},
     "output_type": "execute_result"
    },
    {
     "data": {
      "text/plain": [
       "Text(0.5, 1.0, 'o: f0')"
      ]
     },
     "execution_count": 155,
     "metadata": {},
     "output_type": "execute_result"
    },
    {
     "data": {
      "text/plain": [
       "<matplotlib.legend.Legend at 0x1fbffe200a0>"
      ]
     },
     "execution_count": 155,
     "metadata": {},
     "output_type": "execute_result"
    },
    {
     "name": "stdout",
     "output_type": "stream",
     "text": [
      "w: 0.72\n",
      "accuracy; 0.8384615384615385\n",
      "w: 0.81\n",
      "accuracy; 0.8153846153846154\n"
     ]
    },
    {
     "data": {
      "text/plain": [
       "[<matplotlib.lines.Line2D at 0x1fbff4f12a0>]"
      ]
     },
     "execution_count": 155,
     "metadata": {},
     "output_type": "execute_result"
    },
    {
     "data": {
      "text/plain": [
       "[<matplotlib.lines.Line2D at 0x1fbff49ece0>]"
      ]
     },
     "execution_count": 155,
     "metadata": {},
     "output_type": "execute_result"
    },
    {
     "data": {
      "text/plain": [
       "Text(0.5, 0, 'weight')"
      ]
     },
     "execution_count": 155,
     "metadata": {},
     "output_type": "execute_result"
    },
    {
     "data": {
      "text/plain": [
       "(149.75, 260.0)"
      ]
     },
     "execution_count": 155,
     "metadata": {},
     "output_type": "execute_result"
    },
    {
     "data": {
      "text/plain": [
       "Text(0, 0.5, 'correct')"
      ]
     },
     "execution_count": 155,
     "metadata": {},
     "output_type": "execute_result"
    },
    {
     "data": {
      "text/plain": [
       "Text(0.5, 1.0, 'o: f1')"
      ]
     },
     "execution_count": 155,
     "metadata": {},
     "output_type": "execute_result"
    },
    {
     "data": {
      "text/plain": [
       "<matplotlib.legend.Legend at 0x1fbff1dfc10>"
      ]
     },
     "execution_count": 155,
     "metadata": {},
     "output_type": "execute_result"
    },
    {
     "data": {
      "image/png": "[encoded data removed]",
      "text/plain": [
       "<Figure size 720x720 with 10 Axes>"
      ]
     },
     "metadata": {
      "needs_background": "light"
     },
     "output_type": "display_data"
    },
    {
     "name": "stdout",
     "output_type": "stream",
     "text": [
      "a f0\n",
      "max_accuracy : 0.8211538461538461\n",
      "weight_up : 0.4\n",
      "weight_down : 2.42\n",
      "-----------------------\n",
      "a f1\n",
      "max_accuracy : 0.823076923076923\n",
      "weight_up : 0.89\n",
      "weight_down : 1.6\n",
      "-----------------------\n",
      "i f0\n",
      "max_accuracy : 0.8269230769230769\n",
      "weight_up : 1.61\n",
      "weight_down : 0.99\n",
      "-----------------------\n",
      "i f1\n",
      "max_accuracy : 0.825\n",
      "weight_up : 2.3000000000000003\n",
      "weight_down : 0.34\n",
      "-----------------------\n",
      "u f0\n",
      "max_accuracy : 0.8173076923076923\n",
      "weight_up : 0.7000000000000001\n",
      "weight_down : 0.84\n",
      "-----------------------\n",
      "u f1\n",
      "max_accuracy : 0.8099808061420346\n",
      "weight_up : 1.84\n",
      "weight_down : 0.68\n",
      "-----------------------\n",
      "e f0\n",
      "max_accuracy : 0.8365384615384616\n",
      "weight_up : 2.39\n",
      "weight_down : 1.28\n",
      "-----------------------\n",
      "e f1\n",
      "max_accuracy : 0.8157389635316699\n",
      "weight_up : 0.62\n",
      "weight_down : 1.54\n",
      "-----------------------\n",
      "o f0\n",
      "max_accuracy : 0.8403846153846154\n",
      "weight_up : 0.76\n",
      "weight_down : 0.76\n",
      "-----------------------\n",
      "o f1\n",
      "max_accuracy : 0.8269230769230769\n",
      "weight_up : 0.72\n",
      "weight_down : 0.81\n",
      "-----------------------\n"
     ]
    }
   ],
   "source": [
    "import matplotlib.pyplot as plt\n",
    "\n",
    "X_=x.copy()\n",
    "w_all=[]\n",
    "corr_all=[]\n",
    "acc_=[]\n",
    "w1_=[]\n",
    "w2_=[]\n",
    "kind=[\"a\",\"a\",\"i\",\"i\",\"u\",\"u\",\"e\",\"e\",\"o\",\"o\"]\n",
    "fig, axes = plt.subplots(5, 2, figsize=(10, 10))\n",
    "\n",
    "for i in range(10):\n",
    "    X_=X_.sort_values(by=i,axis=1)\n",
    "    half=len(X_.columns)//2\n",
    "    X1=X_.iloc[:,:half]\n",
    "    X2=X_.iloc[:,half:]\n",
    "    X1=X1.values.tolist()\n",
    "    X2=X2.values.tolist()\n",
    "\n",
    "    w1,acc1,corr1,sums1,w1_max=grad(X1,5,False)\n",
    "    w2,acc2,corr2,sums2,w2_max=grad(X2,5,False)\n",
    "\n",
    "    title = f\"{kind[i]}: f{i%2}\"\n",
    "    axes[int(i/2)][i%2].plot(w1, corr1, label='up')\n",
    "    axes[int(i/2)][i%2].plot(w2, corr2, label='down')\n",
    "    axes[int(i/2)][i%2].set_xlabel('weight')\n",
    "    axes[int(i/2)][i%2].set_ylim(top=260)\n",
    "    axes[int(i/2)][i%2].set_ylabel('correct')\n",
    "    axes[int(i/2)][i%2].set_title(title)\n",
    "    axes[int(i/2)][i%2].legend()\n",
    "\n",
    "    w1_.append(w1_max)\n",
    "    w2_.append(w2_max)\n",
    "    acc_.append((max(corr1) + max(corr2)) / (sums1 + sums2))\n",
    "\n",
    "plt.tight_layout()\n",
    "plt.show()\n",
    "\n",
    "for i in range(len(acc_)):\n",
    "    print(f\"{kind[i]} f{i%2}\")\n",
    "    print(f\"max_accuracy : {acc_[i]}\")\n",
    "    print(f\"weight_up : {w1_[i]}\")\n",
    "    print(f\"weight_down : {w2_[i]}\")\n",
    "    print(\"-----------------------\")"
   ]
  }
 ],
 "metadata": {
  "kernelspec": {
   "display_name": "Python 3",
   "language": "python",
   "name": "python3"
  },
  "language_info": {
   "codemirror_mode": {
    "name": "ipython",
    "version": 3
   },
   "file_extension": ".py",
   "mimetype": "text/x-python",
   "name": "python",
   "nbconvert_exporter": "python",
   "pygments_lexer": "ipython3",
   "version": "3.10.5"
  }
 },
 "nbformat": 4,
 "nbformat_minor": 2
}
