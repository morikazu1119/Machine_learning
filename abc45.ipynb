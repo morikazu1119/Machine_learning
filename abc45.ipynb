{
  "cells": [
    {
      "cell_type": "markdown",
      "metadata": {
        "id": "kiOaFOgVIVyA"
      },
      "source": [
        "# A"
      ]
    },
    {
      "cell_type": "code",
      "execution_count": null,
      "metadata": {
        "id": "weqsbfolIVyD",
        "outputId": "713b0e95-20eb-4021-cb07-4f60010a3a36"
      },
      "outputs": [
        {
          "name": "stdout",
          "output_type": "stream",
          "text": [
            "7.0\n"
          ]
        }
      ],
      "source": [
        "a=int(input())\n",
        "b=int(input())\n",
        "h=int(input())\n",
        "\n",
        "print(int((a+b)*h/2))"
      ]
    },
    {
      "cell_type": "markdown",
      "metadata": {
        "id": "9Ktw2ZfRIVyG"
      },
      "source": [
        "# B"
      ]
    },
    {
      "cell_type": "code",
      "execution_count": null,
      "metadata": {
        "id": "4c-MEphzIVyG",
        "outputId": "503219ac-4e69-470e-964f-b31af7a5abd2"
      },
      "outputs": [
        {
          "name": "stdout",
          "output_type": "stream",
          "text": [
            "C\n"
          ]
        }
      ],
      "source": [
        "sa=input()\n",
        "sb=input()\n",
        "sc=input()\n",
        "sa,sb,sc=list(sa),list(sb),list(sc)\n",
        "n=len(sa)+len(sb)+len(sc)\n",
        "\n",
        "next=None\n",
        "for i in range(n):\n",
        "    if i==0:\n",
        "        if sa==[]:\n",
        "            print(\"A\")\n",
        "            break\n",
        "        next=sa[0]\n",
        "        #print(sa)\n",
        "        del sa[0]\n",
        "        #print(sa)\n",
        "\n",
        "    elif next==\"a\":\n",
        "        if sa==[]:\n",
        "            print(\"A\")\n",
        "            break\n",
        "        next=sa[0]\n",
        "        del sa[0]\n",
        "\n",
        "    elif next==\"b\":\n",
        "        if sb==[]:\n",
        "            print(\"B\")\n",
        "            break\n",
        "        next=sb[0]\n",
        "        del sb[0]\n",
        "\n",
        "    elif next==\"c\":\n",
        "        if sc==[]:\n",
        "            print(\"C\")\n",
        "            break\n",
        "        next=sc[0]\n",
        "        #print(sc)\n",
        "        del sc[0]\n",
        "        #print(sc)\n"
      ]
    },
    {
      "cell_type": "markdown",
      "metadata": {
        "id": "9AAT-XpJIVyJ"
      },
      "source": [
        "# C"
      ]
    },
    {
      "cell_type": "code",
      "execution_count": null,
      "metadata": {
        "id": "Vqr4pZ0bIVyK",
        "outputId": "1144d5c2-9722-4c0c-a487-fd40fff4a3ab"
      },
      "outputs": [
        {
          "data": {
            "text/plain": [
              "[]"
            ]
          },
          "execution_count": 10,
          "metadata": {},
          "output_type": "execute_result"
        }
      ],
      "source": [
        "s=input()\n",
        "s=list(s)\n",
        "s"
      ]
    },
    {
      "cell_type": "markdown",
      "metadata": {
        "id": "sydvmuOcIVyL"
      },
      "source": [
        "# bit探索\n",
        "## bit探索とは\n",
        "    bit探索とは、集合を1,0の2進数に変換する方法である。\n",
        "\n",
        "## 具体例\n",
        "    {A0,A1,A2}の集合が存在するとする。この時の組み合わせは、\n",
        "    {},{A0},{A1},{A0,A1},{A2},{A0,A2},{A1,A2},{A0,A1,A2}\n",
        "    の8(=2**3)通りある。\n",
        "    Aiを選ぶことを1、選ばないことを0とし、各集合を2進数で表すと、\n",
        "    {A0,A1}=011,{A2}=100、{}=000のようになり、各集合は000,010,011,...111となり、10進数にすると、0,1,2,3...7となる"
      ]
    },
    {
      "cell_type": "code",
      "execution_count": null,
      "metadata": {
        "id": "Fg2cBpOHIVyM",
        "outputId": "3ac9b9e6-e7a6-4bf5-ea1f-a8af17bfae82"
      },
      "outputs": [
        {
          "name": "stdout",
          "output_type": "stream",
          "text": [
            "t: 12\n",
            "t: 125\n",
            "a: 125\n",
            "t: 1+2\n",
            "t: 1+25\n",
            "a: 151\n",
            "t: 12\n",
            "t: 12+5\n",
            "a: 168\n",
            "t: 1+2\n",
            "t: 1+2+5\n",
            "a: 176\n",
            "176\n"
          ]
        }
      ],
      "source": [
        "#https://www.ktpc.tokyo/le/k_c_pej_p_gm/bitSearch/bitSearch.html\n",
        "s=input();l=len(s)-1;a=0\n",
        "for i in range(2**l):\n",
        "\tt=s[0]\n",
        "\tfor j in range(l):\n",
        "\t\tt+=\"+\"*(i>>j&1)+s[j+1]\n",
        "\t\tprint(\"t:\",t)\n",
        "\ta+=eval(t)\n",
        "\tprint(\"a:\",a)\n",
        "print(a)"
      ]
    },
    {
      "cell_type": "code",
      "execution_count": 2,
      "metadata": {
        "id": "yuQBN-JNIVyN"
      },
      "outputs": [
        {
          "name": "stdout",
          "output_type": "stream",
          "text": [
            "176\n"
          ]
        }
      ],
      "source": [
        "import kython \n",
        "\n",
        "x=kython.k_bit(\"125\",\"+\")\n",
        "print(x)"
      ]
    },
    {
      "cell_type": "markdown",
      "metadata": {},
      "source": [
        "|i|j|i>>j|(i>>j)&1|\n",
        "|-|-|----|--------|\n",
        "|0|0|000 |000     |\n",
        "\n"
      ]
    },
    {
      "cell_type": "code",
      "execution_count": 4,
      "metadata": {},
      "outputs": [
        {
          "name": "stdout",
          "output_type": "stream",
          "text": [
            "{ 125 }\n",
            "{ 1,25 }\n",
            "{ 12,5 }\n",
            "{ 1,2,5 }\n"
          ]
        }
      ],
      "source": [
        "import kython\n",
        "kython.k_bit_split(\"125\")"
      ]
    },
    {
      "cell_type": "code",
      "execution_count": 22,
      "metadata": {},
      "outputs": [
        {
          "name": "stdout",
          "output_type": "stream",
          "text": [
            "1\n"
          ]
        }
      ],
      "source": [
        "i,j=2,1\n",
        "print((i>>j))"
      ]
    },
    {
      "cell_type": "code",
      "execution_count": null,
      "metadata": {},
      "outputs": [],
      "source": []
    }
  ],
  "metadata": {
    "colab": {
      "provenance": []
    },
    "kernelspec": {
      "display_name": "Python 3",
      "language": "python",
      "name": "python3"
    },
    "language_info": {
      "codemirror_mode": {
        "name": "ipython",
        "version": 3
      },
      "file_extension": ".py",
      "mimetype": "text/x-python",
      "name": "python",
      "nbconvert_exporter": "python",
      "pygments_lexer": "ipython3",
      "version": "3.10.6"
    }
  },
  "nbformat": 4,
  "nbformat_minor": 0
}
