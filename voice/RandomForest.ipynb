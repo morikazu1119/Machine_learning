{
 "cells": [
  {
   "cell_type": "markdown",
   "metadata": {},
   "source": [
    "# データ準備"
   ]
  },
  {
   "cell_type": "markdown",
   "metadata": {},
   "source": [
    "## Excelシートからcsv形式で保存"
   ]
  },
  {
   "cell_type": "code",
   "execution_count": 30,
   "metadata": {},
   "outputs": [],
   "source": [
    "import pandas as pd\n",
    "\n",
    "path=\"C:\\Code\\Python_code\\_git\\\\voice\\音声データ.xlsx\"\n",
    "\n",
    "input_file=pd.ExcelFile(path)\n",
    "sheet=input_file.sheet_names\n",
    "\n",
    "for i in range(0,len(sheet)):\n",
    "\n",
    "        data=pd.read_excel(path,i,index_col=None)\n",
    "        data.to_csv(sheet[i]+\".csv\",encoding=\"shift_jis\")"
   ]
  },
  {
   "cell_type": "markdown",
   "metadata": {},
   "source": [
    "## csvからデータを取り出す。"
   ]
  },
  {
   "cell_type": "code",
   "execution_count": 31,
   "metadata": {},
   "outputs": [],
   "source": [
    "male_train=pd.read_csv(\"C:\\Code\\Python_code\\_git\\\\voice\\A-男性.csv\")\n",
    "female_train=pd.read_csv(\"C:\\Code\\Python_code\\_git\\\\voice\\A-女性.csv\")"
   ]
  },
  {
   "cell_type": "code",
   "execution_count": 32,
   "metadata": {},
   "outputs": [],
   "source": [
    "male_train=male_train[[\"f0\",\"f1\",\"f2\",\"f3\",\"f4\"]]\n",
    "female_train=female_train[[\"f0\",\"f1\",\"f2\",\"f3\",\"f4\"]]\n",
    "male_train[\"Sex\"]=True\n",
    "female_train[\"Sex\"]=False"
   ]
  },
  {
   "cell_type": "code",
   "execution_count": 33,
   "metadata": {},
   "outputs": [],
   "source": [
    "train_data=pd.concat([male_train,female_train],axis=0)\n",
    "train_data.reset_index(drop=True,inplace=True)"
   ]
  },
  {
   "cell_type": "markdown",
   "metadata": {},
   "source": [
    "## データの分割"
   ]
  },
  {
   "cell_type": "code",
   "execution_count": 34,
   "metadata": {},
   "outputs": [],
   "source": [
    "from sklearn.model_selection import train_test_split\n",
    "\n",
    "X=train_data.drop(\"Sex\",axis=1)\n",
    "y=train_data[\"Sex\"]\n",
    "\n",
    "X_train,X_test,y_train,y_test=train_test_split(X,y,test_size=0.2,random_state=42)"
   ]
  },
  {
   "cell_type": "markdown",
   "metadata": {},
   "source": [
    "## 標準化"
   ]
  },
  {
   "cell_type": "code",
   "execution_count": 35,
   "metadata": {},
   "outputs": [],
   "source": [
    "from sklearn.preprocessing import StandardScaler\n",
    "\n",
    "scaler=StandardScaler()\n",
    "\n",
    "X_train=scaler.fit_transform(X_train)\n",
    "X_test=scaler.fit_transform(X_test)"
   ]
  },
  {
   "cell_type": "markdown",
   "metadata": {},
   "source": [
    "# ランダムフォレスト"
   ]
  },
  {
   "cell_type": "markdown",
   "metadata": {},
   "source": [
    "## モデル作成と予測"
   ]
  },
  {
   "cell_type": "code",
   "execution_count": 36,
   "metadata": {},
   "outputs": [
    {
     "name": "stdout",
     "output_type": "stream",
     "text": [
      "accuracy: 0.9047619047619048\n",
      "正答率(%): 90.47619047619048 %\n"
     ]
    }
   ],
   "source": [
    "from sklearn.ensemble import RandomForestClassifier\n",
    "from sklearn.metrics import accuracy_score\n",
    "\n",
    "model=RandomForestClassifier(n_estimators=100,random_state=42)\n",
    "model.fit(X_train,y_train)\n",
    "\n",
    "y_pred=model.predict(X_test)\n",
    "\n",
    "accuracy=accuracy_score(y_test,y_pred)\n",
    "print(\"accuracy:\",accuracy)\n",
    "print(\"正答率(%):\",accuracy*100,\"%\")"
   ]
  },
  {
   "cell_type": "markdown",
   "metadata": {},
   "source": [
    "次にベイズ最適化を行い、精度が上がるのか検証を行う。"
   ]
  },
  {
   "cell_type": "markdown",
   "metadata": {},
   "source": [
    "# ランダムフォレスト（ベイズ最適化）"
   ]
  },
  {
   "cell_type": "markdown",
   "metadata": {},
   "source": [
    "## ベイズ最適化\n",
    "\n",
    "    **gp_params: ガウシアンプロセス（GP）に関するハイパーパラメータを指定します。alphaはガウシアンプロセスの正則化パラメータで、ここでは1e-5（0.00001）に設定されています。ガウシアンプロセスは、ベイズ最適化アルゴリズムの一部として使用され、目的関数の不確かさをモデル化するのに役立ちます。"
   ]
  },
  {
   "cell_type": "code",
   "execution_count": 37,
   "metadata": {},
   "outputs": [
    {
     "name": "stdout",
     "output_type": "stream",
     "text": [
      "|   iter    |  target   | max_fe... | min_sa... | n_esti... |\n",
      "-------------------------------------------------------------\n"
     ]
    },
    {
     "name": "stderr",
     "output_type": "stream",
     "text": [
      "C:\\Users\\morik\\AppData\\Local\\Temp\\ipykernel_13120\\2790233001.py:28: DeprecationWarning: \n",
      "Passing acquisition function parameters or gaussian process parameters to maximize\n",
      "is no longer supported, and will cause an error in future releases. Instead,\n",
      "please use the \"set_gp_params\" method to set the gp params, and pass an instance\n",
      " of bayes_opt.util.UtilityFunction using the acquisition_function argument\n",
      "\n",
      "  randomforest_cv_bo.maximize(n_iter=50, **gp_params)\n"
     ]
    },
    {
     "name": "stdout",
     "output_type": "stream",
     "text": [
      "| \u001b[0m1        \u001b[0m | \u001b[0m0.9277   \u001b[0m | \u001b[0m0.8308   \u001b[0m | \u001b[0m3.253    \u001b[0m | \u001b[0m239.9    \u001b[0m |\n",
      "| \u001b[0m2        \u001b[0m | \u001b[0m0.9277   \u001b[0m | \u001b[0m0.5572   \u001b[0m | \u001b[0m11.97    \u001b[0m | \u001b[0m29.93    \u001b[0m |\n",
      "| \u001b[0m3        \u001b[0m | \u001b[0m0.9039   \u001b[0m | \u001b[0m0.393    \u001b[0m | \u001b[0m6.724    \u001b[0m | \u001b[0m168.2    \u001b[0m |\n",
      "| \u001b[95m4        \u001b[0m | \u001b[95m0.9396   \u001b[0m | \u001b[95m0.8548   \u001b[0m | \u001b[95m6.869    \u001b[0m | \u001b[95m158.2    \u001b[0m |\n",
      "| \u001b[0m5        \u001b[0m | \u001b[0m0.7844   \u001b[0m | \u001b[0m0.1846   \u001b[0m | \u001b[0m15.64    \u001b[0m | \u001b[0m43.28    \u001b[0m |\n",
      "| \u001b[0m6        \u001b[0m | \u001b[0m0.9396   \u001b[0m | \u001b[0m0.7189   \u001b[0m | \u001b[0m8.17     \u001b[0m | \u001b[0m159.1    \u001b[0m |\n",
      "| \u001b[0m7        \u001b[0m | \u001b[0m0.9277   \u001b[0m | \u001b[0m0.8938   \u001b[0m | \u001b[0m8.609    \u001b[0m | \u001b[0m17.62    \u001b[0m |\n",
      "| \u001b[0m8        \u001b[0m | \u001b[0m0.9277   \u001b[0m | \u001b[0m0.975    \u001b[0m | \u001b[0m15.43    \u001b[0m | \u001b[0m147.3    \u001b[0m |\n",
      "| \u001b[0m9        \u001b[0m | \u001b[0m0.9277   \u001b[0m | \u001b[0m0.999    \u001b[0m | \u001b[0m24.27    \u001b[0m | \u001b[0m18.22    \u001b[0m |\n",
      "| \u001b[0m10       \u001b[0m | \u001b[0m0.9277   \u001b[0m | \u001b[0m0.999    \u001b[0m | \u001b[0m25.0     \u001b[0m | \u001b[0m160.2    \u001b[0m |\n",
      "| \u001b[0m11       \u001b[0m | \u001b[0m0.8677   \u001b[0m | \u001b[0m0.1738   \u001b[0m | \u001b[0m20.78    \u001b[0m | \u001b[0m244.7    \u001b[0m |\n",
      "| \u001b[0m12       \u001b[0m | \u001b[0m0.9277   \u001b[0m | \u001b[0m0.1      \u001b[0m | \u001b[0m2.0      \u001b[0m | \u001b[0m141.8    \u001b[0m |\n",
      "| \u001b[0m13       \u001b[0m | \u001b[0m0.9039   \u001b[0m | \u001b[0m0.8738   \u001b[0m | \u001b[0m2.154    \u001b[0m | \u001b[0m223.8    \u001b[0m |\n",
      "| \u001b[0m14       \u001b[0m | \u001b[0m0.9039   \u001b[0m | \u001b[0m0.1      \u001b[0m | \u001b[0m12.7     \u001b[0m | \u001b[0m128.9    \u001b[0m |\n",
      "| \u001b[0m15       \u001b[0m | \u001b[0m0.8801   \u001b[0m | \u001b[0m0.1229   \u001b[0m | \u001b[0m2.044    \u001b[0m | \u001b[0m25.45    \u001b[0m |\n",
      "| \u001b[0m16       \u001b[0m | \u001b[0m0.8682   \u001b[0m | \u001b[0m0.1      \u001b[0m | \u001b[0m16.54    \u001b[0m | \u001b[0m22.74    \u001b[0m |\n",
      "| \u001b[0m17       \u001b[0m | \u001b[0m0.9277   \u001b[0m | \u001b[0m0.8344   \u001b[0m | \u001b[0m10.76    \u001b[0m | \u001b[0m153.7    \u001b[0m |\n",
      "| \u001b[0m18       \u001b[0m | \u001b[0m0.8915   \u001b[0m | \u001b[0m0.5845   \u001b[0m | \u001b[0m17.3     \u001b[0m | \u001b[0m158.1    \u001b[0m |\n",
      "| \u001b[0m19       \u001b[0m | \u001b[0m0.9396   \u001b[0m | \u001b[0m0.9694   \u001b[0m | \u001b[0m7.833    \u001b[0m | \u001b[0m146.7    \u001b[0m |\n",
      "| \u001b[0m20       \u001b[0m | \u001b[0m0.9039   \u001b[0m | \u001b[0m0.98     \u001b[0m | \u001b[0m2.49     \u001b[0m | \u001b[0m150.8    \u001b[0m |\n",
      "| \u001b[0m21       \u001b[0m | \u001b[0m0.9039   \u001b[0m | \u001b[0m0.1      \u001b[0m | \u001b[0m10.19    \u001b[0m | \u001b[0m141.1    \u001b[0m |\n",
      "| \u001b[0m22       \u001b[0m | \u001b[0m0.9034   \u001b[0m | \u001b[0m0.4871   \u001b[0m | \u001b[0m6.644    \u001b[0m | \u001b[0m11.05    \u001b[0m |\n",
      "| \u001b[0m23       \u001b[0m | \u001b[0m0.8439   \u001b[0m | \u001b[0m0.1688   \u001b[0m | \u001b[0m24.77    \u001b[0m | \u001b[0m11.23    \u001b[0m |\n",
      "| \u001b[0m24       \u001b[0m | \u001b[0m0.9039   \u001b[0m | \u001b[0m0.1041   \u001b[0m | \u001b[0m11.33    \u001b[0m | \u001b[0m148.6    \u001b[0m |\n",
      "| \u001b[0m25       \u001b[0m | \u001b[0m0.9039   \u001b[0m | \u001b[0m0.2472   \u001b[0m | \u001b[0m5.206    \u001b[0m | \u001b[0m144.9    \u001b[0m |\n",
      "| \u001b[0m26       \u001b[0m | \u001b[0m0.9039   \u001b[0m | \u001b[0m0.2261   \u001b[0m | \u001b[0m8.508    \u001b[0m | \u001b[0m156.0    \u001b[0m |\n",
      "| \u001b[0m27       \u001b[0m | \u001b[0m0.9396   \u001b[0m | \u001b[0m0.999    \u001b[0m | \u001b[0m6.027    \u001b[0m | \u001b[0m160.9    \u001b[0m |\n",
      "| \u001b[0m28       \u001b[0m | \u001b[0m0.9158   \u001b[0m | \u001b[0m0.4097   \u001b[0m | \u001b[0m2.917    \u001b[0m | \u001b[0m159.0    \u001b[0m |\n",
      "| \u001b[0m29       \u001b[0m | \u001b[0m0.9396   \u001b[0m | \u001b[0m0.999    \u001b[0m | \u001b[0m9.446    \u001b[0m | \u001b[0m162.7    \u001b[0m |\n",
      "| \u001b[0m30       \u001b[0m | \u001b[0m0.9277   \u001b[0m | \u001b[0m0.7719   \u001b[0m | \u001b[0m19.8     \u001b[0m | \u001b[0m145.9    \u001b[0m |\n",
      "| \u001b[0m31       \u001b[0m | \u001b[0m0.8801   \u001b[0m | \u001b[0m0.1625   \u001b[0m | \u001b[0m18.62    \u001b[0m | \u001b[0m150.2    \u001b[0m |\n",
      "| \u001b[0m32       \u001b[0m | \u001b[0m0.9277   \u001b[0m | \u001b[0m0.9709   \u001b[0m | \u001b[0m17.05    \u001b[0m | \u001b[0m143.5    \u001b[0m |\n",
      "| \u001b[0m33       \u001b[0m | \u001b[0m0.9277   \u001b[0m | \u001b[0m0.999    \u001b[0m | \u001b[0m21.87    \u001b[0m | \u001b[0m141.8    \u001b[0m |\n",
      "| \u001b[0m34       \u001b[0m | \u001b[0m0.9277   \u001b[0m | \u001b[0m0.3113   \u001b[0m | \u001b[0m2.029    \u001b[0m | \u001b[0m136.7    \u001b[0m |\n",
      "| \u001b[0m35       \u001b[0m | \u001b[0m0.9277   \u001b[0m | \u001b[0m0.9291   \u001b[0m | \u001b[0m13.65    \u001b[0m | \u001b[0m165.9    \u001b[0m |\n",
      "| \u001b[0m36       \u001b[0m | \u001b[0m0.9039   \u001b[0m | \u001b[0m0.8587   \u001b[0m | \u001b[0m2.947    \u001b[0m | \u001b[0m245.0    \u001b[0m |\n",
      "| \u001b[0m37       \u001b[0m | \u001b[0m0.9277   \u001b[0m | \u001b[0m0.1777   \u001b[0m | \u001b[0m3.582    \u001b[0m | \u001b[0m235.2    \u001b[0m |\n",
      "| \u001b[0m38       \u001b[0m | \u001b[0m0.892    \u001b[0m | \u001b[0m0.3011   \u001b[0m | \u001b[0m8.157    \u001b[0m | \u001b[0m237.6    \u001b[0m |\n",
      "| \u001b[0m39       \u001b[0m | \u001b[0m0.892    \u001b[0m | \u001b[0m0.1      \u001b[0m | \u001b[0m12.52    \u001b[0m | \u001b[0m161.7    \u001b[0m |\n",
      "| \u001b[0m40       \u001b[0m | \u001b[0m0.9277   \u001b[0m | \u001b[0m0.8699   \u001b[0m | \u001b[0m14.4     \u001b[0m | \u001b[0m170.1    \u001b[0m |\n",
      "| \u001b[0m41       \u001b[0m | \u001b[0m0.892    \u001b[0m | \u001b[0m0.1874   \u001b[0m | \u001b[0m18.19    \u001b[0m | \u001b[0m167.9    \u001b[0m |\n",
      "| \u001b[0m42       \u001b[0m | \u001b[0m0.9039   \u001b[0m | \u001b[0m0.365    \u001b[0m | \u001b[0m7.093    \u001b[0m | \u001b[0m163.7    \u001b[0m |\n",
      "| \u001b[0m43       \u001b[0m | \u001b[0m0.9396   \u001b[0m | \u001b[0m0.9545   \u001b[0m | \u001b[0m7.324    \u001b[0m | \u001b[0m149.6    \u001b[0m |\n",
      "| \u001b[0m44       \u001b[0m | \u001b[0m0.9277   \u001b[0m | \u001b[0m0.6609   \u001b[0m | \u001b[0m11.53    \u001b[0m | \u001b[0m168.5    \u001b[0m |\n",
      "| \u001b[0m45       \u001b[0m | \u001b[0m0.9277   \u001b[0m | \u001b[0m0.6264   \u001b[0m | \u001b[0m24.41    \u001b[0m | \u001b[0m144.9    \u001b[0m |\n",
      "| \u001b[0m46       \u001b[0m | \u001b[0m0.9039   \u001b[0m | \u001b[0m0.2835   \u001b[0m | \u001b[0m11.93    \u001b[0m | \u001b[0m174.1    \u001b[0m |\n",
      "| \u001b[0m47       \u001b[0m | \u001b[0m0.9158   \u001b[0m | \u001b[0m0.6385   \u001b[0m | \u001b[0m9.36     \u001b[0m | \u001b[0m33.35    \u001b[0m |\n",
      "| \u001b[0m48       \u001b[0m | \u001b[0m0.9158   \u001b[0m | \u001b[0m0.6267   \u001b[0m | \u001b[0m24.92    \u001b[0m | \u001b[0m21.91    \u001b[0m |\n",
      "| \u001b[0m49       \u001b[0m | \u001b[0m0.9039   \u001b[0m | \u001b[0m0.8494   \u001b[0m | \u001b[0m2.135    \u001b[0m | \u001b[0m231.4    \u001b[0m |\n",
      "| \u001b[0m50       \u001b[0m | \u001b[0m0.8801   \u001b[0m | \u001b[0m0.1763   \u001b[0m | \u001b[0m18.21    \u001b[0m | \u001b[0m138.6    \u001b[0m |\n",
      "| \u001b[0m51       \u001b[0m | \u001b[0m0.9039   \u001b[0m | \u001b[0m0.1201   \u001b[0m | \u001b[0m5.288    \u001b[0m | \u001b[0m138.6    \u001b[0m |\n",
      "| \u001b[0m52       \u001b[0m | \u001b[0m0.9158   \u001b[0m | \u001b[0m0.7689   \u001b[0m | \u001b[0m2.06     \u001b[0m | \u001b[0m132.4    \u001b[0m |\n",
      "| \u001b[0m53       \u001b[0m | \u001b[0m0.9158   \u001b[0m | \u001b[0m0.475    \u001b[0m | \u001b[0m24.86    \u001b[0m | \u001b[0m140.9    \u001b[0m |\n",
      "| \u001b[0m54       \u001b[0m | \u001b[0m0.9277   \u001b[0m | \u001b[0m0.9694   \u001b[0m | \u001b[0m14.75    \u001b[0m | \u001b[0m32.52    \u001b[0m |\n",
      "| \u001b[0m55       \u001b[0m | \u001b[0m0.9277   \u001b[0m | \u001b[0m0.999    \u001b[0m | \u001b[0m11.92    \u001b[0m | \u001b[0m15.11    \u001b[0m |\n",
      "=============================================================\n",
      "{'max_features': 0.854837443929371, 'min_samples_split': 6.868537107338783, 'n_estimators': 158.2219290044299}\n"
     ]
    }
   ],
   "source": [
    "from sklearn.model_selection import cross_val_score\n",
    "from sklearn.ensemble import RandomForestClassifier\n",
    "from bayes_opt import BayesianOptimization\n",
    "\n",
    "def randomforest_cv(n_estimators, min_samples_split, max_features):\n",
    "    val = cross_val_score(\n",
    "        RandomForestClassifier(\n",
    "            n_estimators=int(n_estimators),\n",
    "            min_samples_split=int(min_samples_split),\n",
    "            max_features=max_features,\n",
    "            random_state=42\n",
    "        ),\n",
    "        X_train, y_train,\n",
    "        scoring = 'accuracy',\n",
    "        cv = 3, # 3-fold\n",
    "        n_jobs = -1 # use all CPUs\n",
    "    ).mean()\n",
    "    return val\n",
    "\n",
    "randomforest_cv_bo = BayesianOptimization(\n",
    "    randomforest_cv,\n",
    "    {'n_estimators': (10, 250),\n",
    "    'min_samples_split': (2, 25),\n",
    "    'max_features': (0.1, 0.999)}\n",
    ")\n",
    "\n",
    "gp_params = {\"alpha\": 1e-5}\n",
    "randomforest_cv_bo.maximize(n_iter=50, **gp_params)\n",
    "\n",
    "best_params=randomforest_cv_bo.max[\"params\"]\n",
    "print(best_params)\n"
   ]
  },
  {
   "cell_type": "markdown",
   "metadata": {},
   "source": [
    "## モデル作成と予測"
   ]
  },
  {
   "cell_type": "code",
   "execution_count": 38,
   "metadata": {},
   "outputs": [
    {
     "name": "stdout",
     "output_type": "stream",
     "text": [
      "accuracy: 1.0\n",
      "正答率(%): 100.0 %\n"
     ]
    }
   ],
   "source": [
    "best_model=RandomForestClassifier(\n",
    "    n_estimators=int(best_params[\"n_estimators\"]),\n",
    "    min_samples_split=int(best_params[\"min_samples_split\"]),\n",
    "    max_features=best_params[\"max_features\"]\n",
    ")\n",
    "\n",
    "best_model.fit(X_train,y_train)\n",
    "\n",
    "y_pred=best_model.predict(X_test)\n",
    "\n",
    "accuracy=accuracy_score(y_test,y_pred)\n",
    "print(\"accuracy:\",accuracy)\n",
    "print(\"正答率(%):\",accuracy*100,\"%\")"
   ]
  }
 ],
 "metadata": {
  "kernelspec": {
   "display_name": "Python 3",
   "language": "python",
   "name": "python3"
  },
  "language_info": {
   "codemirror_mode": {
    "name": "ipython",
    "version": 3
   },
   "file_extension": ".py",
   "mimetype": "text/x-python",
   "name": "python",
   "nbconvert_exporter": "python",
   "pygments_lexer": "ipython3",
   "version": "3.10.6"
  }
 },
 "nbformat": 4,
 "nbformat_minor": 2
}
