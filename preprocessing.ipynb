{
 "cells": [
  {
   "cell_type": "markdown",
   "metadata": {},
   "source": [
    "# データ準備"
   ]
  },
  {
   "cell_type": "markdown",
   "metadata": {},
   "source": [
    "## Excelシートからcsv形式で保存"
   ]
  },
  {
   "cell_type": "markdown",
   "metadata": {},
   "source": [
    "\"シート名.csv\"の形で保存を行う。"
   ]
  },
  {
   "cell_type": "code",
   "execution_count": null,
   "metadata": {},
   "outputs": [],
   "source": [
    "import pandas as pd\n",
    "\n",
    "path=\"音声データのエクセルファイルパス\"\n",
    "\n",
    "input_file=pd.ExcelFile(path)\n",
    "sheet=input_file.sheet_names\n",
    "\n",
    "for i in range(0,len(sheet)):\n",
    "\n",
    "        data=pd.read_excel(path,i,index_col=None)\n",
    "        data.to_csv(sheet[i]+\".csv\",encoding=\"shift_jis\")"
   ]
  },
  {
   "cell_type": "markdown",
   "metadata": {},
   "source": [
    "## csvからデータを取り出す。"
   ]
  },
  {
   "cell_type": "markdown",
   "metadata": {},
   "source": [
    "male_train : 男性音声データ\n",
    ">\n",
    "female_train : 女性音声データ"
   ]
  },
  {
   "cell_type": "code",
   "execution_count": null,
   "metadata": {},
   "outputs": [],
   "source": [
    "male_train=pd.read_csv(\"csvファイルパス\")\n",
    "female_train=pd.read_csv(\"csvファイルパス\")"
   ]
  },
  {
   "cell_type": "markdown",
   "metadata": {},
   "source": [
    "## データ加工"
   ]
  },
  {
   "cell_type": "markdown",
   "metadata": {},
   "source": [
    "male_train,female_trainのデータを[f0,f1,f2,f3,f4]の範囲にし、male_train[\"Sex\"], female_train[\"Sex\"]の列を追加し、maleであればTrue、femaleであればFalseにする"
   ]
  },
  {
   "cell_type": "code",
   "execution_count": null,
   "metadata": {},
   "outputs": [],
   "source": [
    "male_train=male_train[[\"f0\",\"f1\",\"f2\",\"f3\",\"f4\"]]\n",
    "female_train=female_train[[\"f0\",\"f1\",\"f2\",\"f3\",\"f4\"]]\n",
    "male_train[\"Sex\"]=True\n",
    "female_train[\"Sex\"]=False"
   ]
  },
  {
   "cell_type": "markdown",
   "metadata": {},
   "source": [
    "male_trainとfemale_trainを行で結合を行い。インデックスを付ける"
   ]
  },
  {
   "cell_type": "code",
   "execution_count": null,
   "metadata": {},
   "outputs": [],
   "source": [
    "train_data=pd.concat([male_train,female_train],axis=0)\n",
    "train_data.reset_index(drop=True,inplace=True)"
   ]
  }
 ],
 "metadata": {
  "language_info": {
   "name": "python"
  }
 },
 "nbformat": 4,
 "nbformat_minor": 2
}
